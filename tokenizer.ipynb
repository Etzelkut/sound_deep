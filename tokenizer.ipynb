{
  "nbformat": 4,
  "nbformat_minor": 0,
  "metadata": {
    "colab": {
      "name": "check.ipynb",
      "provenance": [],
      "collapsed_sections": []
    },
    "kernelspec": {
      "name": "python3",
      "display_name": "Python 3"
    }
  },
  "cells": [
    {
      "cell_type": "code",
      "metadata": {
        "id": "RM-O_6DT3CgJ",
        "outputId": "ba19ae96-1aa9-41ed-befd-7f6747730b58",
        "colab": {
          "base_uri": "https://localhost:8080/"
        }
      },
      "source": [
        "!pip install torchaudio -f https://download.pytorch.org/whl/torch_stable.html\n",
        "!pip install allennlp\n",
        "!pip install phonemizer\n",
        "!apt-get install festival espeak-ng mbrola"
      ],
      "execution_count": 62,
      "outputs": [
        {
          "output_type": "stream",
          "text": [
            "Looking in links: https://download.pytorch.org/whl/torch_stable.html\n",
            "Requirement already satisfied: torchaudio in /usr/local/lib/python3.6/dist-packages (0.7.0)\n",
            "Requirement already satisfied: torch==1.7.0 in /usr/local/lib/python3.6/dist-packages (from torchaudio) (1.7.0+cu101)\n",
            "Requirement already satisfied: typing-extensions in /usr/local/lib/python3.6/dist-packages (from torch==1.7.0->torchaudio) (3.7.4.3)\n",
            "Requirement already satisfied: dataclasses in /usr/local/lib/python3.6/dist-packages (from torch==1.7.0->torchaudio) (0.7)\n",
            "Requirement already satisfied: numpy in /usr/local/lib/python3.6/dist-packages (from torch==1.7.0->torchaudio) (1.18.5)\n",
            "Requirement already satisfied: future in /usr/local/lib/python3.6/dist-packages (from torch==1.7.0->torchaudio) (0.16.0)\n",
            "Requirement already satisfied: allennlp in /usr/local/lib/python3.6/dist-packages (1.2.0)\n",
            "Requirement already satisfied: transformers<3.5,>=3.1 in /usr/local/lib/python3.6/dist-packages (from allennlp) (3.4.0)\n",
            "Requirement already satisfied: filelock<3.1,>=3.0 in /usr/local/lib/python3.6/dist-packages (from allennlp) (3.0.12)\n",
            "Requirement already satisfied: h5py in /usr/local/lib/python3.6/dist-packages (from allennlp) (2.10.0)\n",
            "Requirement already satisfied: jsonnet>=0.10.0; sys_platform != \"win32\" in /usr/local/lib/python3.6/dist-packages (from allennlp) (0.16.0)\n",
            "Requirement already satisfied: spacy<2.4,>=2.1.0 in /usr/local/lib/python3.6/dist-packages (from allennlp) (2.2.4)\n",
            "Requirement already satisfied: pytest in /usr/local/lib/python3.6/dist-packages (from allennlp) (3.6.4)\n",
            "Requirement already satisfied: requests>=2.18 in /usr/local/lib/python3.6/dist-packages (from allennlp) (2.23.0)\n",
            "Requirement already satisfied: numpy in /usr/local/lib/python3.6/dist-packages (from allennlp) (1.18.5)\n",
            "Requirement already satisfied: nltk in /usr/local/lib/python3.6/dist-packages (from allennlp) (3.2.5)\n",
            "Requirement already satisfied: tensorboardX>=1.2 in /usr/local/lib/python3.6/dist-packages (from allennlp) (2.1)\n",
            "Requirement already satisfied: scikit-learn in /usr/local/lib/python3.6/dist-packages (from allennlp) (0.22.2.post1)\n",
            "Requirement already satisfied: jsonpickle in /usr/local/lib/python3.6/dist-packages (from allennlp) (1.4.1)\n",
            "Requirement already satisfied: overrides==3.1.0 in /usr/local/lib/python3.6/dist-packages (from allennlp) (3.1.0)\n",
            "Requirement already satisfied: scipy in /usr/local/lib/python3.6/dist-packages (from allennlp) (1.4.1)\n",
            "Requirement already satisfied: torch<1.8.0,>=1.6.0 in /usr/local/lib/python3.6/dist-packages (from allennlp) (1.7.0+cu101)\n",
            "Requirement already satisfied: dataclasses; python_version < \"3.7\" in /usr/local/lib/python3.6/dist-packages (from allennlp) (0.7)\n",
            "Requirement already satisfied: boto3<2.0,>=1.14 in /usr/local/lib/python3.6/dist-packages (from allennlp) (1.16.13)\n",
            "Requirement already satisfied: tqdm>=4.19 in /usr/local/lib/python3.6/dist-packages (from allennlp) (4.41.1)\n",
            "Requirement already satisfied: regex!=2019.12.17 in /usr/local/lib/python3.6/dist-packages (from transformers<3.5,>=3.1->allennlp) (2019.12.20)\n",
            "Requirement already satisfied: tokenizers==0.9.2 in /usr/local/lib/python3.6/dist-packages (from transformers<3.5,>=3.1->allennlp) (0.9.2)\n",
            "Requirement already satisfied: packaging in /usr/local/lib/python3.6/dist-packages (from transformers<3.5,>=3.1->allennlp) (20.4)\n",
            "Requirement already satisfied: sacremoses in /usr/local/lib/python3.6/dist-packages (from transformers<3.5,>=3.1->allennlp) (0.0.43)\n",
            "Requirement already satisfied: protobuf in /usr/local/lib/python3.6/dist-packages (from transformers<3.5,>=3.1->allennlp) (3.12.4)\n",
            "Requirement already satisfied: sentencepiece!=0.1.92 in /usr/local/lib/python3.6/dist-packages (from transformers<3.5,>=3.1->allennlp) (0.1.94)\n",
            "Requirement already satisfied: six in /usr/local/lib/python3.6/dist-packages (from h5py->allennlp) (1.15.0)\n",
            "Requirement already satisfied: thinc==7.4.0 in /usr/local/lib/python3.6/dist-packages (from spacy<2.4,>=2.1.0->allennlp) (7.4.0)\n",
            "Requirement already satisfied: srsly<1.1.0,>=1.0.2 in /usr/local/lib/python3.6/dist-packages (from spacy<2.4,>=2.1.0->allennlp) (1.0.2)\n",
            "Requirement already satisfied: wasabi<1.1.0,>=0.4.0 in /usr/local/lib/python3.6/dist-packages (from spacy<2.4,>=2.1.0->allennlp) (0.8.0)\n",
            "Requirement already satisfied: catalogue<1.1.0,>=0.0.7 in /usr/local/lib/python3.6/dist-packages (from spacy<2.4,>=2.1.0->allennlp) (1.0.0)\n",
            "Requirement already satisfied: murmurhash<1.1.0,>=0.28.0 in /usr/local/lib/python3.6/dist-packages (from spacy<2.4,>=2.1.0->allennlp) (1.0.3)\n",
            "Requirement already satisfied: preshed<3.1.0,>=3.0.2 in /usr/local/lib/python3.6/dist-packages (from spacy<2.4,>=2.1.0->allennlp) (3.0.2)\n",
            "Requirement already satisfied: cymem<2.1.0,>=2.0.2 in /usr/local/lib/python3.6/dist-packages (from spacy<2.4,>=2.1.0->allennlp) (2.0.4)\n",
            "Requirement already satisfied: blis<0.5.0,>=0.4.0 in /usr/local/lib/python3.6/dist-packages (from spacy<2.4,>=2.1.0->allennlp) (0.4.1)\n",
            "Requirement already satisfied: setuptools in /usr/local/lib/python3.6/dist-packages (from spacy<2.4,>=2.1.0->allennlp) (50.3.2)\n",
            "Requirement already satisfied: plac<1.2.0,>=0.9.6 in /usr/local/lib/python3.6/dist-packages (from spacy<2.4,>=2.1.0->allennlp) (1.1.3)\n",
            "Requirement already satisfied: attrs>=17.4.0 in /usr/local/lib/python3.6/dist-packages (from pytest->allennlp) (20.2.0)\n",
            "Requirement already satisfied: atomicwrites>=1.0 in /usr/local/lib/python3.6/dist-packages (from pytest->allennlp) (1.4.0)\n",
            "Requirement already satisfied: pluggy<0.8,>=0.5 in /usr/local/lib/python3.6/dist-packages (from pytest->allennlp) (0.7.1)\n",
            "Requirement already satisfied: py>=1.5.0 in /usr/local/lib/python3.6/dist-packages (from pytest->allennlp) (1.9.0)\n",
            "Requirement already satisfied: more-itertools>=4.0.0 in /usr/local/lib/python3.6/dist-packages (from pytest->allennlp) (8.6.0)\n",
            "Requirement already satisfied: certifi>=2017.4.17 in /usr/local/lib/python3.6/dist-packages (from requests>=2.18->allennlp) (2020.6.20)\n",
            "Requirement already satisfied: urllib3!=1.25.0,!=1.25.1,<1.26,>=1.21.1 in /usr/local/lib/python3.6/dist-packages (from requests>=2.18->allennlp) (1.24.3)\n",
            "Requirement already satisfied: idna<3,>=2.5 in /usr/local/lib/python3.6/dist-packages (from requests>=2.18->allennlp) (2.10)\n",
            "Requirement already satisfied: chardet<4,>=3.0.2 in /usr/local/lib/python3.6/dist-packages (from requests>=2.18->allennlp) (3.0.4)\n",
            "Requirement already satisfied: joblib>=0.11 in /usr/local/lib/python3.6/dist-packages (from scikit-learn->allennlp) (0.17.0)\n",
            "Requirement already satisfied: importlib-metadata in /usr/local/lib/python3.6/dist-packages (from jsonpickle->allennlp) (2.0.0)\n",
            "Requirement already satisfied: future in /usr/local/lib/python3.6/dist-packages (from torch<1.8.0,>=1.6.0->allennlp) (0.16.0)\n",
            "Requirement already satisfied: typing-extensions in /usr/local/lib/python3.6/dist-packages (from torch<1.8.0,>=1.6.0->allennlp) (3.7.4.3)\n",
            "Requirement already satisfied: jmespath<1.0.0,>=0.7.1 in /usr/local/lib/python3.6/dist-packages (from boto3<2.0,>=1.14->allennlp) (0.10.0)\n",
            "Requirement already satisfied: botocore<1.20.0,>=1.19.13 in /usr/local/lib/python3.6/dist-packages (from boto3<2.0,>=1.14->allennlp) (1.19.13)\n",
            "Requirement already satisfied: s3transfer<0.4.0,>=0.3.0 in /usr/local/lib/python3.6/dist-packages (from boto3<2.0,>=1.14->allennlp) (0.3.3)\n",
            "Requirement already satisfied: pyparsing>=2.0.2 in /usr/local/lib/python3.6/dist-packages (from packaging->transformers<3.5,>=3.1->allennlp) (2.4.7)\n",
            "Requirement already satisfied: click in /usr/local/lib/python3.6/dist-packages (from sacremoses->transformers<3.5,>=3.1->allennlp) (7.1.2)\n",
            "Requirement already satisfied: zipp>=0.5 in /usr/local/lib/python3.6/dist-packages (from importlib-metadata->jsonpickle->allennlp) (3.4.0)\n",
            "Requirement already satisfied: python-dateutil<3.0.0,>=2.1 in /usr/local/lib/python3.6/dist-packages (from botocore<1.20.0,>=1.19.13->boto3<2.0,>=1.14->allennlp) (2.8.1)\n",
            "Collecting phonemizer\n",
            "  Using cached https://files.pythonhosted.org/packages/e1/ec/eb95ec96dc5374ba339d47c5252d62e9a7b1fbd5c9e4eefebc0d7e25381d/phonemizer-2.2.1-py3-none-any.whl\n",
            "Requirement already satisfied: attrs>=18.1 in /usr/local/lib/python3.6/dist-packages (from phonemizer) (20.2.0)\n",
            "Collecting segments\n",
            "  Using cached https://files.pythonhosted.org/packages/5b/a0/0c3fe64787745c39eb3f2f5f5f9ed8d008d9ef22e9d7f9f52f71ea4712f7/segments-2.1.3-py2.py3-none-any.whl\n",
            "Requirement already satisfied: joblib in /usr/local/lib/python3.6/dist-packages (from phonemizer) (0.17.0)\n",
            "Collecting csvw>=1.5.6\n",
            "  Using cached https://files.pythonhosted.org/packages/3f/e6/4faefc40bf1a3e8418cf97b5c3e7619d916692dd4202a5a1e40f36802f78/csvw-1.8.0-py2.py3-none-any.whl\n",
            "Requirement already satisfied: regex in /usr/local/lib/python3.6/dist-packages (from segments->phonemizer) (2019.12.20)\n",
            "Collecting clldutils>=1.7.3\n",
            "  Using cached https://files.pythonhosted.org/packages/4e/dd/6afa78497c503e8ad02596b27932df7f3216c0d10b4b7785d942a59b9cfd/clldutils-3.5.4-py2.py3-none-any.whl\n",
            "Requirement already satisfied: python-dateutil in /usr/local/lib/python3.6/dist-packages (from csvw>=1.5.6->segments->phonemizer) (2.8.1)\n",
            "Requirement already satisfied: uritemplate>=3.0.0 in /usr/local/lib/python3.6/dist-packages (from csvw>=1.5.6->segments->phonemizer) (3.0.1)\n",
            "Collecting isodate\n",
            "  Using cached https://files.pythonhosted.org/packages/9b/9f/b36f7774ff5ea8e428fdcfc4bb332c39ee5b9362ddd3d40d9516a55221b2/isodate-0.6.0-py2.py3-none-any.whl\n",
            "Collecting rfc3986\n",
            "  Using cached https://files.pythonhosted.org/packages/78/be/7b8b99fd74ff5684225f50dd0e865393d2265656ef3b4ba9eaaaffe622b8/rfc3986-1.4.0-py2.py3-none-any.whl\n",
            "Collecting colorlog\n",
            "  Using cached https://files.pythonhosted.org/packages/4c/c5/3b70cdb81cc865e8a554d7945ed5e09c2973056294ae5a3123345a1d93a3/colorlog-4.5.0-py2.py3-none-any.whl\n",
            "Requirement already satisfied: tabulate>=0.7.7 in /usr/local/lib/python3.6/dist-packages (from clldutils>=1.7.3->segments->phonemizer) (0.8.7)\n",
            "Requirement already satisfied: six>=1.5 in /usr/local/lib/python3.6/dist-packages (from python-dateutil->csvw>=1.5.6->segments->phonemizer) (1.15.0)\n",
            "Installing collected packages: isodate, rfc3986, csvw, colorlog, clldutils, segments, phonemizer\n",
            "Successfully installed clldutils-3.5.4 colorlog-4.5.0 csvw-1.8.0 isodate-0.6.0 phonemizer-2.2.1 rfc3986-1.4.0 segments-2.1.3\n",
            "Reading package lists... Done\n",
            "Building dependency tree       \n",
            "Reading state information... Done\n",
            "The following additional packages will be installed:\n",
            "  alsa-utils espeak-ng-data festlex-cmu festlex-poslex festvox-kallpc16k\n",
            "  libespeak-ng1 libestools2.5 libfftw3-single3 libnewt0.52 libpcaudio0\n",
            "  libsonic0 sgml-base whiptail\n",
            "Suggested packages:\n",
            "  pidgin-festival festival-freebsoft-utils libfftw3-bin libfftw3-dev\n",
            "  mbrola-voice espeak cicero sgml-base-doc\n",
            "The following NEW packages will be installed:\n",
            "  alsa-utils espeak-ng espeak-ng-data festival festlex-cmu festlex-poslex\n",
            "  festvox-kallpc16k libespeak-ng1 libestools2.5 libfftw3-single3 libnewt0.52\n",
            "  libpcaudio0 libsonic0 mbrola sgml-base whiptail\n",
            "0 upgraded, 16 newly installed, 0 to remove and 11 not upgraded.\n",
            "Need to get 12.2 MB of archives.\n",
            "After this operation, 37.5 MB of additional disk space will be used.\n",
            "Get:1 http://archive.ubuntu.com/ubuntu bionic/main amd64 sgml-base all 1.29 [12.3 kB]\n",
            "Get:2 http://archive.ubuntu.com/ubuntu bionic/main amd64 libnewt0.52 amd64 0.52.20-1ubuntu1 [40.6 kB]\n",
            "Get:3 http://archive.ubuntu.com/ubuntu bionic/main amd64 whiptail amd64 0.52.20-1ubuntu1 [16.6 kB]\n",
            "Get:4 http://archive.ubuntu.com/ubuntu bionic/main amd64 libfftw3-single3 amd64 3.3.7-1 [764 kB]\n",
            "Get:5 http://archive.ubuntu.com/ubuntu bionic/main amd64 alsa-utils amd64 1.1.3-1ubuntu1 [966 kB]\n",
            "Get:6 http://archive.ubuntu.com/ubuntu bionic/main amd64 libpcaudio0 amd64 1.0-1 [6,536 B]\n",
            "Get:7 http://archive.ubuntu.com/ubuntu bionic/main amd64 libsonic0 amd64 0.2.0-6 [13.4 kB]\n",
            "Get:8 http://archive.ubuntu.com/ubuntu bionic/main amd64 espeak-ng-data amd64 1.49.2+dfsg-1 [3,469 kB]\n",
            "Get:9 http://archive.ubuntu.com/ubuntu bionic/main amd64 libespeak-ng1 amd64 1.49.2+dfsg-1 [187 kB]\n",
            "Get:10 http://archive.ubuntu.com/ubuntu bionic/universe amd64 espeak-ng amd64 1.49.2+dfsg-1 [282 kB]\n",
            "Get:11 http://archive.ubuntu.com/ubuntu bionic/universe amd64 libestools2.5 amd64 1:2.5.0-4 [889 kB]\n",
            "Get:12 http://archive.ubuntu.com/ubuntu bionic/universe amd64 festival amd64 1:2.5.0-1 [804 kB]\n",
            "Get:13 http://archive.ubuntu.com/ubuntu bionic/universe amd64 festlex-cmu all 2.4-1 [895 kB]\n",
            "Get:14 http://archive.ubuntu.com/ubuntu bionic/universe amd64 festlex-poslex all 2.4-1 [186 kB]\n",
            "Get:15 http://archive.ubuntu.com/ubuntu bionic/multiverse amd64 mbrola amd64 3.01h+2-3 [37.9 kB]\n",
            "Get:16 http://archive.ubuntu.com/ubuntu bionic/universe amd64 festvox-kallpc16k all 2.4-1 [3,614 kB]\n",
            "Fetched 12.2 MB in 2s (6,219 kB/s)\n",
            "Selecting previously unselected package sgml-base.\n",
            "(Reading database ... 144628 files and directories currently installed.)\n",
            "Preparing to unpack .../00-sgml-base_1.29_all.deb ...\n",
            "Unpacking sgml-base (1.29) ...\n",
            "Selecting previously unselected package libnewt0.52:amd64.\n",
            "Preparing to unpack .../01-libnewt0.52_0.52.20-1ubuntu1_amd64.deb ...\n",
            "Unpacking libnewt0.52:amd64 (0.52.20-1ubuntu1) ...\n",
            "Selecting previously unselected package whiptail.\n",
            "Preparing to unpack .../02-whiptail_0.52.20-1ubuntu1_amd64.deb ...\n",
            "Unpacking whiptail (0.52.20-1ubuntu1) ...\n",
            "Selecting previously unselected package libfftw3-single3:amd64.\n",
            "Preparing to unpack .../03-libfftw3-single3_3.3.7-1_amd64.deb ...\n",
            "Unpacking libfftw3-single3:amd64 (3.3.7-1) ...\n",
            "Selecting previously unselected package alsa-utils.\n",
            "Preparing to unpack .../04-alsa-utils_1.1.3-1ubuntu1_amd64.deb ...\n",
            "Unpacking alsa-utils (1.1.3-1ubuntu1) ...\n",
            "Selecting previously unselected package libpcaudio0.\n",
            "Preparing to unpack .../05-libpcaudio0_1.0-1_amd64.deb ...\n",
            "Unpacking libpcaudio0 (1.0-1) ...\n",
            "Selecting previously unselected package libsonic0:amd64.\n",
            "Preparing to unpack .../06-libsonic0_0.2.0-6_amd64.deb ...\n",
            "Unpacking libsonic0:amd64 (0.2.0-6) ...\n",
            "Selecting previously unselected package espeak-ng-data:amd64.\n",
            "Preparing to unpack .../07-espeak-ng-data_1.49.2+dfsg-1_amd64.deb ...\n",
            "Unpacking espeak-ng-data:amd64 (1.49.2+dfsg-1) ...\n",
            "Selecting previously unselected package libespeak-ng1:amd64.\n",
            "Preparing to unpack .../08-libespeak-ng1_1.49.2+dfsg-1_amd64.deb ...\n",
            "Unpacking libespeak-ng1:amd64 (1.49.2+dfsg-1) ...\n",
            "Selecting previously unselected package espeak-ng.\n",
            "Preparing to unpack .../09-espeak-ng_1.49.2+dfsg-1_amd64.deb ...\n",
            "Unpacking espeak-ng (1.49.2+dfsg-1) ...\n",
            "Selecting previously unselected package libestools2.5:amd64.\n",
            "Preparing to unpack .../10-libestools2.5_1%3a2.5.0-4_amd64.deb ...\n",
            "Unpacking libestools2.5:amd64 (1:2.5.0-4) ...\n",
            "Selecting previously unselected package festival.\n",
            "Preparing to unpack .../11-festival_1%3a2.5.0-1_amd64.deb ...\n",
            "Unpacking festival (1:2.5.0-1) ...\n",
            "Selecting previously unselected package festlex-cmu.\n",
            "Preparing to unpack .../12-festlex-cmu_2.4-1_all.deb ...\n",
            "Unpacking festlex-cmu (2.4-1) ...\n",
            "Selecting previously unselected package festlex-poslex.\n",
            "Preparing to unpack .../13-festlex-poslex_2.4-1_all.deb ...\n",
            "Unpacking festlex-poslex (2.4-1) ...\n",
            "Selecting previously unselected package mbrola.\n",
            "Preparing to unpack .../14-mbrola_3.01h+2-3_amd64.deb ...\n",
            "Unpacking mbrola (3.01h+2-3) ...\n",
            "Selecting previously unselected package festvox-kallpc16k.\n",
            "Preparing to unpack .../15-festvox-kallpc16k_2.4-1_all.deb ...\n",
            "Unpacking festvox-kallpc16k (2.4-1) ...\n",
            "Setting up mbrola (3.01h+2-3) ...\n",
            "Setting up libestools2.5:amd64 (1:2.5.0-4) ...\n",
            "Setting up sgml-base (1.29) ...\n",
            "Setting up libsonic0:amd64 (0.2.0-6) ...\n",
            "Setting up libpcaudio0 (1.0-1) ...\n",
            "Setting up espeak-ng-data:amd64 (1.49.2+dfsg-1) ...\n",
            "Setting up libfftw3-single3:amd64 (3.3.7-1) ...\n",
            "Setting up libnewt0.52:amd64 (0.52.20-1ubuntu1) ...\n",
            "update-alternatives: using /etc/newt/palette.ubuntu to provide /etc/newt/palette (newt-palette) in auto mode\n",
            "Setting up whiptail (0.52.20-1ubuntu1) ...\n",
            "Setting up alsa-utils (1.1.3-1ubuntu1) ...\n",
            "Setting up libespeak-ng1:amd64 (1.49.2+dfsg-1) ...\n",
            "Setting up festival (1:2.5.0-1) ...\n",
            "Setting up espeak-ng (1.49.2+dfsg-1) ...\n",
            "Processing triggers for libc-bin (2.27-3ubuntu1.2) ...\n",
            "/sbin/ldconfig.real: /usr/local/lib/python3.6/dist-packages/ideep4py/lib/libmkldnn.so.0 is not a symbolic link\n",
            "\n",
            "Processing triggers for systemd (237-3ubuntu10.42) ...\n",
            "Processing triggers for man-db (2.8.3-2ubuntu0.1) ...\n",
            "Processing triggers for sgml-base (1.29) ...\n",
            "Setting up festlex-cmu (2.4-1) ...\n",
            "Setting up festlex-poslex (2.4-1) ...\n",
            "Setting up festvox-kallpc16k (2.4-1) ...\n"
          ],
          "name": "stdout"
        }
      ]
    },
    {
      "cell_type": "code",
      "metadata": {
        "id": "-NaG8AJLCPUP"
      },
      "source": [
        "import numpy as np\n",
        "import os\n",
        "from torchaudio.datasets.utils import download_url, extract_archive, unicode_csv_reader\n",
        "\n",
        "import torch\n",
        "from allennlp.data import Token, Vocabulary\n",
        "\n",
        "\n",
        "from allennlp.data.fields import ListField, TextField\n",
        "\n",
        "from allennlp.data.token_indexers import (\n",
        "    TokenCharactersIndexer,SingleIdTokenIndexer\n",
        ")\n",
        "\n",
        "\n",
        "from allennlp.data.tokenizers import (\n",
        "    CharacterTokenizer,\n",
        ")\n",
        "\n",
        "from allennlp.data.tokenizers import (\n",
        "    SpacyTokenizer,\n",
        ")\n",
        "\n",
        "from allennlp.nn import util as nn_util\n",
        "\n",
        "import phonemizer\n",
        "from phonemizer import phonemize\n",
        "from phonemizer import separator\n",
        "\n",
        "import warnings\n",
        "warnings.filterwarnings(\"ignore\")"
      ],
      "execution_count": 63,
      "outputs": []
    },
    {
      "cell_type": "code",
      "metadata": {
        "id": "Zj1Sm1p3BbKn"
      },
      "source": [
        "fo = open(\"encode.txt\", \"r\")\n",
        "alphabet=[]\n",
        "\n",
        "for i in range(65):\n",
        "  line = fo.readline()\n",
        "  alphabet.append(line[0:-1])\n",
        "\n",
        "# Close opend file\n",
        "fo.close()\n"
      ],
      "execution_count": 44,
      "outputs": []
    },
    {
      "cell_type": "code",
      "metadata": {
        "id": "d2hDg6BSCY2D",
        "outputId": "4ee0dd12-1466-4c69-cd7b-ea7bed4fc68e",
        "colab": {
          "base_uri": "https://localhost:8080/"
        }
      },
      "source": [
        "alphabet"
      ],
      "execution_count": 45,
      "outputs": [
        {
          "output_type": "execute_result",
          "data": {
            "text/plain": [
              "['p',\n",
              " 'ɹ',\n",
              " 'ɪ',\n",
              " 'n',\n",
              " 't',\n",
              " 'ŋ',\n",
              " 'ð',\n",
              " 'oʊ',\n",
              " 'l',\n",
              " 'i',\n",
              " 's',\n",
              " 'ɛ',\n",
              " 'w',\n",
              " 'tʃ',\n",
              " 'iː',\n",
              " 'ɑː',\n",
              " 'æ',\n",
              " 'z',\n",
              " 'ə',\n",
              " 'k',\n",
              " 'ɜː',\n",
              " 'd',\n",
              " 'f',\n",
              " 'ɚ',\n",
              " 'ʌ',\n",
              " 'm',\n",
              " 'ɔː',\n",
              " 'ɑːɹ',\n",
              " 'ᵻ',\n",
              " 'b',\n",
              " 'ʃ',\n",
              " 'v',\n",
              " 'aɪ',\n",
              " 'ʊ',\n",
              " 'ɡ',\n",
              " 'eɪ',\n",
              " 'ɔːɹ',\n",
              " 'oːɹ',\n",
              " 'ɾ',\n",
              " 'ɐ',\n",
              " 'uː',\n",
              " 'əl',\n",
              " 'θ',\n",
              " 'dʒ',\n",
              " 'j',\n",
              " 'aʊ',\n",
              " 'h',\n",
              " 'ɔ',\n",
              " 'ɛɹ',\n",
              " 'ʔ',\n",
              " 'n̩',\n",
              " 'ɪɹ',\n",
              " 'ʊɹ',\n",
              " 'aɪɚ',\n",
              " 'ʒ',\n",
              " 'oː',\n",
              " 'iə',\n",
              " 'r',\n",
              " 'ɔɪ',\n",
              " 'aɪə',\n",
              " 'õ',\n",
              " '(gn)',\n",
              " 'a',\n",
              " 'ɣ',\n",
              " 'x']"
            ]
          },
          "metadata": {
            "tags": []
          },
          "execution_count": 45
        }
      ]
    },
    {
      "cell_type": "code",
      "metadata": {
        "id": "ZoDzVJFlRy2P"
      },
      "source": [
        "alphabet = list(\"abcdefghijklmnopqrstuvwxyz0123456789-,;.!?:'\\\"/\\\\|_@#$%^&*~`+-=<>()[]{}\") + [\" \", \"  \"]"
      ],
      "execution_count": 34,
      "outputs": []
    },
    {
      "cell_type": "code",
      "metadata": {
        "id": "F77lSlD5CPgv",
        "outputId": "fe7deab1-d836-4d83-d4ee-4a43bc5dc27c",
        "colab": {
          "base_uri": "https://localhost:8080/"
        }
      },
      "source": [
        "vocab = Vocabulary()\n",
        "vocab.add_tokens_to_namespace(\n",
        "    alphabet,\n",
        "    namespace='token_vocab')\n",
        "\n",
        "#vocab.add_tokens_to_namespace(['DT', 'VBZ', 'NN', '.'], namespace='pos_tag_vocab')"
      ],
      "execution_count": 53,
      "outputs": [
        {
          "output_type": "execute_result",
          "data": {
            "text/plain": [
              "[2,\n",
              " 3,\n",
              " 4,\n",
              " 5,\n",
              " 6,\n",
              " 7,\n",
              " 8,\n",
              " 9,\n",
              " 10,\n",
              " 11,\n",
              " 12,\n",
              " 13,\n",
              " 14,\n",
              " 15,\n",
              " 16,\n",
              " 17,\n",
              " 18,\n",
              " 19,\n",
              " 20,\n",
              " 21,\n",
              " 22,\n",
              " 23,\n",
              " 24,\n",
              " 25,\n",
              " 26,\n",
              " 27,\n",
              " 28,\n",
              " 29,\n",
              " 30,\n",
              " 31,\n",
              " 32,\n",
              " 33,\n",
              " 34,\n",
              " 35,\n",
              " 36,\n",
              " 37,\n",
              " 38,\n",
              " 39,\n",
              " 40,\n",
              " 41,\n",
              " 42,\n",
              " 43,\n",
              " 44,\n",
              " 45,\n",
              " 46,\n",
              " 47,\n",
              " 48,\n",
              " 49,\n",
              " 50,\n",
              " 51,\n",
              " 52,\n",
              " 53,\n",
              " 54,\n",
              " 55,\n",
              " 56,\n",
              " 57,\n",
              " 58,\n",
              " 59,\n",
              " 60,\n",
              " 61,\n",
              " 62,\n",
              " 63,\n",
              " 64,\n",
              " 65,\n",
              " 66]"
            ]
          },
          "metadata": {
            "tags": []
          },
          "execution_count": 53
        }
      ]
    },
    {
      "cell_type": "code",
      "metadata": {
        "id": "niOsGkCgCPqW",
        "outputId": "fbcfbf04-4aec-4c71-8dc0-6ad941885f2d",
        "colab": {
          "base_uri": "https://localhost:8080/"
        }
      },
      "source": [
        "tokenizer = SpacyTokenizer(pos_tags=True)\n",
        "#tokenizer = CharacterTokenizer()\n",
        "text = phonemize(\"Hello world!\",backend='espeak',with_stress=False, separator=separator.Separator(phone=' ', syllable='', word=''))\n",
        "text2 = phonemize(\"Single Id Token Indexer\",backend='espeak',with_stress=False, separator=separator.Separator(phone=' ', syllable='', word=''))\n",
        "#text, text2 = \"hello world\", \"hello world hello world\"\n",
        "tokens = tokenizer.tokenize(text)\n",
        "tokens2 = tokenizer.tokenize(text2)\n",
        "print(\"Tokens:\", tokens)\n",
        "print(\"Tokens 2:\", tokens2)"
      ],
      "execution_count": 64,
      "outputs": [
        {
          "output_type": "stream",
          "text": [
            "Tokens: [h, ə, l, oʊ, w, ɜː, l, d]\n",
            "Tokens 2: [s, ɪ, ŋ, ɡ, əl, aɪ, d, iː, t, oʊ, k, ə, n, ɪ, n, d, ɛ, k, s, ɚ]\n"
          ],
          "name": "stdout"
        }
      ]
    },
    {
      "cell_type": "code",
      "metadata": {
        "id": "IaDEGWQhSnl9"
      },
      "source": [
        "token_indexer = {\n",
        "    'tokens': SingleIdTokenIndexer(namespace='token_vocab'),\n",
        "}\n"
      ],
      "execution_count": 65,
      "outputs": []
    },
    {
      "cell_type": "code",
      "metadata": {
        "id": "NbqzS89CSnvS"
      },
      "source": [
        "text_field = TextField(tokens, token_indexer)\n",
        "text_field.index(vocab)\n",
        "text_field2 = TextField(tokens2, token_indexer)\n",
        "text_field2.index(vocab)"
      ],
      "execution_count": 66,
      "outputs": []
    },
    {
      "cell_type": "code",
      "metadata": {
        "id": "6kijoZywVCKB",
        "outputId": "b109dde1-f3bb-4e44-cd1c-f33ef6af293f",
        "colab": {
          "base_uri": "https://localhost:8080/"
        }
      },
      "source": [
        "print(text_field,\"\\n\", text_field2)"
      ],
      "execution_count": 73,
      "outputs": [
        {
          "output_type": "stream",
          "text": [
            "TextField of length 8 with text: \n",
            " \t\t[h, ə, l, oʊ, w, ɜː, l, d]\n",
            " \t\tand TokenIndexers : {'tokens': 'SingleIdTokenIndexer'} \n",
            " TextField of length 20 with text: \n",
            " \t\t[s, ɪ, ŋ, ɡ, əl, aɪ, d, iː, t, oʊ, k, ə, n, ɪ, n, d, ɛ, k, s, ɚ]\n",
            " \t\tand TokenIndexers : {'tokens': 'SingleIdTokenIndexer'}\n"
          ],
          "name": "stdout"
        }
      ]
    },
    {
      "cell_type": "code",
      "metadata": {
        "id": "_JfYH8kKSn2q",
        "outputId": "cd40f903-09e2-4823-9c22-a2b108064b97",
        "colab": {
          "base_uri": "https://localhost:8080/"
        }
      },
      "source": [
        "padding_lengths = text_field2.get_padding_lengths()\n",
        "tensor_dict = text_field.as_tensor(padding_lengths)\n",
        "tensor_dict2 = text_field2.as_tensor(padding_lengths)\n",
        "print(\"Combined tensor dictionary:\", tensor_dict)\n",
        "print(\"Combined tensor dictionary 2:\", tensor_dict2)"
      ],
      "execution_count": 71,
      "outputs": [
        {
          "output_type": "stream",
          "text": [
            "Combined tensor dictionary: {'tokens': {'tokens': tensor([48, 20, 10,  9, 14, 22, 10, 23,  0,  0,  0,  0,  0,  0,  0,  0,  0,  0,\n",
            "         0,  0])}}\n",
            "Combined tensor dictionary 2: {'tokens': {'tokens': tensor([12,  4,  7, 36, 43, 34, 23, 16,  6,  9, 21, 20,  5,  4,  5, 23, 13, 21,\n",
            "        12, 25])}}\n"
          ],
          "name": "stdout"
        }
      ]
    },
    {
      "cell_type": "code",
      "metadata": {
        "id": "jJjAV8VtjiWC",
        "outputId": "0acfca73-44c6-4409-8de8-9b571493bbf6",
        "colab": {
          "base_uri": "https://localhost:8080/",
          "height": 34
        }
      },
      "source": [
        "print(padding_lengths)"
      ],
      "execution_count": null,
      "outputs": [
        {
          "output_type": "stream",
          "text": [
            "{'token_characters___token_characters': 35, 'token_characters___num_token_characters': 1}\n"
          ],
          "name": "stdout"
        }
      ]
    },
    {
      "cell_type": "code",
      "metadata": {
        "id": "SGAs-j0pTwMy"
      },
      "source": [
        "text_field_tensors = text_field.batch_tensors([tensor_dict, tensor_dict2])"
      ],
      "execution_count": null,
      "outputs": []
    },
    {
      "cell_type": "code",
      "metadata": {
        "id": "o_mqkgYWiVv5"
      },
      "source": [
        "#print(\"Batched tensor dictionary:\", text_field_tensors)"
      ],
      "execution_count": null,
      "outputs": []
    },
    {
      "cell_type": "code",
      "metadata": {
        "id": "5vDiRg_2Zd1P",
        "outputId": "5a7ca566-8ff9-4656-afc4-8a4ba72a7555",
        "colab": {
          "base_uri": "https://localhost:8080/",
          "height": 34
        }
      },
      "source": [
        "x = text_field_tensors[\"token_characters\"][\"token_characters\"]\n",
        "x.shape"
      ],
      "execution_count": null,
      "outputs": [
        {
          "output_type": "execute_result",
          "data": {
            "text/plain": [
              "torch.Size([2, 35, 1])"
            ]
          },
          "metadata": {
            "tags": []
          },
          "execution_count": 17
        }
      ]
    },
    {
      "cell_type": "code",
      "metadata": {
        "id": "rOgQnunfTwUq",
        "outputId": "35bc2dd9-f759-400f-e1bb-01e8b818a673",
        "colab": {
          "base_uri": "https://localhost:8080/",
          "height": 173
        }
      },
      "source": [
        "mask = nn_util.get_text_field_mask(text_field_tensors)\n",
        "print(\"Mask:\", mask)\n",
        "print(\"Mask size:\", mask.size())"
      ],
      "execution_count": null,
      "outputs": [
        {
          "output_type": "stream",
          "text": [
            "Mask: tensor([[ True,  True,  True,  True,  True,  True,  True,  True,  True,  True,\n",
            "          True,  True,  True,  True,  True,  True,  True,  True, False, False,\n",
            "         False, False, False, False, False, False, False, False, False, False,\n",
            "         False, False, False, False, False],\n",
            "        [ True,  True,  True,  True,  True,  True,  True,  True,  True,  True,\n",
            "          True,  True,  True,  True,  True,  True,  True,  True,  True,  True,\n",
            "          True,  True,  True,  True,  True,  True,  True,  True,  True,  True,\n",
            "          True,  True,  True,  True,  True]])\n",
            "Mask size: torch.Size([2, 35])\n"
          ],
          "name": "stdout"
        }
      ]
    },
    {
      "cell_type": "code",
      "metadata": {
        "id": "VxxS9ruCTwbJ"
      },
      "source": [
        "list_field = ListField([text_field, text_field2])\n",
        "tensor_dict = list_field.as_tensor(list_field.get_padding_lengths())\n",
        "text_field_tensors = list_field.batch_tensors([tensor_dict])\n",
        "print(\"Batched tensors for ListField[TextField]:\", text_field_tensors)"
      ],
      "execution_count": null,
      "outputs": []
    },
    {
      "cell_type": "code",
      "metadata": {
        "id": "b-19WEoPUZud",
        "outputId": "090fce8a-66e8-475b-9c2c-3a5a6bb7b7ba",
        "colab": {
          "base_uri": "https://localhost:8080/",
          "height": 173
        }
      },
      "source": [
        "mask = nn_util.get_text_field_mask(text_field_tensors, num_wrapping_dims=1)\n",
        "print(\"Mask:\", mask)\n",
        "print(\"Mask:\", mask.size())"
      ],
      "execution_count": null,
      "outputs": [
        {
          "output_type": "stream",
          "text": [
            "Mask: tensor([[[ True,  True,  True,  True,  True,  True,  True,  True,  True,  True,\n",
            "           True,  True,  True,  True,  True,  True,  True,  True, False, False,\n",
            "          False, False, False, False, False, False, False, False, False, False,\n",
            "          False, False, False, False, False],\n",
            "         [ True,  True,  True,  True,  True,  True,  True,  True,  True,  True,\n",
            "           True,  True,  True,  True,  True,  True,  True,  True,  True,  True,\n",
            "           True,  True,  True,  True,  True,  True,  True,  True,  True,  True,\n",
            "           True,  True,  True,  True,  True]]])\n",
            "Mask: torch.Size([1, 2, 35])\n"
          ],
          "name": "stdout"
        }
      ]
    },
    {
      "cell_type": "code",
      "metadata": {
        "id": "4Xgbiaa9Bxt_"
      },
      "source": [
        "import allennlp.data.tokenizers.letters_digits_tokenizer as digit_token"
      ],
      "execution_count": null,
      "outputs": []
    },
    {
      "cell_type": "code",
      "metadata": {
        "id": "3-FNrqtPB-0G",
        "outputId": "09783e10-8997-42ac-9f84-66c7acd3fd48",
        "colab": {
          "base_uri": "https://localhost:8080/",
          "height": 34
        }
      },
      "source": [
        "tokenizer = digit_token.LettersDigitsTokenizer()\n",
        "sentence = \"We are learning about TextFields\"\n",
        "tokens = tokenizer.tokenize(sentence)\n",
        "tokens"
      ],
      "execution_count": null,
      "outputs": [
        {
          "output_type": "execute_result",
          "data": {
            "text/plain": [
              "[We, are, learning, about, TextFields]"
            ]
          },
          "metadata": {
            "tags": []
          },
          "execution_count": 10
        }
      ]
    },
    {
      "cell_type": "code",
      "metadata": {
        "id": "dLuyAxW73RX5",
        "outputId": "cf6f6ff6-9c65-43e2-e740-5aff3b03719b",
        "colab": {
          "base_uri": "https://localhost:8080/",
          "height": 156
        }
      },
      "source": [
        "TSV = \"train.tsv\"\n",
        "\n",
        "path = \"/content\"\n",
        "tsvm = os.path.join(path, TSV)\n",
        "\n",
        "with open(tsvm, \"r\") as tsv:\n",
        "    walker = unicode_csv_reader(tsv, delimiter=\"\\t\")\n",
        "    header = next(walker)\n",
        "    print(header)\n",
        "    print(len(header))\n",
        "    walker = list(walker)\n",
        "    print(len(walker))\n",
        "    print(walker[0])\n",
        "\n",
        "numpy_version = np.array(walker)\n",
        "print(numpy_version.shape)\n",
        "\n",
        "a, b = np.unique(numpy_version[:, 9], return_counts = True)\n",
        "print(a.shape, b.shape)\n",
        "\n",
        "c = np.concatenate((a[:, None], b[:, None]), axis=1)\n",
        "print(c.shape)"
      ],
      "execution_count": null,
      "outputs": [
        {
          "output_type": "stream",
          "text": [
            "['client_id', 'path', 'sentence', 'up_votes', 'down_votes', 'age', 'gender', 'accent', 'locale', 'segment']\n",
            "10\n",
            "435947\n",
            "['f1f6414c04e74453065e1b7fc1639c6f728dc03ed9589034b8531d8c7d8b994f223f2b79d5fcc42a2b7b19f8cbca5af08f31d47a554ddd682df04ba62caaaa56', 'common_voice_en_20009651.mp3', \"It just didn't seem fair.\", '2', '1', '', '', '', 'en', '']\n",
            "(435947, 10)\n",
            "(1,) (1,)\n",
            "(1, 2)\n"
          ],
          "name": "stdout"
        }
      ]
    },
    {
      "cell_type": "code",
      "metadata": {
        "id": "DgoMnsIikURb",
        "outputId": "14992e3a-7230-4abf-ec76-5fd57607dc36",
        "colab": {
          "base_uri": "https://localhost:8080/",
          "height": 34
        }
      },
      "source": [
        "print(c)"
      ],
      "execution_count": null,
      "outputs": [
        {
          "output_type": "stream",
          "text": [
            "[['' '435947']]\n"
          ],
          "name": "stdout"
        }
      ]
    },
    {
      "cell_type": "code",
      "metadata": {
        "id": "ocniliOR53-J",
        "outputId": "55a2e80e-ca04-4688-cfff-2a9900416651",
        "colab": {
          "base_uri": "https://localhost:8080/",
          "height": 54
        }
      },
      "source": [
        "a, b = np.unique(c[:, 1], return_counts = True)\n",
        "hm = dict(zip(a, b))\n",
        "print(hm)"
      ],
      "execution_count": null,
      "outputs": [
        {
          "output_type": "stream",
          "text": [
            "{'1': 1801, '10': 735, '100': 6, '1000': 1, '101': 7, '1017': 1, '102': 5, '103': 11, '1035': 1, '104': 14, '105': 6, '106': 6, '107': 4, '108': 8, '109': 4, '1092': 1, '11': 234, '110': 5, '111': 7, '1113': 1, '1118': 1, '112': 4, '113': 2, '1136': 1, '114': 9, '115': 5, '1152': 1, '116': 6, '117': 4, '118': 4, '119': 14, '12': 249, '120': 3, '121': 6, '122': 6, '1220': 1, '123': 5, '124': 4, '125': 5, '126': 5, '127': 2, '1278': 1, '1279': 1, '128': 4, '129': 4, '13': 315, '130': 6, '131': 5, '132': 8, '133': 1, '134': 3, '135': 5, '136': 4, '1362': 1, '1375': 1, '138': 9, '14': 320, '140': 2, '141': 1, '1414': 1, '142': 7, '143': 4, '1435': 1, '144': 5, '146': 3, '147': 6, '1477': 1, '148': 4, '149': 6, '15': 292, '150': 4, '151': 5, '152': 1, '153': 3, '154': 3, '155': 2, '156': 6, '157': 5, '158': 2, '159': 2, '16': 166, '161': 2, '162': 1, '163': 8, '164': 3, '165': 2, '166': 3, '1669': 1, '167': 3, '168': 2, '169': 4, '17': 150, '170': 2, '171': 2, '1712': 1, '172': 6, '173': 1, '175': 5, '176': 3, '177': 2, '178': 2, '179': 3, '18': 180, '180': 2, '181': 1, '182': 1, '183': 4, '184': 1, '185': 1, '186': 2, '1866': 1, '187': 2, '189': 1, '19': 191, '190': 2, '191': 3, '193': 4, '194': 5, '195': 4, '196': 5, '197': 1, '198': 2, '199': 4, '2': 716, '20': 169, '200': 1, '201': 2, '202': 2, '203': 1, '204': 2, '206': 3, '207': 2, '20737': 1, '209': 1, '21': 80, '210': 3, '211': 1, '214': 3, '217': 1, '218': 1, '219': 1, '22': 105, '221': 1, '222': 4, '223': 3, '224': 2, '225': 3, '227': 1, '228': 2, '229': 3, '23': 114, '230': 2, '231': 1, '232': 1, '233': 3, '234': 1, '235': 1, '236': 1, '237': 1, '239': 2, '24': 112, '241': 1, '242': 1, '244': 1, '245': 2, '2453': 1, '246': 2, '247': 1, '248': 1, '249': 2, '25': 99, '250': 1, '251': 2, '2517': 1, '254': 1, '255': 1, '257': 4, '2572': 1, '258': 3, '26': 65, '262': 1, '263': 1, '265': 2, '266': 1, '268': 3, '269': 1, '2693': 1, '27': 73, '270': 1, '271': 1, '272': 2, '274': 1, '277': 2, '278': 1, '28': 82, '281': 1, '282': 2, '283': 2, '284': 1, '285': 1, '287': 3, '289': 1, '29': 77, '290': 1, '291': 1, '293': 3, '294': 1, '295': 1, '297': 1, '299': 2, '3': 406, '30': 70, '302': 1, '306': 1, '3090': 1, '31': 54, '311': 1, '313': 1, '315': 2, '32': 43, '320': 1, '325': 2, '326': 1, '327': 2, '33': 46, '330': 1, '331': 1, '332': 1, '334': 1, '335': 1, '337': 1, '338': 1, '34': 61, '342': 2, '345': 1, '347': 1, '348': 1, '349': 1, '3497': 1, '35': 51, '350': 1, '353': 1, '354': 2, '356': 1, '357': 1, '358': 1, '359': 1, '36': 49, '363': 2, '365': 1, '366': 1, '367': 1, '368': 1, '369': 1, '37': 38, '370': 1, '371': 1, '3711': 1, '376': 1, '377': 1, '38': 49, '380': 2, '382': 1, '383': 1, '386': 1, '389': 1, '39': 44, '392': 1, '398': 1, '4': 650, '40': 35, '403': 2, '4062': 1, '409': 1, '41': 30, '410': 1, '413': 1, '414': 1, '416': 1, '417': 1, '418': 1, '42': 19, '423': 2, '428': 2, '429': 1, '43': 31, '436': 1, '44': 31, '442': 1, '447': 1, '448': 1, '45': 39, '450': 1, '454': 2, '46': 26, '463': 1, '464': 1, '467': 1, '47': 23, '473': 2, '478': 2, '479': 1, '48': 38, '489': 1, '49': 30, '5': 3984, '50': 32, '51': 21, '511': 1, '515': 2, '518': 1, '52': 22, '528': 1, '53': 21, '536': 1, '539': 1, '54': 19, '542': 1, '545': 1, '55': 29, '553': 1, '56': 20, '561': 1, '57': 24, '574': 1, '58': 29, '59': 16, '595': 1, '597': 1, '6': 489, '60': 21, '601': 1, '606': 1, '61': 23, '614': 1, '6149': 1, '617': 1, '619': 2, '62': 25, '621': 1, '625': 1, '63': 17, '632': 1, '634': 1, '64': 12, '642': 1, '645': 1, '65': 20, '66': 10, '667': 1, '6696': 1, '67': 11, '675': 1, '676': 1, '68': 17, '680': 1, '685': 1, '689': 1, '69': 14, '692': 1, '695': 1, '7': 466, '70': 6, '703': 1, '71': 13, '712': 1, '72': 12, '723': 1, '73': 14, '74': 15, '75': 5, '756': 1, '76': 8, '764': 1, '77': 13, '78': 7, '786': 1, '787': 1, '79': 14, '7928': 1, '8': 635, '80': 6, '804': 1, '807': 1, '81': 16, '82': 11, '827': 1, '83': 10, '84': 11, '840': 1, '844': 1, '846': 1, '85': 12, '857': 1, '86': 5, '87': 12, '870': 1, '8743': 1, '878': 1, '88': 8, '889': 1, '89': 9, '9': 767, '90': 7, '91': 8, '92': 6, '923': 1, '93': 12, '935': 1, '94': 8, '942': 1, '947': 1, '95': 10, '96': 12, '97': 6, '98': 2, '99': 8}\n"
          ],
          "name": "stdout"
        }
      ]
    },
    {
      "cell_type": "code",
      "metadata": {
        "id": "KlJ-hX1d7MbI",
        "outputId": "b1574fb5-40e4-4637-d7ba-3aa8679dd9b9",
        "colab": {
          "base_uri": "https://localhost:8080/",
          "height": 34
        }
      },
      "source": [
        "c.shape"
      ],
      "execution_count": null,
      "outputs": [
        {
          "output_type": "execute_result",
          "data": {
            "text/plain": [
              "(15890, 2)"
            ]
          },
          "metadata": {
            "tags": []
          },
          "execution_count": 10
        }
      ]
    },
    {
      "cell_type": "code",
      "metadata": {
        "id": "327tthab7jjN"
      },
      "source": [
        "sum = 0\n",
        "for key, value in hm.items():\n",
        "  sum+=int(value)"
      ],
      "execution_count": null,
      "outputs": []
    },
    {
      "cell_type": "code",
      "metadata": {
        "id": "WXAQGd9W70Oi",
        "outputId": "a93b9ad4-087c-49fc-9343-8ebeef5ad6e7",
        "colab": {
          "base_uri": "https://localhost:8080/",
          "height": 34
        }
      },
      "source": [
        "sum"
      ],
      "execution_count": null,
      "outputs": [
        {
          "output_type": "execute_result",
          "data": {
            "text/plain": [
              "15890"
            ]
          },
          "metadata": {
            "tags": []
          },
          "execution_count": 12
        }
      ]
    },
    {
      "cell_type": "code",
      "metadata": {
        "id": "bx2NzemH6rUQ"
      },
      "source": [
        "import collections\n",
        "od = collections.OrderedDict(sorted(hm.items()))\n",
        "#1801 + 716 + 406\n",
        "od"
      ],
      "execution_count": null,
      "outputs": []
    }
  ]
}