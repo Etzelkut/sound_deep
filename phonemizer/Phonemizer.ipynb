{
  "nbformat": 4,
  "nbformat_minor": 0,
  "metadata": {
    "colab": {
      "name": "Phonemizer.ipynb",
      "provenance": [],
      "collapsed_sections": [],
      "toc_visible": true
    },
    "kernelspec": {
      "display_name": "Python 3",
      "name": "python3"
    }
  },
  "cells": [
    {
      "cell_type": "markdown",
      "metadata": {
        "id": "oYeolSUvJ0ly"
      },
      "source": [
        "Clone or comment first line and copy folder to your path/ change direction (cd) to location of folder"
      ]
    },
    {
      "cell_type": "code",
      "metadata": {
        "id": "z8V4YkRan8Z2",
        "outputId": "03b464ef-6d8a-4080-b914-b48dc172d710",
        "colab": {
          "base_uri": "https://localhost:8080/"
        }
      },
      "source": [
        "!git clone https://github.com/bootphon/phonemizer\n",
        "%cd phonemizer\n",
        "!python setup.py install"
      ],
      "execution_count": 8,
      "outputs": [
        {
          "output_type": "stream",
          "text": [
            "Cloning into 'phonemizer'...\n",
            "remote: Enumerating objects: 106, done.\u001b[K\n",
            "remote: Counting objects: 100% (106/106), done.\u001b[K\n",
            "remote: Compressing objects: 100% (84/84), done.\u001b[K\n",
            "remote: Total 1226 (delta 59), reused 66 (delta 22), pack-reused 1120\u001b[K\n",
            "Receiving objects: 100% (1226/1226), 291.67 KiB | 551.00 KiB/s, done.\n",
            "Resolving deltas: 100% (827/827), done.\n",
            "/content/phonemizer\n",
            "Partial import of phonemizer during the build process.\n",
            "running install\n",
            "running bdist_egg\n",
            "running egg_info\n",
            "creating phonemizer.egg-info\n",
            "writing phonemizer.egg-info/PKG-INFO\n",
            "writing dependency_links to phonemizer.egg-info/dependency_links.txt\n",
            "writing entry points to phonemizer.egg-info/entry_points.txt\n",
            "writing requirements to phonemizer.egg-info/requires.txt\n",
            "writing top-level names to phonemizer.egg-info/top_level.txt\n",
            "writing manifest file 'phonemizer.egg-info/SOURCES.txt'\n",
            "writing manifest file 'phonemizer.egg-info/SOURCES.txt'\n",
            "installing library code to build/bdist.linux-x86_64/egg\n",
            "running install_lib\n",
            "running build_py\n",
            "creating build\n",
            "creating build/lib\n",
            "creating build/lib/phonemizer\n",
            "copying phonemizer/phonemize.py -> build/lib/phonemizer\n",
            "copying phonemizer/lispy.py -> build/lib/phonemizer\n",
            "copying phonemizer/separator.py -> build/lib/phonemizer\n",
            "copying phonemizer/utils.py -> build/lib/phonemizer\n",
            "copying phonemizer/__init__.py -> build/lib/phonemizer\n",
            "copying phonemizer/punctuation.py -> build/lib/phonemizer\n",
            "copying phonemizer/version.py -> build/lib/phonemizer\n",
            "copying phonemizer/logger.py -> build/lib/phonemizer\n",
            "copying phonemizer/main.py -> build/lib/phonemizer\n",
            "creating build/lib/phonemizer/backend\n",
            "copying phonemizer/backend/base.py -> build/lib/phonemizer/backend\n",
            "copying phonemizer/backend/segments.py -> build/lib/phonemizer/backend\n",
            "copying phonemizer/backend/__init__.py -> build/lib/phonemizer/backend\n",
            "copying phonemizer/backend/espeak.py -> build/lib/phonemizer/backend\n",
            "copying phonemizer/backend/festival.py -> build/lib/phonemizer/backend\n",
            "creating build/lib/phonemizer/share\n",
            "creating build/lib/phonemizer/share/festival\n",
            "copying phonemizer/share/festival/phonemize.scm -> build/lib/phonemizer/share/festival\n",
            "creating build/lib/phonemizer/share/segments\n",
            "copying phonemizer/share/segments/sesotho.g2p -> build/lib/phonemizer/share/segments\n",
            "copying phonemizer/share/segments/chintang.g2p -> build/lib/phonemizer/share/segments\n",
            "copying phonemizer/share/segments/cree.g2p -> build/lib/phonemizer/share/segments\n",
            "copying phonemizer/share/segments/japanese.g2p -> build/lib/phonemizer/share/segments\n",
            "copying phonemizer/share/segments/yucatec.g2p -> build/lib/phonemizer/share/segments\n",
            "copying phonemizer/share/segments/inuktitut.g2p -> build/lib/phonemizer/share/segments\n",
            "creating build/bdist.linux-x86_64\n",
            "creating build/bdist.linux-x86_64/egg\n",
            "creating build/bdist.linux-x86_64/egg/phonemizer\n",
            "copying build/lib/phonemizer/phonemize.py -> build/bdist.linux-x86_64/egg/phonemizer\n",
            "creating build/bdist.linux-x86_64/egg/phonemizer/share\n",
            "creating build/bdist.linux-x86_64/egg/phonemizer/share/segments\n",
            "copying build/lib/phonemizer/share/segments/sesotho.g2p -> build/bdist.linux-x86_64/egg/phonemizer/share/segments\n",
            "copying build/lib/phonemizer/share/segments/chintang.g2p -> build/bdist.linux-x86_64/egg/phonemizer/share/segments\n",
            "copying build/lib/phonemizer/share/segments/cree.g2p -> build/bdist.linux-x86_64/egg/phonemizer/share/segments\n",
            "copying build/lib/phonemizer/share/segments/japanese.g2p -> build/bdist.linux-x86_64/egg/phonemizer/share/segments\n",
            "copying build/lib/phonemizer/share/segments/yucatec.g2p -> build/bdist.linux-x86_64/egg/phonemizer/share/segments\n",
            "copying build/lib/phonemizer/share/segments/inuktitut.g2p -> build/bdist.linux-x86_64/egg/phonemizer/share/segments\n",
            "creating build/bdist.linux-x86_64/egg/phonemizer/share/festival\n",
            "copying build/lib/phonemizer/share/festival/phonemize.scm -> build/bdist.linux-x86_64/egg/phonemizer/share/festival\n",
            "copying build/lib/phonemizer/lispy.py -> build/bdist.linux-x86_64/egg/phonemizer\n",
            "creating build/bdist.linux-x86_64/egg/phonemizer/backend\n",
            "copying build/lib/phonemizer/backend/base.py -> build/bdist.linux-x86_64/egg/phonemizer/backend\n",
            "copying build/lib/phonemizer/backend/segments.py -> build/bdist.linux-x86_64/egg/phonemizer/backend\n",
            "copying build/lib/phonemizer/backend/__init__.py -> build/bdist.linux-x86_64/egg/phonemizer/backend\n",
            "copying build/lib/phonemizer/backend/espeak.py -> build/bdist.linux-x86_64/egg/phonemizer/backend\n",
            "copying build/lib/phonemizer/backend/festival.py -> build/bdist.linux-x86_64/egg/phonemizer/backend\n",
            "copying build/lib/phonemizer/separator.py -> build/bdist.linux-x86_64/egg/phonemizer\n",
            "copying build/lib/phonemizer/utils.py -> build/bdist.linux-x86_64/egg/phonemizer\n",
            "copying build/lib/phonemizer/__init__.py -> build/bdist.linux-x86_64/egg/phonemizer\n",
            "copying build/lib/phonemizer/punctuation.py -> build/bdist.linux-x86_64/egg/phonemizer\n",
            "copying build/lib/phonemizer/version.py -> build/bdist.linux-x86_64/egg/phonemizer\n",
            "copying build/lib/phonemizer/logger.py -> build/bdist.linux-x86_64/egg/phonemizer\n",
            "copying build/lib/phonemizer/main.py -> build/bdist.linux-x86_64/egg/phonemizer\n",
            "byte-compiling build/bdist.linux-x86_64/egg/phonemizer/phonemize.py to phonemize.cpython-36.pyc\n",
            "byte-compiling build/bdist.linux-x86_64/egg/phonemizer/lispy.py to lispy.cpython-36.pyc\n",
            "byte-compiling build/bdist.linux-x86_64/egg/phonemizer/backend/base.py to base.cpython-36.pyc\n",
            "byte-compiling build/bdist.linux-x86_64/egg/phonemizer/backend/segments.py to segments.cpython-36.pyc\n",
            "byte-compiling build/bdist.linux-x86_64/egg/phonemizer/backend/__init__.py to __init__.cpython-36.pyc\n",
            "byte-compiling build/bdist.linux-x86_64/egg/phonemizer/backend/espeak.py to espeak.cpython-36.pyc\n",
            "byte-compiling build/bdist.linux-x86_64/egg/phonemizer/backend/festival.py to festival.cpython-36.pyc\n",
            "byte-compiling build/bdist.linux-x86_64/egg/phonemizer/separator.py to separator.cpython-36.pyc\n",
            "byte-compiling build/bdist.linux-x86_64/egg/phonemizer/utils.py to utils.cpython-36.pyc\n",
            "byte-compiling build/bdist.linux-x86_64/egg/phonemizer/__init__.py to __init__.cpython-36.pyc\n",
            "byte-compiling build/bdist.linux-x86_64/egg/phonemizer/punctuation.py to punctuation.cpython-36.pyc\n",
            "byte-compiling build/bdist.linux-x86_64/egg/phonemizer/version.py to version.cpython-36.pyc\n",
            "byte-compiling build/bdist.linux-x86_64/egg/phonemizer/logger.py to logger.cpython-36.pyc\n",
            "byte-compiling build/bdist.linux-x86_64/egg/phonemizer/main.py to main.cpython-36.pyc\n",
            "creating build/bdist.linux-x86_64/egg/EGG-INFO\n",
            "copying phonemizer.egg-info/PKG-INFO -> build/bdist.linux-x86_64/egg/EGG-INFO\n",
            "copying phonemizer.egg-info/SOURCES.txt -> build/bdist.linux-x86_64/egg/EGG-INFO\n",
            "copying phonemizer.egg-info/dependency_links.txt -> build/bdist.linux-x86_64/egg/EGG-INFO\n",
            "copying phonemizer.egg-info/entry_points.txt -> build/bdist.linux-x86_64/egg/EGG-INFO\n",
            "copying phonemizer.egg-info/requires.txt -> build/bdist.linux-x86_64/egg/EGG-INFO\n",
            "copying phonemizer.egg-info/top_level.txt -> build/bdist.linux-x86_64/egg/EGG-INFO\n",
            "copying phonemizer.egg-info/zip-safe -> build/bdist.linux-x86_64/egg/EGG-INFO\n",
            "creating dist\n",
            "creating 'dist/phonemizer-2.2.1-py3.6.egg' and adding 'build/bdist.linux-x86_64/egg' to it\n",
            "removing 'build/bdist.linux-x86_64/egg' (and everything under it)\n",
            "Processing phonemizer-2.2.1-py3.6.egg\n",
            "Copying phonemizer-2.2.1-py3.6.egg to /usr/local/lib/python3.6/dist-packages\n",
            "Adding phonemizer 2.2.1 to easy-install.pth file\n",
            "Installing phonemize script to /usr/local/bin\n",
            "\n",
            "Installed /usr/local/lib/python3.6/dist-packages/phonemizer-2.2.1-py3.6.egg\n",
            "Processing dependencies for phonemizer==2.2.1\n",
            "Searching for segments\n",
            "Reading https://pypi.org/simple/segments/\n",
            "Downloading https://files.pythonhosted.org/packages/5b/a0/0c3fe64787745c39eb3f2f5f5f9ed8d008d9ef22e9d7f9f52f71ea4712f7/segments-2.1.3-py2.py3-none-any.whl#sha256=acc8a1014b0fbdbf98336f64e6e32a7695b6da22901bf0caf730db896e4af9e9\n",
            "Best match: segments 2.1.3\n",
            "Processing segments-2.1.3-py2.py3-none-any.whl\n",
            "Installing segments-2.1.3-py2.py3-none-any.whl to /usr/local/lib/python3.6/dist-packages\n",
            "Adding segments 2.1.3 to easy-install.pth file\n",
            "Installing segments script to /usr/local/bin\n",
            "\n",
            "Installed /usr/local/lib/python3.6/dist-packages/segments-2.1.3-py3.6.egg\n",
            "Searching for csvw>=1.5.6\n",
            "Reading https://pypi.org/simple/csvw/\n",
            "Downloading https://files.pythonhosted.org/packages/3f/e6/4faefc40bf1a3e8418cf97b5c3e7619d916692dd4202a5a1e40f36802f78/csvw-1.8.0-py2.py3-none-any.whl#sha256=cc3bc7e453af5e27360fa6637f62dc192fd0f73c3767e55621d706afa523fc9e\n",
            "Best match: csvw 1.8.0\n",
            "Processing csvw-1.8.0-py2.py3-none-any.whl\n",
            "Installing csvw-1.8.0-py2.py3-none-any.whl to /usr/local/lib/python3.6/dist-packages\n",
            "Adding csvw 1.8.0 to easy-install.pth file\n",
            "\n",
            "Installed /usr/local/lib/python3.6/dist-packages/csvw-1.8.0-py3.6.egg\n",
            "Searching for clldutils>=1.7.3\n",
            "Reading https://pypi.org/simple/clldutils/\n",
            "Downloading https://files.pythonhosted.org/packages/4e/dd/6afa78497c503e8ad02596b27932df7f3216c0d10b4b7785d942a59b9cfd/clldutils-3.5.4-py2.py3-none-any.whl#sha256=9987c621ff6e558b7e72761285819b82cdb9c54649c1f8b637dcc4b28baecbd3\n",
            "Best match: clldutils 3.5.4\n",
            "Processing clldutils-3.5.4-py2.py3-none-any.whl\n",
            "Installing clldutils-3.5.4-py2.py3-none-any.whl to /usr/local/lib/python3.6/dist-packages\n",
            "Adding clldutils 3.5.4 to easy-install.pth file\n",
            "\n",
            "Installed /usr/local/lib/python3.6/dist-packages/clldutils-3.5.4-py3.6.egg\n",
            "Searching for rfc3986\n",
            "Reading https://pypi.org/simple/rfc3986/\n",
            "Downloading https://files.pythonhosted.org/packages/78/be/7b8b99fd74ff5684225f50dd0e865393d2265656ef3b4ba9eaaaffe622b8/rfc3986-1.4.0-py2.py3-none-any.whl#sha256=af9147e9aceda37c91a05f4deb128d4b4b49d6b199775fd2d2927768abdc8f50\n",
            "Best match: rfc3986 1.4.0\n",
            "Processing rfc3986-1.4.0-py2.py3-none-any.whl\n",
            "Installing rfc3986-1.4.0-py2.py3-none-any.whl to /usr/local/lib/python3.6/dist-packages\n",
            "Adding rfc3986 1.4.0 to easy-install.pth file\n",
            "\n",
            "Installed /usr/local/lib/python3.6/dist-packages/rfc3986-1.4.0-py3.6.egg\n",
            "Searching for isodate\n",
            "Reading https://pypi.org/simple/isodate/\n",
            "Downloading https://files.pythonhosted.org/packages/9b/9f/b36f7774ff5ea8e428fdcfc4bb332c39ee5b9362ddd3d40d9516a55221b2/isodate-0.6.0-py2.py3-none-any.whl#sha256=aa4d33c06640f5352aca96e4b81afd8ab3b47337cc12089822d6f322ac772c81\n",
            "Best match: isodate 0.6.0\n",
            "Processing isodate-0.6.0-py2.py3-none-any.whl\n",
            "Installing isodate-0.6.0-py2.py3-none-any.whl to /usr/local/lib/python3.6/dist-packages\n",
            "Adding isodate 0.6.0 to easy-install.pth file\n",
            "\n",
            "Installed /usr/local/lib/python3.6/dist-packages/isodate-0.6.0-py3.6.egg\n",
            "Searching for colorlog\n",
            "Reading https://pypi.org/simple/colorlog/\n",
            "Downloading https://files.pythonhosted.org/packages/8c/10/0b39be7ff1adb8888fe87c8628c071dec5ac282ac1c2312221f5feb09215/colorlog-4.4.0-py2.py3-none-any.whl#sha256=f14f30f58e2ce6ef40b0088307cac7efb9ecff5605fa2267a2d29955f26aff23\n",
            "Best match: colorlog 4.4.0\n",
            "Processing colorlog-4.4.0-py2.py3-none-any.whl\n",
            "Installing colorlog-4.4.0-py2.py3-none-any.whl to /usr/local/lib/python3.6/dist-packages\n",
            "Adding colorlog 4.4.0 to easy-install.pth file\n",
            "\n",
            "Installed /usr/local/lib/python3.6/dist-packages/colorlog-4.4.0-py3.6.egg\n",
            "Searching for attrs==20.2.0\n",
            "Best match: attrs 20.2.0\n",
            "Adding attrs 20.2.0 to easy-install.pth file\n",
            "\n",
            "Using /usr/local/lib/python3.6/dist-packages\n",
            "Searching for joblib==0.17.0\n",
            "Best match: joblib 0.17.0\n",
            "Adding joblib 0.17.0 to easy-install.pth file\n",
            "\n",
            "Using /usr/local/lib/python3.6/dist-packages\n",
            "Searching for regex==2019.12.20\n",
            "Best match: regex 2019.12.20\n",
            "Adding regex 2019.12.20 to easy-install.pth file\n",
            "\n",
            "Using /usr/local/lib/python3.6/dist-packages\n",
            "Searching for uritemplate==3.0.1\n",
            "Best match: uritemplate 3.0.1\n",
            "Adding uritemplate 3.0.1 to easy-install.pth file\n",
            "\n",
            "Using /usr/local/lib/python3.6/dist-packages\n",
            "Searching for python-dateutil==2.8.1\n",
            "Best match: python-dateutil 2.8.1\n",
            "Adding python-dateutil 2.8.1 to easy-install.pth file\n",
            "\n",
            "Using /usr/local/lib/python3.6/dist-packages\n",
            "Searching for tabulate==0.8.7\n",
            "Best match: tabulate 0.8.7\n",
            "Adding tabulate 0.8.7 to easy-install.pth file\n",
            "Installing tabulate script to /usr/local/bin\n",
            "\n",
            "Using /usr/local/lib/python3.6/dist-packages\n",
            "Searching for six==1.15.0\n",
            "Best match: six 1.15.0\n",
            "Adding six 1.15.0 to easy-install.pth file\n",
            "\n",
            "Using /usr/local/lib/python3.6/dist-packages\n",
            "Finished processing dependencies for phonemizer==2.2.1\n"
          ],
          "name": "stdout"
        }
      ]
    },
    {
      "cell_type": "code",
      "metadata": {
        "id": "b6mwNnq-vLU2",
        "outputId": "37a9bcef-5e9f-45ae-97f7-45dfd50c8fec",
        "colab": {
          "base_uri": "https://localhost:8080/"
        }
      },
      "source": [
        "!apt-get install festival espeak-ng mbrola"
      ],
      "execution_count": 9,
      "outputs": [
        {
          "output_type": "stream",
          "text": [
            "Reading package lists... Done\n",
            "Building dependency tree       \n",
            "Reading state information... Done\n",
            "The following additional packages will be installed:\n",
            "  alsa-utils espeak-ng-data festlex-cmu festlex-poslex festvox-kallpc16k\n",
            "  libespeak-ng1 libestools2.5 libfftw3-single3 libnewt0.52 libpcaudio0\n",
            "  libsonic0 sgml-base whiptail\n",
            "Suggested packages:\n",
            "  pidgin-festival festival-freebsoft-utils libfftw3-bin libfftw3-dev\n",
            "  mbrola-voice espeak cicero sgml-base-doc\n",
            "The following NEW packages will be installed:\n",
            "  alsa-utils espeak-ng espeak-ng-data festival festlex-cmu festlex-poslex\n",
            "  festvox-kallpc16k libespeak-ng1 libestools2.5 libfftw3-single3 libnewt0.52\n",
            "  libpcaudio0 libsonic0 mbrola sgml-base whiptail\n",
            "0 upgraded, 16 newly installed, 0 to remove and 11 not upgraded.\n",
            "Need to get 12.2 MB of archives.\n",
            "After this operation, 37.5 MB of additional disk space will be used.\n",
            "Get:1 http://archive.ubuntu.com/ubuntu bionic/main amd64 sgml-base all 1.29 [12.3 kB]\n",
            "Get:2 http://archive.ubuntu.com/ubuntu bionic/main amd64 libnewt0.52 amd64 0.52.20-1ubuntu1 [40.6 kB]\n",
            "Get:3 http://archive.ubuntu.com/ubuntu bionic/main amd64 whiptail amd64 0.52.20-1ubuntu1 [16.6 kB]\n",
            "Get:4 http://archive.ubuntu.com/ubuntu bionic/main amd64 libfftw3-single3 amd64 3.3.7-1 [764 kB]\n",
            "Get:5 http://archive.ubuntu.com/ubuntu bionic/main amd64 alsa-utils amd64 1.1.3-1ubuntu1 [966 kB]\n",
            "Get:6 http://archive.ubuntu.com/ubuntu bionic/main amd64 libpcaudio0 amd64 1.0-1 [6,536 B]\n",
            "Get:7 http://archive.ubuntu.com/ubuntu bionic/main amd64 libsonic0 amd64 0.2.0-6 [13.4 kB]\n",
            "Get:8 http://archive.ubuntu.com/ubuntu bionic/main amd64 espeak-ng-data amd64 1.49.2+dfsg-1 [3,469 kB]\n",
            "Get:9 http://archive.ubuntu.com/ubuntu bionic/main amd64 libespeak-ng1 amd64 1.49.2+dfsg-1 [187 kB]\n",
            "Get:10 http://archive.ubuntu.com/ubuntu bionic/universe amd64 espeak-ng amd64 1.49.2+dfsg-1 [282 kB]\n",
            "Get:11 http://archive.ubuntu.com/ubuntu bionic/universe amd64 libestools2.5 amd64 1:2.5.0-4 [889 kB]\n",
            "Get:12 http://archive.ubuntu.com/ubuntu bionic/universe amd64 festival amd64 1:2.5.0-1 [804 kB]\n",
            "Get:13 http://archive.ubuntu.com/ubuntu bionic/universe amd64 festlex-cmu all 2.4-1 [895 kB]\n",
            "Get:14 http://archive.ubuntu.com/ubuntu bionic/universe amd64 festlex-poslex all 2.4-1 [186 kB]\n",
            "Get:15 http://archive.ubuntu.com/ubuntu bionic/multiverse amd64 mbrola amd64 3.01h+2-3 [37.9 kB]\n",
            "Get:16 http://archive.ubuntu.com/ubuntu bionic/universe amd64 festvox-kallpc16k all 2.4-1 [3,614 kB]\n",
            "Fetched 12.2 MB in 4s (3,017 kB/s)\n",
            "Selecting previously unselected package sgml-base.\n",
            "(Reading database ... 144628 files and directories currently installed.)\n",
            "Preparing to unpack .../00-sgml-base_1.29_all.deb ...\n",
            "Unpacking sgml-base (1.29) ...\n",
            "Selecting previously unselected package libnewt0.52:amd64.\n",
            "Preparing to unpack .../01-libnewt0.52_0.52.20-1ubuntu1_amd64.deb ...\n",
            "Unpacking libnewt0.52:amd64 (0.52.20-1ubuntu1) ...\n",
            "Selecting previously unselected package whiptail.\n",
            "Preparing to unpack .../02-whiptail_0.52.20-1ubuntu1_amd64.deb ...\n",
            "Unpacking whiptail (0.52.20-1ubuntu1) ...\n",
            "Selecting previously unselected package libfftw3-single3:amd64.\n",
            "Preparing to unpack .../03-libfftw3-single3_3.3.7-1_amd64.deb ...\n",
            "Unpacking libfftw3-single3:amd64 (3.3.7-1) ...\n",
            "Selecting previously unselected package alsa-utils.\n",
            "Preparing to unpack .../04-alsa-utils_1.1.3-1ubuntu1_amd64.deb ...\n",
            "Unpacking alsa-utils (1.1.3-1ubuntu1) ...\n",
            "Selecting previously unselected package libpcaudio0.\n",
            "Preparing to unpack .../05-libpcaudio0_1.0-1_amd64.deb ...\n",
            "Unpacking libpcaudio0 (1.0-1) ...\n",
            "Selecting previously unselected package libsonic0:amd64.\n",
            "Preparing to unpack .../06-libsonic0_0.2.0-6_amd64.deb ...\n",
            "Unpacking libsonic0:amd64 (0.2.0-6) ...\n",
            "Selecting previously unselected package espeak-ng-data:amd64.\n",
            "Preparing to unpack .../07-espeak-ng-data_1.49.2+dfsg-1_amd64.deb ...\n",
            "Unpacking espeak-ng-data:amd64 (1.49.2+dfsg-1) ...\n",
            "Selecting previously unselected package libespeak-ng1:amd64.\n",
            "Preparing to unpack .../08-libespeak-ng1_1.49.2+dfsg-1_amd64.deb ...\n",
            "Unpacking libespeak-ng1:amd64 (1.49.2+dfsg-1) ...\n",
            "Selecting previously unselected package espeak-ng.\n",
            "Preparing to unpack .../09-espeak-ng_1.49.2+dfsg-1_amd64.deb ...\n",
            "Unpacking espeak-ng (1.49.2+dfsg-1) ...\n",
            "Selecting previously unselected package libestools2.5:amd64.\n",
            "Preparing to unpack .../10-libestools2.5_1%3a2.5.0-4_amd64.deb ...\n",
            "Unpacking libestools2.5:amd64 (1:2.5.0-4) ...\n",
            "Selecting previously unselected package festival.\n",
            "Preparing to unpack .../11-festival_1%3a2.5.0-1_amd64.deb ...\n",
            "Unpacking festival (1:2.5.0-1) ...\n",
            "Selecting previously unselected package festlex-cmu.\n",
            "Preparing to unpack .../12-festlex-cmu_2.4-1_all.deb ...\n",
            "Unpacking festlex-cmu (2.4-1) ...\n",
            "Selecting previously unselected package festlex-poslex.\n",
            "Preparing to unpack .../13-festlex-poslex_2.4-1_all.deb ...\n",
            "Unpacking festlex-poslex (2.4-1) ...\n",
            "Selecting previously unselected package mbrola.\n",
            "Preparing to unpack .../14-mbrola_3.01h+2-3_amd64.deb ...\n",
            "Unpacking mbrola (3.01h+2-3) ...\n",
            "Selecting previously unselected package festvox-kallpc16k.\n",
            "Preparing to unpack .../15-festvox-kallpc16k_2.4-1_all.deb ...\n",
            "Unpacking festvox-kallpc16k (2.4-1) ...\n",
            "Setting up mbrola (3.01h+2-3) ...\n",
            "Setting up libestools2.5:amd64 (1:2.5.0-4) ...\n",
            "Setting up sgml-base (1.29) ...\n",
            "Setting up libsonic0:amd64 (0.2.0-6) ...\n",
            "Setting up libpcaudio0 (1.0-1) ...\n",
            "Setting up espeak-ng-data:amd64 (1.49.2+dfsg-1) ...\n",
            "Setting up libfftw3-single3:amd64 (3.3.7-1) ...\n",
            "Setting up libnewt0.52:amd64 (0.52.20-1ubuntu1) ...\n",
            "update-alternatives: using /etc/newt/palette.ubuntu to provide /etc/newt/palette (newt-palette) in auto mode\n",
            "Setting up whiptail (0.52.20-1ubuntu1) ...\n",
            "Setting up alsa-utils (1.1.3-1ubuntu1) ...\n",
            "Setting up libespeak-ng1:amd64 (1.49.2+dfsg-1) ...\n",
            "Setting up festival (1:2.5.0-1) ...\n",
            "Setting up espeak-ng (1.49.2+dfsg-1) ...\n",
            "Processing triggers for libc-bin (2.27-3ubuntu1.2) ...\n",
            "/sbin/ldconfig.real: /usr/local/lib/python3.6/dist-packages/ideep4py/lib/libmkldnn.so.0 is not a symbolic link\n",
            "\n",
            "Processing triggers for systemd (237-3ubuntu10.42) ...\n",
            "Processing triggers for man-db (2.8.3-2ubuntu0.1) ...\n",
            "Processing triggers for sgml-base (1.29) ...\n",
            "Setting up festlex-cmu (2.4-1) ...\n",
            "Setting up festlex-poslex (2.4-1) ...\n",
            "Setting up festvox-kallpc16k (2.4-1) ...\n"
          ],
          "name": "stdout"
        }
      ]
    },
    {
      "cell_type": "code",
      "metadata": {
        "id": "UNgdL84YoXjN",
        "outputId": "27e5342f-86af-4521-917e-29995f4ab0b2",
        "colab": {
          "base_uri": "https://localhost:8080/"
        }
      },
      "source": [
        "!pip install folium==0.2.1\n",
        "!pip install pytest==5.0"
      ],
      "execution_count": 10,
      "outputs": [
        {
          "output_type": "stream",
          "text": [
            "Collecting folium==0.2.1\n",
            "\u001b[?25l  Downloading https://files.pythonhosted.org/packages/72/dd/75ced7437bfa7cb9a88b96ee0177953062803c3b4cde411a97d98c35adaf/folium-0.2.1.tar.gz (69kB)\n",
            "\r\u001b[K     |████▊                           | 10kB 6.9MB/s eta 0:00:01\r\u001b[K     |█████████▍                      | 20kB 1.7MB/s eta 0:00:01\r\u001b[K     |██████████████                  | 30kB 2.2MB/s eta 0:00:01\r\u001b[K     |██████████████████▊             | 40kB 2.3MB/s eta 0:00:01\r\u001b[K     |███████████████████████▍        | 51kB 1.9MB/s eta 0:00:01\r\u001b[K     |████████████████████████████    | 61kB 2.2MB/s eta 0:00:01\r\u001b[K     |████████████████████████████████| 71kB 1.6MB/s \n",
            "\u001b[?25hRequirement already satisfied: Jinja2 in /usr/local/lib/python3.6/dist-packages (from folium==0.2.1) (2.11.2)\n",
            "Requirement already satisfied: MarkupSafe>=0.23 in /usr/local/lib/python3.6/dist-packages (from Jinja2->folium==0.2.1) (1.1.1)\n",
            "Building wheels for collected packages: folium\n",
            "  Building wheel for folium (setup.py) ... \u001b[?25l\u001b[?25hdone\n",
            "  Created wheel for folium: filename=folium-0.2.1-cp36-none-any.whl size=79980 sha256=9e7c1e6eb0dd7ec25b5485fe6b682544b0e04344de9248ba204324d302344206\n",
            "  Stored in directory: /root/.cache/pip/wheels/b8/09/f0/52d2ef419c2aaf4fb149f92a33e0008bdce7ae816f0dd8f0c5\n",
            "Successfully built folium\n",
            "Installing collected packages: folium\n",
            "  Found existing installation: folium 0.8.3\n",
            "    Uninstalling folium-0.8.3:\n",
            "      Successfully uninstalled folium-0.8.3\n",
            "Successfully installed folium-0.2.1\n",
            "Collecting pytest==5.0\n",
            "\u001b[?25l  Downloading https://files.pythonhosted.org/packages/4c/35/e13740d90c413fb5ec3c9b5243f79981f7bc759f4a12a959d8dadd57f971/pytest-5.0.0-py3-none-any.whl (221kB)\n",
            "\u001b[K     |████████████████████████████████| 225kB 2.7MB/s \n",
            "\u001b[?25hRequirement already satisfied: importlib-metadata>=0.12 in /usr/local/lib/python3.6/dist-packages (from pytest==5.0) (2.0.0)\n",
            "Collecting pluggy<1.0,>=0.12\n",
            "  Downloading https://files.pythonhosted.org/packages/a0/28/85c7aa31b80d150b772fbe4a229487bc6644da9ccb7e427dd8cc60cb8a62/pluggy-0.13.1-py2.py3-none-any.whl\n",
            "Requirement already satisfied: more-itertools>=4.0.0 in /usr/local/lib/python3.6/dist-packages (from pytest==5.0) (8.6.0)\n",
            "Requirement already satisfied: atomicwrites>=1.0 in /usr/local/lib/python3.6/dist-packages (from pytest==5.0) (1.4.0)\n",
            "Requirement already satisfied: packaging in /usr/local/lib/python3.6/dist-packages (from pytest==5.0) (20.4)\n",
            "Requirement already satisfied: py>=1.5.0 in /usr/local/lib/python3.6/dist-packages (from pytest==5.0) (1.9.0)\n",
            "Requirement already satisfied: wcwidth in /usr/local/lib/python3.6/dist-packages (from pytest==5.0) (0.2.5)\n",
            "Requirement already satisfied: attrs>=17.4.0 in /usr/local/lib/python3.6/dist-packages (from pytest==5.0) (20.2.0)\n",
            "Requirement already satisfied: zipp>=0.5 in /usr/local/lib/python3.6/dist-packages (from importlib-metadata>=0.12->pytest==5.0) (3.4.0)\n",
            "Requirement already satisfied: six in /usr/local/lib/python3.6/dist-packages (from packaging->pytest==5.0) (1.15.0)\n",
            "Requirement already satisfied: pyparsing>=2.0.2 in /usr/local/lib/python3.6/dist-packages (from packaging->pytest==5.0) (2.4.7)\n",
            "Installing collected packages: pluggy, pytest\n",
            "  Found existing installation: pluggy 0.7.1\n",
            "    Uninstalling pluggy-0.7.1:\n",
            "      Successfully uninstalled pluggy-0.7.1\n",
            "  Found existing installation: pytest 3.6.4\n",
            "    Uninstalling pytest-3.6.4:\n",
            "      Successfully uninstalled pytest-3.6.4\n",
            "Successfully installed pluggy-0.13.1 pytest-5.0.0\n"
          ],
          "name": "stdout"
        }
      ]
    },
    {
      "cell_type": "code",
      "metadata": {
        "id": "9A1UNeLYoqOd",
        "outputId": "d18dd83d-8140-4e9b-ee04-34bd3a2b2f50",
        "colab": {
          "base_uri": "https://localhost:8080/"
        }
      },
      "source": [
        "!pytest"
      ],
      "execution_count": 11,
      "outputs": [
        {
          "output_type": "stream",
          "text": [
            "\u001b[1m============================= test session starts ==============================\u001b[0m\n",
            "platform linux -- Python 3.6.9, pytest-5.0.0, py-1.9.0, pluggy-0.13.1\n",
            "rootdir: /content/phonemizer, inifile: setup.cfg, testpaths: test\n",
            "plugins: typeguard-2.7.1\n",
            "collected 163 items                                                            \u001b[0m\n",
            "\n",
            "test/test_espeak.py \u001b[32m.\u001b[0m\u001b[32m.\u001b[0m\u001b[32m.\u001b[0m\u001b[32m.\u001b[0m\u001b[32m.\u001b[0m\u001b[32m.\u001b[0m\u001b[32m.\u001b[0m\u001b[32m.\u001b[0m\u001b[32m.\u001b[0m\u001b[32m.\u001b[0m\u001b[32m.\u001b[0m\u001b[32m.\u001b[0m\u001b[32m.\u001b[0m\u001b[32m.\u001b[0m\u001b[32m.\u001b[0m\u001b[32m.\u001b[0m\u001b[32m.\u001b[0m\u001b[32m.\u001b[0m\u001b[32m.\u001b[0m\u001b[32m.\u001b[0m\u001b[32m.\u001b[0m\u001b[32m.\u001b[0m\u001b[32m.\u001b[0m\u001b[32m.\u001b[0m\u001b[32m.\u001b[0m\u001b[32m.\u001b[0m\u001b[32m.\u001b[0m\u001b[32m.\u001b[0m\u001b[32m.\u001b[0m\u001b[32m.\u001b[0m\u001b[32m.\u001b[0m\u001b[32m.\u001b[0m\u001b[32m.\u001b[0m\u001b[32m.\u001b[0m\u001b[32m.\u001b[0m\u001b[32m.\u001b[0m\u001b[32m.\u001b[0m\u001b[32m.\u001b[0m\u001b[33ms\u001b[0m\u001b[33ms\u001b[0m\u001b[33ms\u001b[0m\u001b[33ms\u001b[0m\u001b[33ms\u001b[0m\u001b[33ms\u001b[0m\u001b[33ms\u001b[0m\u001b[33ms\u001b[0m\u001b[33ms\u001b[0m\u001b[33ms\u001b[0m\u001b[33ms\u001b[0m\u001b[33ms\u001b[0m\u001b[33ms\u001b[0m\u001b[33ms\u001b[0m\u001b[36m [ 31%]\n",
            "\u001b[0m\u001b[33ms\u001b[0m\u001b[33ms\u001b[0m\u001b[33ms\u001b[0m\u001b[33ms\u001b[0m\u001b[33ms\u001b[0m\u001b[33ms\u001b[0m\u001b[33ms\u001b[0m\u001b[33ms\u001b[0m\u001b[33ms\u001b[0m\u001b[33ms\u001b[0m\u001b[33ms\u001b[0m\u001b[33ms\u001b[0m\u001b[33ms\u001b[0m\u001b[33ms\u001b[0m\u001b[33ms\u001b[0m\u001b[33ms\u001b[0m\u001b[33ms\u001b[0m\u001b[33ms\u001b[0m\u001b[33ms\u001b[0m\u001b[33ms\u001b[0m\u001b[33ms\u001b[0m\u001b[33ms\u001b[0m\u001b[33ms\u001b[0m\u001b[33ms\u001b[0m\u001b[32m.\u001b[0m\u001b[36m                                                [ 47%]\u001b[0m\n",
            "test/test_festival.py \u001b[32m.\u001b[0m\u001b[32m.\u001b[0m\u001b[32m.\u001b[0m\u001b[32m.\u001b[0m\u001b[32m.\u001b[0m\u001b[32m.\u001b[0m\u001b[32m.\u001b[0m\u001b[32m.\u001b[0m\u001b[32m.\u001b[0m\u001b[32m.\u001b[0m\u001b[32m.\u001b[0m\u001b[32m.\u001b[0m\u001b[32m.\u001b[0m\u001b[32m.\u001b[0m\u001b[36m                                     [ 55%]\u001b[0m\n",
            "test/test_import.py \u001b[32m.\u001b[0m\u001b[32m.\u001b[0m\u001b[36m                                                   [ 57%]\u001b[0m\n",
            "test/test_main.py \u001b[32m.\u001b[0m\u001b[32m.\u001b[0m\u001b[32m.\u001b[0m\u001b[32m.\u001b[0m\u001b[32m.\u001b[0m\u001b[32m.\u001b[0m\u001b[32m.\u001b[0m\u001b[32m.\u001b[0m\u001b[32m.\u001b[0m\u001b[33ms\u001b[0m\u001b[32m.\u001b[0m\u001b[32m.\u001b[0m\u001b[36m                                           [ 64%]\u001b[0m\n",
            "test/test_phonemize.py \u001b[32m.\u001b[0m\u001b[32m.\u001b[0m\u001b[32m.\u001b[0m\u001b[32m.\u001b[0m\u001b[32m.\u001b[0m\u001b[32m.\u001b[0m\u001b[32m.\u001b[0m\u001b[33ms\u001b[0m\u001b[33ms\u001b[0m\u001b[32m.\u001b[0m\u001b[32m.\u001b[0m\u001b[32m.\u001b[0m\u001b[32m.\u001b[0m\u001b[32m.\u001b[0m\u001b[36m                                    [ 73%]\u001b[0m\n",
            "test/test_punctuation.py \u001b[32m.\u001b[0m\u001b[32m.\u001b[0m\u001b[32m.\u001b[0m\u001b[32m.\u001b[0m\u001b[32m.\u001b[0m\u001b[32m.\u001b[0m\u001b[32m.\u001b[0m\u001b[32m.\u001b[0m\u001b[32m.\u001b[0m\u001b[32m.\u001b[0m\u001b[32m.\u001b[0m\u001b[32m.\u001b[0m\u001b[32m.\u001b[0m\u001b[32m.\u001b[0m\u001b[32m.\u001b[0m\u001b[32m.\u001b[0m\u001b[32m.\u001b[0m\u001b[32m.\u001b[0m\u001b[32m.\u001b[0m\u001b[32m.\u001b[0m\u001b[32m.\u001b[0m\u001b[32m.\u001b[0m\u001b[32m.\u001b[0m\u001b[32m.\u001b[0m\u001b[32m.\u001b[0m\u001b[36m                       [ 88%]\u001b[0m\n",
            "test/test_segments.py \u001b[32m.\u001b[0m\u001b[32m.\u001b[0m\u001b[32m.\u001b[0m\u001b[32m.\u001b[0m\u001b[32m.\u001b[0m\u001b[32m.\u001b[0m\u001b[32m.\u001b[0m\u001b[32m.\u001b[0m\u001b[36m                                           [ 93%]\u001b[0m\n",
            "test/test_separator.py \u001b[32m.\u001b[0m\u001b[32m.\u001b[0m\u001b[32m.\u001b[0m\u001b[32m.\u001b[0m\u001b[32m.\u001b[0m\u001b[32m.\u001b[0m\u001b[32m.\u001b[0m\u001b[36m                                           [ 97%]\u001b[0m\n",
            "test/test_utils.py \u001b[32m.\u001b[0m\u001b[32m.\u001b[0m\u001b[32m.\u001b[0m\u001b[32m.\u001b[0m\u001b[36m                                                  [100%]\u001b[0m\n",
            "\n",
            "\u001b[32m\u001b[1m=================== 122 passed, 41 skipped in 23.49 seconds ====================\u001b[0m\n"
          ],
          "name": "stdout"
        }
      ]
    },
    {
      "cell_type": "code",
      "metadata": {
        "id": "YAQgPmtatDkH",
        "outputId": "8afdc460-348e-46b1-a855-818f54e6086c",
        "colab": {
          "base_uri": "https://localhost:8080/"
        }
      },
      "source": [
        "!phonemize --version"
      ],
      "execution_count": 14,
      "outputs": [
        {
          "output_type": "stream",
          "text": [
            "phonemizer-2.2.1\n",
            "available backends: espeak-ng-1.49.2, espeak-mbrola, festival-2.5.0, segments-2.1.3\n"
          ],
          "name": "stdout"
        }
      ]
    },
    {
      "cell_type": "markdown",
      "metadata": {
        "id": "aupCWxlvLL9i"
      },
      "source": [
        "If you meet an error: No module named 'segments', delete line in phonemizer/ phonemizer/ backend/ segments.py: import segments"
      ]
    },
    {
      "cell_type": "code",
      "metadata": {
        "id": "0JULco6FDRAB"
      },
      "source": [
        "from phonemizer.phonemize import phonemize"
      ],
      "execution_count": null,
      "outputs": []
    },
    {
      "cell_type": "markdown",
      "metadata": {
        "id": "DGZPosJQLy9r"
      },
      "source": [
        "Use dataset with torchaudio (Example on LibriSpeech)"
      ]
    },
    {
      "cell_type": "code",
      "metadata": {
        "id": "egg0JOEawDVP",
        "outputId": "dba60b9b-1a75-4865-f4af-a038d03c4052",
        "colab": {
          "base_uri": "https://localhost:8080/"
        }
      },
      "source": [
        "!pip install torchcontrib\n",
        "!pip install torchaudio -f https://download.pytorch.org/whl/torch_stable.html\n",
        "!pip install https://github.com/PytorchLightning/pytorch-lightning/archive/0.9.0.zip --upgrade\n",
        "!pip install pytorch-model-summary"
      ],
      "execution_count": 1,
      "outputs": [
        {
          "output_type": "stream",
          "text": [
            "Collecting torchcontrib\n",
            "  Downloading https://files.pythonhosted.org/packages/72/36/45d475035ab35353911e72a03c1c1210eba63b71e5a6917a9e78a046aa10/torchcontrib-0.0.2.tar.gz\n",
            "Building wheels for collected packages: torchcontrib\n",
            "  Building wheel for torchcontrib (setup.py) ... \u001b[?25l\u001b[?25hdone\n",
            "  Created wheel for torchcontrib: filename=torchcontrib-0.0.2-cp36-none-any.whl size=7533 sha256=4bb85079f3593b2e20de10bbca6715142280e2a0e01a9e35b7c0829b5911d55b\n",
            "  Stored in directory: /root/.cache/pip/wheels/06/06/7b/a5f5920bbf4f12a2c927e438fac17d4cd9560f8336b00e9a99\n",
            "Successfully built torchcontrib\n",
            "Installing collected packages: torchcontrib\n",
            "Successfully installed torchcontrib-0.0.2\n",
            "Looking in links: https://download.pytorch.org/whl/torch_stable.html\n",
            "Collecting torchaudio\n",
            "\u001b[?25l  Downloading https://files.pythonhosted.org/packages/3f/23/6b54106b3de029d3f10cf8debc302491c17630357449c900d6209665b302/torchaudio-0.7.0-cp36-cp36m-manylinux1_x86_64.whl (7.6MB)\n",
            "\u001b[K     |████████████████████████████████| 7.6MB 2.8MB/s \n",
            "\u001b[?25hRequirement already satisfied: torch==1.7.0 in /usr/local/lib/python3.6/dist-packages (from torchaudio) (1.7.0+cu101)\n",
            "Requirement already satisfied: dataclasses in /usr/local/lib/python3.6/dist-packages (from torch==1.7.0->torchaudio) (0.7)\n",
            "Requirement already satisfied: typing-extensions in /usr/local/lib/python3.6/dist-packages (from torch==1.7.0->torchaudio) (3.7.4.3)\n",
            "Requirement already satisfied: future in /usr/local/lib/python3.6/dist-packages (from torch==1.7.0->torchaudio) (0.16.0)\n",
            "Requirement already satisfied: numpy in /usr/local/lib/python3.6/dist-packages (from torch==1.7.0->torchaudio) (1.18.5)\n",
            "Installing collected packages: torchaudio\n",
            "Successfully installed torchaudio-0.7.0\n",
            "Collecting https://github.com/PytorchLightning/pytorch-lightning/archive/0.9.0.zip\n",
            "\u001b[?25l  Downloading https://github.com/PytorchLightning/pytorch-lightning/archive/0.9.0.zip\n",
            "\u001b[K     / 41.5MB 897kB/s\n",
            "\u001b[?25h  Installing build dependencies ... \u001b[?25l\u001b[?25hdone\n",
            "  Getting requirements to build wheel ... \u001b[?25l\u001b[?25hdone\n",
            "    Preparing wheel metadata ... \u001b[?25l\u001b[?25hdone\n",
            "Collecting future>=0.17.1\n",
            "\u001b[?25l  Downloading https://files.pythonhosted.org/packages/45/0b/38b06fd9b92dc2b68d58b75f900e97884c45bedd2ff83203d933cf5851c9/future-0.18.2.tar.gz (829kB)\n",
            "\u001b[K     |████████████████████████████████| 829kB 2.7MB/s \n",
            "\u001b[?25hCollecting tensorboard==2.2.0\n",
            "\u001b[?25l  Downloading https://files.pythonhosted.org/packages/54/f5/d75a6f7935e4a4870d85770bc9976b12e7024fbceb83a1a6bc50e6deb7c4/tensorboard-2.2.0-py3-none-any.whl (2.8MB)\n",
            "\u001b[K     |████████████████████████████████| 2.8MB 13.5MB/s \n",
            "\u001b[?25hRequirement already satisfied, skipping upgrade: tqdm>=4.41.0 in /usr/local/lib/python3.6/dist-packages (from pytorch-lightning==0.9.0) (4.41.1)\n",
            "Requirement already satisfied, skipping upgrade: torch>=1.3 in /usr/local/lib/python3.6/dist-packages (from pytorch-lightning==0.9.0) (1.7.0+cu101)\n",
            "Requirement already satisfied, skipping upgrade: numpy>=1.16.4 in /usr/local/lib/python3.6/dist-packages (from pytorch-lightning==0.9.0) (1.18.5)\n",
            "Requirement already satisfied, skipping upgrade: packaging in /usr/local/lib/python3.6/dist-packages (from pytorch-lightning==0.9.0) (20.4)\n",
            "Collecting PyYAML>=5.1\n",
            "\u001b[?25l  Downloading https://files.pythonhosted.org/packages/64/c2/b80047c7ac2478f9501676c988a5411ed5572f35d1beff9cae07d321512c/PyYAML-5.3.1.tar.gz (269kB)\n",
            "\u001b[K     |████████████████████████████████| 276kB 32.3MB/s \n",
            "\u001b[?25hRequirement already satisfied, skipping upgrade: markdown>=2.6.8 in /usr/local/lib/python3.6/dist-packages (from tensorboard==2.2.0->pytorch-lightning==0.9.0) (3.3.3)\n",
            "Requirement already satisfied, skipping upgrade: google-auth-oauthlib<0.5,>=0.4.1 in /usr/local/lib/python3.6/dist-packages (from tensorboard==2.2.0->pytorch-lightning==0.9.0) (0.4.2)\n",
            "Requirement already satisfied, skipping upgrade: grpcio>=1.24.3 in /usr/local/lib/python3.6/dist-packages (from tensorboard==2.2.0->pytorch-lightning==0.9.0) (1.33.2)\n",
            "Requirement already satisfied, skipping upgrade: protobuf>=3.6.0 in /usr/local/lib/python3.6/dist-packages (from tensorboard==2.2.0->pytorch-lightning==0.9.0) (3.12.4)\n",
            "Requirement already satisfied, skipping upgrade: six>=1.10.0 in /usr/local/lib/python3.6/dist-packages (from tensorboard==2.2.0->pytorch-lightning==0.9.0) (1.15.0)\n",
            "Requirement already satisfied, skipping upgrade: absl-py>=0.4 in /usr/local/lib/python3.6/dist-packages (from tensorboard==2.2.0->pytorch-lightning==0.9.0) (0.10.0)\n",
            "Requirement already satisfied, skipping upgrade: tensorboard-plugin-wit>=1.6.0 in /usr/local/lib/python3.6/dist-packages (from tensorboard==2.2.0->pytorch-lightning==0.9.0) (1.7.0)\n",
            "Requirement already satisfied, skipping upgrade: wheel>=0.26; python_version >= \"3\" in /usr/local/lib/python3.6/dist-packages (from tensorboard==2.2.0->pytorch-lightning==0.9.0) (0.35.1)\n",
            "Requirement already satisfied, skipping upgrade: google-auth<2,>=1.6.3 in /usr/local/lib/python3.6/dist-packages (from tensorboard==2.2.0->pytorch-lightning==0.9.0) (1.17.2)\n",
            "Requirement already satisfied, skipping upgrade: werkzeug>=0.11.15 in /usr/local/lib/python3.6/dist-packages (from tensorboard==2.2.0->pytorch-lightning==0.9.0) (1.0.1)\n",
            "Requirement already satisfied, skipping upgrade: requests<3,>=2.21.0 in /usr/local/lib/python3.6/dist-packages (from tensorboard==2.2.0->pytorch-lightning==0.9.0) (2.23.0)\n",
            "Requirement already satisfied, skipping upgrade: setuptools>=41.0.0 in /usr/local/lib/python3.6/dist-packages (from tensorboard==2.2.0->pytorch-lightning==0.9.0) (50.3.2)\n",
            "Requirement already satisfied, skipping upgrade: dataclasses in /usr/local/lib/python3.6/dist-packages (from torch>=1.3->pytorch-lightning==0.9.0) (0.7)\n",
            "Requirement already satisfied, skipping upgrade: typing-extensions in /usr/local/lib/python3.6/dist-packages (from torch>=1.3->pytorch-lightning==0.9.0) (3.7.4.3)\n",
            "Requirement already satisfied, skipping upgrade: pyparsing>=2.0.2 in /usr/local/lib/python3.6/dist-packages (from packaging->pytorch-lightning==0.9.0) (2.4.7)\n",
            "Requirement already satisfied, skipping upgrade: importlib-metadata; python_version < \"3.8\" in /usr/local/lib/python3.6/dist-packages (from markdown>=2.6.8->tensorboard==2.2.0->pytorch-lightning==0.9.0) (2.0.0)\n",
            "Requirement already satisfied, skipping upgrade: requests-oauthlib>=0.7.0 in /usr/local/lib/python3.6/dist-packages (from google-auth-oauthlib<0.5,>=0.4.1->tensorboard==2.2.0->pytorch-lightning==0.9.0) (1.3.0)\n",
            "Requirement already satisfied, skipping upgrade: cachetools<5.0,>=2.0.0 in /usr/local/lib/python3.6/dist-packages (from google-auth<2,>=1.6.3->tensorboard==2.2.0->pytorch-lightning==0.9.0) (4.1.1)\n",
            "Requirement already satisfied, skipping upgrade: pyasn1-modules>=0.2.1 in /usr/local/lib/python3.6/dist-packages (from google-auth<2,>=1.6.3->tensorboard==2.2.0->pytorch-lightning==0.9.0) (0.2.8)\n",
            "Requirement already satisfied, skipping upgrade: rsa<5,>=3.1.4; python_version >= \"3\" in /usr/local/lib/python3.6/dist-packages (from google-auth<2,>=1.6.3->tensorboard==2.2.0->pytorch-lightning==0.9.0) (4.6)\n",
            "Requirement already satisfied, skipping upgrade: chardet<4,>=3.0.2 in /usr/local/lib/python3.6/dist-packages (from requests<3,>=2.21.0->tensorboard==2.2.0->pytorch-lightning==0.9.0) (3.0.4)\n",
            "Requirement already satisfied, skipping upgrade: urllib3!=1.25.0,!=1.25.1,<1.26,>=1.21.1 in /usr/local/lib/python3.6/dist-packages (from requests<3,>=2.21.0->tensorboard==2.2.0->pytorch-lightning==0.9.0) (1.24.3)\n",
            "Requirement already satisfied, skipping upgrade: idna<3,>=2.5 in /usr/local/lib/python3.6/dist-packages (from requests<3,>=2.21.0->tensorboard==2.2.0->pytorch-lightning==0.9.0) (2.10)\n",
            "Requirement already satisfied, skipping upgrade: certifi>=2017.4.17 in /usr/local/lib/python3.6/dist-packages (from requests<3,>=2.21.0->tensorboard==2.2.0->pytorch-lightning==0.9.0) (2020.6.20)\n",
            "Requirement already satisfied, skipping upgrade: zipp>=0.5 in /usr/local/lib/python3.6/dist-packages (from importlib-metadata; python_version < \"3.8\"->markdown>=2.6.8->tensorboard==2.2.0->pytorch-lightning==0.9.0) (3.4.0)\n",
            "Requirement already satisfied, skipping upgrade: oauthlib>=3.0.0 in /usr/local/lib/python3.6/dist-packages (from requests-oauthlib>=0.7.0->google-auth-oauthlib<0.5,>=0.4.1->tensorboard==2.2.0->pytorch-lightning==0.9.0) (3.1.0)\n",
            "Requirement already satisfied, skipping upgrade: pyasn1<0.5.0,>=0.4.6 in /usr/local/lib/python3.6/dist-packages (from pyasn1-modules>=0.2.1->google-auth<2,>=1.6.3->tensorboard==2.2.0->pytorch-lightning==0.9.0) (0.4.8)\n",
            "Building wheels for collected packages: pytorch-lightning\n",
            "  Building wheel for pytorch-lightning (PEP 517) ... \u001b[?25l\u001b[?25hdone\n",
            "  Created wheel for pytorch-lightning: filename=pytorch_lightning-0.9.0-cp36-none-any.whl size=408164 sha256=ce402ca74883458b7903c827999a8fc8b6101d7c9f86f3275270713f514f3aa2\n",
            "  Stored in directory: /tmp/pip-ephem-wheel-cache-yv54mv8o/wheels/e3/06/fe/ebddb4216c16678c41c2ddea926d265d22273d4d0436684edc\n",
            "Successfully built pytorch-lightning\n",
            "Building wheels for collected packages: future, PyYAML\n",
            "  Building wheel for future (setup.py) ... \u001b[?25l\u001b[?25hdone\n",
            "  Created wheel for future: filename=future-0.18.2-cp36-none-any.whl size=491057 sha256=13fe754bef3b68e760c0350a35aa520d8a2d89ba989c303a3904a941684cd3cf\n",
            "  Stored in directory: /root/.cache/pip/wheels/8b/99/a0/81daf51dcd359a9377b110a8a886b3895921802d2fc1b2397e\n",
            "  Building wheel for PyYAML (setup.py) ... \u001b[?25l\u001b[?25hdone\n",
            "  Created wheel for PyYAML: filename=PyYAML-5.3.1-cp36-cp36m-linux_x86_64.whl size=44619 sha256=ea641f8a99bc78312ca8c0e01d057dc5fa1e46e5fe934ab62a7bbc1453a62ad4\n",
            "  Stored in directory: /root/.cache/pip/wheels/a7/c1/ea/cf5bd31012e735dc1dfea3131a2d5eae7978b251083d6247bd\n",
            "Successfully built future PyYAML\n",
            "\u001b[31mERROR: tensorflow 2.3.0 has requirement tensorboard<3,>=2.3.0, but you'll have tensorboard 2.2.0 which is incompatible.\u001b[0m\n",
            "Installing collected packages: future, tensorboard, PyYAML, pytorch-lightning\n",
            "  Found existing installation: future 0.16.0\n",
            "    Uninstalling future-0.16.0:\n",
            "      Successfully uninstalled future-0.16.0\n",
            "  Found existing installation: tensorboard 2.3.0\n",
            "    Uninstalling tensorboard-2.3.0:\n",
            "      Successfully uninstalled tensorboard-2.3.0\n",
            "  Found existing installation: PyYAML 3.13\n",
            "    Uninstalling PyYAML-3.13:\n",
            "      Successfully uninstalled PyYAML-3.13\n",
            "Successfully installed PyYAML-5.3.1 future-0.18.2 pytorch-lightning-0.9.0 tensorboard-2.2.0\n",
            "Collecting pytorch-model-summary\n",
            "  Downloading https://files.pythonhosted.org/packages/fe/45/01d67be55fe3683a9221ac956ba46d1ca32da7bf96029b8d1c7667b8a55c/pytorch_model_summary-0.1.2-py3-none-any.whl\n",
            "Requirement already satisfied: torch in /usr/local/lib/python3.6/dist-packages (from pytorch-model-summary) (1.7.0+cu101)\n",
            "Requirement already satisfied: numpy in /usr/local/lib/python3.6/dist-packages (from pytorch-model-summary) (1.18.5)\n",
            "Requirement already satisfied: tqdm in /usr/local/lib/python3.6/dist-packages (from pytorch-model-summary) (4.41.1)\n",
            "Requirement already satisfied: dataclasses in /usr/local/lib/python3.6/dist-packages (from torch->pytorch-model-summary) (0.7)\n",
            "Requirement already satisfied: typing-extensions in /usr/local/lib/python3.6/dist-packages (from torch->pytorch-model-summary) (3.7.4.3)\n",
            "Requirement already satisfied: future in /usr/local/lib/python3.6/dist-packages (from torch->pytorch-model-summary) (0.18.2)\n",
            "Installing collected packages: pytorch-model-summary\n",
            "Successfully installed pytorch-model-summary-0.1.2\n"
          ],
          "name": "stdout"
        }
      ]
    },
    {
      "cell_type": "code",
      "metadata": {
        "id": "EKHPtgS3wM32",
        "outputId": "5f1a8822-cb28-4606-9f19-ea8d9ad36664",
        "colab": {
          "base_uri": "https://localhost:8080/"
        }
      },
      "source": [
        "%matplotlib inline\n",
        "import torch\n",
        "import torchaudio\n",
        "import matplotlib.pyplot as plt"
      ],
      "execution_count": 2,
      "outputs": [
        {
          "output_type": "stream",
          "text": [
            "/usr/local/lib/python3.6/dist-packages/torchaudio/backend/utils.py:54: UserWarning: \"sox\" backend is being deprecated. The default backend will be changed to \"sox_io\" backend in 0.8.0 and \"sox\" backend will be removed in 0.9.0. Please migrate to \"sox_io\" backend. Please refer to https://github.com/pytorch/audio/issues/903 for the detail.\n",
            "  '\"sox\" backend is being deprecated. '\n"
          ],
          "name": "stderr"
        }
      ]
    },
    {
      "cell_type": "code",
      "metadata": {
        "id": "RXdTUfVfyLd7",
        "outputId": "6d9fa7f6-756c-4cd2-bda6-e097b587cf4f",
        "colab": {
          "base_uri": "https://localhost:8080/"
        }
      },
      "source": [
        "%cd\n",
        "%cd /content/"
      ],
      "execution_count": 99,
      "outputs": [
        {
          "output_type": "stream",
          "text": [
            "/root\n",
            "/content\n"
          ],
          "name": "stdout"
        }
      ]
    },
    {
      "cell_type": "markdown",
      "metadata": {
        "id": "5tqVrfJ1L64z"
      },
      "source": [
        "Ignore if you don't keep the dataset in drive"
      ]
    },
    {
      "cell_type": "code",
      "metadata": {
        "id": "tqjz62bbDK7T",
        "outputId": "587bec72-476c-486e-b770-ba3171886347",
        "colab": {
          "base_uri": "https://localhost:8080/"
        }
      },
      "source": [
        "from google.colab import drive\n",
        "drive.mount('/content/drive')"
      ],
      "execution_count": 100,
      "outputs": [
        {
          "output_type": "stream",
          "text": [
            "Mounted at /content/drive\n"
          ],
          "name": "stdout"
        }
      ]
    },
    {
      "cell_type": "markdown",
      "metadata": {
        "id": "_qiBI2I6MCSa"
      },
      "source": [
        "If you have downloaded LibriSpeech dataset, copy it to working directory"
      ]
    },
    {
      "cell_type": "code",
      "metadata": {
        "id": "vz4NsV6yzo38",
        "outputId": "487e085c-341e-48bb-ec24-d63b7d669430",
        "colab": {
          "base_uri": "https://localhost:8080/"
        }
      },
      "source": [
        "data = torchaudio.datasets.LIBRISPEECH(root='./',url='dev-clean', folder_in_archive='LibriSpeech', download=False)\n",
        "len(data)"
      ],
      "execution_count": 105,
      "outputs": [
        {
          "output_type": "execute_result",
          "data": {
            "text/plain": [
              "2703"
            ]
          },
          "metadata": {
            "tags": []
          },
          "execution_count": 105
        }
      ]
    },
    {
      "cell_type": "markdown",
      "metadata": {
        "id": "7WBCQukLMY7z"
      },
      "source": [
        "Otherwise download"
      ]
    },
    {
      "cell_type": "code",
      "metadata": {
        "id": "6WgTqpnw7G7M",
        "outputId": "d38a913c-b13c-47b5-9195-0ac588d6b40d",
        "colab": {
          "base_uri": "https://localhost:8080/"
        }
      },
      "source": [
        "data = torchaudio.datasets.LIBRISPEECH(root='./',url='dev-clean', folder_in_archive='LibriSpeech', download=True)\n",
        "len(data)"
      ],
      "execution_count": 50,
      "outputs": [
        {
          "output_type": "execute_result",
          "data": {
            "text/plain": [
              "0"
            ]
          },
          "metadata": {
            "tags": []
          },
          "execution_count": 50
        }
      ]
    },
    {
      "cell_type": "code",
      "metadata": {
        "id": "Qi9Pc0V9wNtO",
        "outputId": "79520bb1-1a5b-4637-899d-762a269a41e8",
        "colab": {
          "base_uri": "https://localhost:8080/"
        }
      },
      "source": [
        "n=2702 #[0, 2702]\n",
        "waveform, sample_rate, utterance, speaker_id, chapter_id, utterance_id = data.__getitem__(n)\n",
        "specgram = torchaudio.transforms.MelSpectrogram()(waveform)\n",
        "plt.figure()\n",
        "p = plt.imshow(specgram.log2()[0,:,:].detach().numpy(), cmap='gray')"
      ],
      "execution_count": 113,
      "outputs": [
        {
          "output_type": "stream",
          "text": [
            "/usr/local/lib/python3.6/dist-packages/torchaudio/functional.py:318: UserWarning: At least one mel filterbank has all zero values. The value for `n_mels` (128) may be set too high. Or, the value for `n_freqs` (201) may be set too low.\n",
            "  \"At least one mel filterbank has all zero values. \"\n"
          ],
          "name": "stderr"
        }
      ]
    },
    {
      "cell_type": "markdown",
      "metadata": {
        "id": "Zv0bDFDPMi-8"
      },
      "source": [
        "Convert utterances from your dataset to phonemes"
      ]
    },
    {
      "cell_type": "code",
      "metadata": {
        "id": "Tr_BcOz3FJRc",
        "outputId": "9471c1d9-b81e-4315-f4f9-057e3f827754",
        "colab": {
          "base_uri": "https://localhost:8080/",
          "height": 1000
        }
      },
      "source": [
        "utterances = []\n",
        "for i in range(len(data)):\n",
        "  utterances.append(phonemize(data.__getitem__(i)[2],backend='espeak',with_stress=True, separator=separator.Separator(phone=' ', syllable='', word='')))\n",
        "  #Comment previous line and uncomment to change backend\n",
        "  #utterances.append(phonemize(data.__getitem__(i)[2], backend='espeak'))\n",
        "  print(i)"
      ]
      ]
    }
  ]
}
