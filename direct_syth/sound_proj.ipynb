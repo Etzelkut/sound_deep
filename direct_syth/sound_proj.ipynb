{
  "nbformat": 4,
  "nbformat_minor": 0,
  "metadata": {
    "colab": {
      "name": "sound_proj.ipynb",
      "provenance": [],
      "collapsed_sections": []
    },
    "kernelspec": {
      "display_name": "Python 3",
      "name": "python3"
    },
    "accelerator": "GPU"
  },
  "cells": [
    {
      "cell_type": "code",
      "metadata": {
        "colab": {
          "base_uri": "https://localhost:8080/",
          "height": 105
        },
        "id": "4tRlK-8Q87v6",
        "outputId": "13794e8e-b79c-4f7e-fa67-669b411267dd"
      },
      "source": [
        "\"\"\"t = torchaudio.transforms.MelSpectrogram(sample_rate=48000, n_mels=128)\n",
        "path = \"/content/COMMONVOICE\"\n",
        "TSV = \"my_test.tsv\"\n",
        "\n",
        "tsvm = os.path.join(path, TSV)\n",
        "df = pd.read_csv(tsvm, sep=\"\\t\")\n",
        "strings = df['path'].values\n",
        "folder = os.path.join(path, \"clips\")\n",
        "\n",
        "mel_l, wav_l = [], []\n",
        "i = 0\n",
        "print(len(strings))\n",
        "for names in strings:\n",
        "  filename = os.path.join(folder,names)\n",
        "  waveform, sample_rate = torchaudio.load(filename)\n",
        "  mel = t(waveform)\n",
        "  mel_l.append(mel.shape[2])\n",
        "  wav_l.append(waveform.shape[1])\n",
        "  i+=1\n",
        "  if i%100 == 0:\n",
        "    print(i)\n",
        "\n",
        "df[\"mel_l\"] = mel_l\n",
        "df[\"wav_l\"] = wav_l\n",
        "new_TSV = \"new_\" + TSV\n",
        "tsvm = os.path.join(\"/content/drive/MyDrive/senior_sound/work\", new_TSV)\n",
        "df.to_csv(tsvm, sep = '\\t', index=False)\"\"\""
      ],
      "execution_count": null,
      "outputs": [
        {
          "output_type": "execute_result",
          "data": {
            "application/vnd.google.colaboratory.intrinsic+json": {
              "type": "string"
            },
            "text/plain": [
              "'t = torchaudio.transforms.MelSpectrogram(sample_rate=48000, n_mels=128)\\npath = \"/content/COMMONVOICE\"\\nTSV = \"my_test.tsv\"\\n\\ntsvm = os.path.join(path, TSV)\\ndf = pd.read_csv(tsvm, sep=\"\\t\")\\nstrings = df[\\'path\\'].values\\nfolder = os.path.join(path, \"clips\")\\n\\nmel_l, wav_l = [], []\\ni = 0\\nprint(len(strings))\\nfor names in strings:\\n  filename = os.path.join(folder,names)\\n  waveform, sample_rate = torchaudio.load(filename)\\n  mel = t(waveform)\\n  mel_l.append(mel.shape[2])\\n  wav_l.append(waveform.shape[1])\\n  i+=1\\n  if i%100 == 0:\\n    print(i)\\n\\ndf[\"mel_l\"] = mel_l\\ndf[\"wav_l\"] = wav_l\\nnew_TSV = \"new_\" + TSV\\ntsvm = os.path.join(\"/content/drive/MyDrive/senior_sound/work\", new_TSV)\\ndf.to_csv(tsvm, sep = \\'\\t\\', index=False)'"
            ]
          },
          "metadata": {
            "tags": []
          },
          "execution_count": 1
        }
      ]
    },
    {
      "cell_type": "code",
      "metadata": {
        "id": "mFXBUJ--qA38",
        "colab": {
          "base_uri": "https://localhost:8080/",
          "height": 87
        },
        "outputId": "ecb61dc7-3216-4d6e-bcb1-2f95437c91fd"
      },
      "source": [
        "\"\"\"from modules import Model_Check\n",
        "b_model = Model_Check(hyperparams)\n",
        "\n",
        "text_mask, audio_mask = None, None\n",
        "text_input = torch.zeros((1, 300)).long()\n",
        "audio_input = torch.randn((1, 1, 128, 1602)).long()\n",
        "\n",
        "input = (text_input, text_mask, audio_input, audio_mask)\n",
        "\n",
        "y = b_model(text_input, text_mask, audio_input, audio_mask)\n",
        "print(y.shape)\n",
        "print(summary(b_model, text_input, text_mask, audio_input, audio_mask, show_input=True))\n",
        "c = 0\n",
        "for parameter in model.parameters():\n",
        "    print((parameter.shape))\n",
        "    if len(parameter.shape) == 1:\n",
        "      c += parameter.shape[0]\n",
        "    else:\n",
        "      c += (parameter.shape[0] * parameter.shape[1])\n",
        "c\"\"\""
      ],
      "execution_count": null,
      "outputs": [
        {
          "output_type": "execute_result",
          "data": {
            "application/vnd.google.colaboratory.intrinsic+json": {
              "type": "string"
            },
            "text/plain": [
              "'from modules import Model_Check\\nb_model = Model_Check(hyperparams)\\n\\ntext_mask, audio_mask = None, None\\ntext_input = torch.zeros((1, 300)).long()\\naudio_input = torch.randn((1, 1, 128, 1602)).long()\\n\\ninput = (text_input, text_mask, audio_input, audio_mask)\\n\\ny = b_model(text_input, text_mask, audio_input, audio_mask)\\nprint(y.shape)\\nprint(summary(b_model, text_input, text_mask, audio_input, audio_mask, show_input=True))\\nc = 0\\nfor parameter in model.parameters():\\n    print((parameter.shape))\\n    if len(parameter.shape) == 1:\\n      c += parameter.shape[0]\\n    else:\\n      c += (parameter.shape[0] * parameter.shape[1])\\nc'"
            ]
          },
          "metadata": {
            "tags": []
          },
          "execution_count": 2
        }
      ]
    },
    {
      "cell_type": "code",
      "metadata": {
        "id": "n1oxwUhgDHkH"
      },
      "source": [
        "#!wget -c https://voice-prod-bundler-ee1969a6ce8178826482b88e843c335139bd3fb4.s3.amazonaws.com/cv-corpus-5.1-2020-06-22/en.tar.gz -P\"drive/My Drive/senior_sound/work\"\n",
        "#!tar -xf \"drive/My Drive/senior_sound/work/en.tar.gz\" -C \"drive/My Drive/senior_sound/work/COMMONVOICE\"\n",
        "!mkdir COMMONVOICE\n",
        "!cp \"/content/drive/MyDrive/senior_sound/work/c_en_sound.zip\" \"/content/COMMONVOICE\""
      ],
      "execution_count": null,
      "outputs": []
    },
    {
      "cell_type": "code",
      "metadata": {
        "id": "vPZMcnbAUIka"
      },
      "source": [
        "!cp /content/drive/MyDrive/senior_sound/work/{ph_end_new_my_train.tsv,ph_end_new_my_test.tsv,ph_end_new_my_dev.tsv} /content/COMMONVOICE"
      ],
      "execution_count": null,
      "outputs": []
    },
    {
      "cell_type": "code",
      "metadata": {
        "id": "Qq19XSURDzIs"
      },
      "source": [
        "!unzip -n -q \"/content/COMMONVOICE/c_en_sound.zip\" -d \"/content/COMMONVOICE\""
      ],
      "execution_count": null,
      "outputs": []
    },
    {
      "cell_type": "code",
      "metadata": {
        "id": "V6mypqk5d_oR",
        "colab": {
          "base_uri": "https://localhost:8080/"
        },
        "outputId": "bda2030d-e11f-4181-a7ac-9cb532d664bb"
      },
      "source": [
        "!pip install librosa\n",
        "!pip install torchaudio #-f https://download.pytorch.org/whl/torch_stable.html\n",
        "#!pip install https://github.com/PytorchLightning/pytorch-lightning/archive/0.9.0.zip --upgrade\n",
        "!pip install pytorch-model-summary\n",
        "!pip install allennlp\n",
        "!pip install phonemizer\n",
        "!apt-get install festival espeak-ng mbrola\n",
        "!pip install pytorch-lightning\n",
        "!pip install comet-ml\n",
        "!pip install local-attention\n",
        "!pip install einops"
      ],
      "execution_count": null,
      "outputs": [
        {
          "output_type": "stream",
          "text": [
            "Requirement already satisfied: librosa in /usr/local/lib/python3.6/dist-packages (0.6.3)\n",
            "Requirement already satisfied: audioread>=2.0.0 in /usr/local/lib/python3.6/dist-packages (from librosa) (2.1.9)\n",
            "Requirement already satisfied: six>=1.3 in /usr/local/lib/python3.6/dist-packages (from librosa) (1.15.0)\n",
            "Requirement already satisfied: resampy>=0.2.0 in /usr/local/lib/python3.6/dist-packages (from librosa) (0.2.2)\n",
            "Requirement already satisfied: joblib>=0.12 in /usr/local/lib/python3.6/dist-packages (from librosa) (0.17.0)\n",
            "Requirement already satisfied: decorator>=3.0.0 in /usr/local/lib/python3.6/dist-packages (from librosa) (4.4.2)\n",
            "Requirement already satisfied: numba>=0.38.0 in /usr/local/lib/python3.6/dist-packages (from librosa) (0.48.0)\n",
            "Requirement already satisfied: scipy>=1.0.0 in /usr/local/lib/python3.6/dist-packages (from librosa) (1.4.1)\n",
            "Requirement already satisfied: scikit-learn!=0.19.0,>=0.14.0 in /usr/local/lib/python3.6/dist-packages (from librosa) (0.22.2.post1)\n",
            "Requirement already satisfied: numpy>=1.8.0 in /usr/local/lib/python3.6/dist-packages (from librosa) (1.18.5)\n",
            "Requirement already satisfied: llvmlite<0.32.0,>=0.31.0dev0 in /usr/local/lib/python3.6/dist-packages (from numba>=0.38.0->librosa) (0.31.0)\n",
            "Requirement already satisfied: setuptools in /usr/local/lib/python3.6/dist-packages (from numba>=0.38.0->librosa) (50.3.2)\n",
            "Collecting torchaudio\n",
            "\u001b[?25l  Downloading https://files.pythonhosted.org/packages/3f/23/6b54106b3de029d3f10cf8debc302491c17630357449c900d6209665b302/torchaudio-0.7.0-cp36-cp36m-manylinux1_x86_64.whl (7.6MB)\n",
            "\u001b[K     |████████████████████████████████| 7.6MB 13.1MB/s \n",
            "\u001b[?25hRequirement already satisfied: torch==1.7.0 in /usr/local/lib/python3.6/dist-packages (from torchaudio) (1.7.0+cu101)\n",
            "Requirement already satisfied: typing-extensions in /usr/local/lib/python3.6/dist-packages (from torch==1.7.0->torchaudio) (3.7.4.3)\n",
            "Requirement already satisfied: future in /usr/local/lib/python3.6/dist-packages (from torch==1.7.0->torchaudio) (0.16.0)\n",
            "Requirement already satisfied: dataclasses in /usr/local/lib/python3.6/dist-packages (from torch==1.7.0->torchaudio) (0.8)\n",
            "Requirement already satisfied: numpy in /usr/local/lib/python3.6/dist-packages (from torch==1.7.0->torchaudio) (1.18.5)\n",
            "Installing collected packages: torchaudio\n",
            "Successfully installed torchaudio-0.7.0\n",
            "Collecting pytorch-model-summary\n",
            "  Downloading https://files.pythonhosted.org/packages/fe/45/01d67be55fe3683a9221ac956ba46d1ca32da7bf96029b8d1c7667b8a55c/pytorch_model_summary-0.1.2-py3-none-any.whl\n",
            "Requirement already satisfied: tqdm in /usr/local/lib/python3.6/dist-packages (from pytorch-model-summary) (4.41.1)\n",
            "Requirement already satisfied: numpy in /usr/local/lib/python3.6/dist-packages (from pytorch-model-summary) (1.18.5)\n",
            "Requirement already satisfied: torch in /usr/local/lib/python3.6/dist-packages (from pytorch-model-summary) (1.7.0+cu101)\n",
            "Requirement already satisfied: dataclasses in /usr/local/lib/python3.6/dist-packages (from torch->pytorch-model-summary) (0.8)\n",
            "Requirement already satisfied: future in /usr/local/lib/python3.6/dist-packages (from torch->pytorch-model-summary) (0.16.0)\n",
            "Requirement already satisfied: typing-extensions in /usr/local/lib/python3.6/dist-packages (from torch->pytorch-model-summary) (3.7.4.3)\n",
            "Installing collected packages: pytorch-model-summary\n",
            "Successfully installed pytorch-model-summary-0.1.2\n",
            "Collecting allennlp\n",
            "\u001b[?25l  Downloading https://files.pythonhosted.org/packages/cb/42/ee4abac910d0becba85ef0c2cfa2d5a954d986a1356708db5a0cd911783c/allennlp-1.2.2-py3-none-any.whl (505kB)\n",
            "\u001b[K     |████████████████████████████████| 512kB 20.6MB/s \n",
            "\u001b[?25hCollecting transformers<3.6,>=3.4\n",
            "\u001b[?25l  Downloading https://files.pythonhosted.org/packages/3a/83/e74092e7f24a08d751aa59b37a9fc572b2e4af3918cb66f7766c3affb1b4/transformers-3.5.1-py3-none-any.whl (1.3MB)\n",
            "\u001b[K     |████████████████████████████████| 1.3MB 53.3MB/s \n",
            "\u001b[?25hCollecting boto3<2.0,>=1.14\n",
            "\u001b[?25l  Downloading https://files.pythonhosted.org/packages/81/a1/d8b9be4f3996265cb4e42dcd0ba72d61d68062ed6d8ce7e26b37cc399455/boto3-1.16.24-py2.py3-none-any.whl (129kB)\n",
            "\u001b[K     |████████████████████████████████| 133kB 50.5MB/s \n",
            "\u001b[?25hRequirement already satisfied: scikit-learn in /usr/local/lib/python3.6/dist-packages (from allennlp) (0.22.2.post1)\n",
            "Requirement already satisfied: tqdm>=4.19 in /usr/local/lib/python3.6/dist-packages (from allennlp) (4.41.1)\n",
            "Collecting jsonnet>=0.10.0; sys_platform != \"win32\"\n",
            "\u001b[?25l  Downloading https://files.pythonhosted.org/packages/42/40/6f16e5ac994b16fa71c24310f97174ce07d3a97b433275589265c6b94d2b/jsonnet-0.17.0.tar.gz (259kB)\n",
            "\u001b[K     |████████████████████████████████| 266kB 51.1MB/s \n",
            "\u001b[?25hRequirement already satisfied: pytest in /usr/local/lib/python3.6/dist-packages (from allennlp) (3.6.4)\n",
            "Requirement already satisfied: dataclasses; python_version < \"3.7\" in /usr/local/lib/python3.6/dist-packages (from allennlp) (0.8)\n",
            "Requirement already satisfied: spacy<2.4,>=2.1.0 in /usr/local/lib/python3.6/dist-packages (from allennlp) (2.2.4)\n",
            "Requirement already satisfied: nltk in /usr/local/lib/python3.6/dist-packages (from allennlp) (3.2.5)\n",
            "Requirement already satisfied: h5py in /usr/local/lib/python3.6/dist-packages (from allennlp) (2.10.0)\n",
            "Requirement already satisfied: filelock<3.1,>=3.0 in /usr/local/lib/python3.6/dist-packages (from allennlp) (3.0.12)\n",
            "Requirement already satisfied: torch<1.8.0,>=1.6.0 in /usr/local/lib/python3.6/dist-packages (from allennlp) (1.7.0+cu101)\n",
            "Collecting overrides==3.1.0\n",
            "  Downloading https://files.pythonhosted.org/packages/ff/b1/10f69c00947518e6676bbd43e739733048de64b8dd998e9c2d5a71f44c5d/overrides-3.1.0.tar.gz\n",
            "Requirement already satisfied: requests>=2.18 in /usr/local/lib/python3.6/dist-packages (from allennlp) (2.23.0)\n",
            "Collecting jsonpickle\n",
            "  Downloading https://files.pythonhosted.org/packages/af/ca/4fee219cc4113a5635e348ad951cf8a2e47fed2e3342312493f5b73d0007/jsonpickle-1.4.1-py2.py3-none-any.whl\n",
            "Requirement already satisfied: scipy in /usr/local/lib/python3.6/dist-packages (from allennlp) (1.4.1)\n",
            "Requirement already satisfied: numpy in /usr/local/lib/python3.6/dist-packages (from allennlp) (1.18.5)\n",
            "Collecting tensorboardX>=1.2\n",
            "\u001b[?25l  Downloading https://files.pythonhosted.org/packages/af/0c/4f41bcd45db376e6fe5c619c01100e9b7531c55791b7244815bac6eac32c/tensorboardX-2.1-py2.py3-none-any.whl (308kB)\n",
            "\u001b[K     |████████████████████████████████| 317kB 46.0MB/s \n",
            "\u001b[?25hRequirement already satisfied: regex!=2019.12.17 in /usr/local/lib/python3.6/dist-packages (from transformers<3.6,>=3.4->allennlp) (2019.12.20)\n",
            "Collecting sacremoses\n",
            "\u001b[?25l  Downloading https://files.pythonhosted.org/packages/7d/34/09d19aff26edcc8eb2a01bed8e98f13a1537005d31e95233fd48216eed10/sacremoses-0.0.43.tar.gz (883kB)\n",
            "\u001b[K     |████████████████████████████████| 890kB 54.8MB/s \n",
            "\u001b[?25hRequirement already satisfied: packaging in /usr/local/lib/python3.6/dist-packages (from transformers<3.6,>=3.4->allennlp) (20.4)\n",
            "Collecting sentencepiece==0.1.91\n",
            "\u001b[?25l  Downloading https://files.pythonhosted.org/packages/d4/a4/d0a884c4300004a78cca907a6ff9a5e9fe4f090f5d95ab341c53d28cbc58/sentencepiece-0.1.91-cp36-cp36m-manylinux1_x86_64.whl (1.1MB)\n",
            "\u001b[K     |████████████████████████████████| 1.1MB 48.5MB/s \n",
            "\u001b[?25hRequirement already satisfied: protobuf in /usr/local/lib/python3.6/dist-packages (from transformers<3.6,>=3.4->allennlp) (3.12.4)\n",
            "Collecting tokenizers==0.9.3\n",
            "\u001b[?25l  Downloading https://files.pythonhosted.org/packages/4c/34/b39eb9994bc3c999270b69c9eea40ecc6f0e97991dba28282b9fd32d44ee/tokenizers-0.9.3-cp36-cp36m-manylinux1_x86_64.whl (2.9MB)\n",
            "\u001b[K     |████████████████████████████████| 2.9MB 41.4MB/s \n",
            "\u001b[?25hCollecting s3transfer<0.4.0,>=0.3.0\n",
            "\u001b[?25l  Downloading https://files.pythonhosted.org/packages/69/79/e6afb3d8b0b4e96cefbdc690f741d7dd24547ff1f94240c997a26fa908d3/s3transfer-0.3.3-py2.py3-none-any.whl (69kB)\n",
            "\u001b[K     |████████████████████████████████| 71kB 9.4MB/s \n",
            "\u001b[?25hCollecting botocore<1.20.0,>=1.19.24\n",
            "\u001b[?25l  Downloading https://files.pythonhosted.org/packages/08/16/8afd6474045f41bd51002e65862e2066ea2c5de34d0a942e1c4e86098d9a/botocore-1.19.24-py2.py3-none-any.whl (6.9MB)\n",
            "\u001b[K     |████████████████████████████████| 6.9MB 48.2MB/s \n",
            "\u001b[?25hCollecting jmespath<1.0.0,>=0.7.1\n",
            "  Downloading https://files.pythonhosted.org/packages/07/cb/5f001272b6faeb23c1c9e0acc04d48eaaf5c862c17709d20e3469c6e0139/jmespath-0.10.0-py2.py3-none-any.whl\n",
            "Requirement already satisfied: joblib>=0.11 in /usr/local/lib/python3.6/dist-packages (from scikit-learn->allennlp) (0.17.0)\n",
            "Requirement already satisfied: setuptools in /usr/local/lib/python3.6/dist-packages (from pytest->allennlp) (50.3.2)\n",
            "Requirement already satisfied: py>=1.5.0 in /usr/local/lib/python3.6/dist-packages (from pytest->allennlp) (1.9.0)\n",
            "Requirement already satisfied: attrs>=17.4.0 in /usr/local/lib/python3.6/dist-packages (from pytest->allennlp) (20.3.0)\n",
            "Requirement already satisfied: pluggy<0.8,>=0.5 in /usr/local/lib/python3.6/dist-packages (from pytest->allennlp) (0.7.1)\n",
            "Requirement already satisfied: more-itertools>=4.0.0 in /usr/local/lib/python3.6/dist-packages (from pytest->allennlp) (8.6.0)\n",
            "Requirement already satisfied: six>=1.10.0 in /usr/local/lib/python3.6/dist-packages (from pytest->allennlp) (1.15.0)\n",
            "Requirement already satisfied: atomicwrites>=1.0 in /usr/local/lib/python3.6/dist-packages (from pytest->allennlp) (1.4.0)\n",
            "Requirement already satisfied: preshed<3.1.0,>=3.0.2 in /usr/local/lib/python3.6/dist-packages (from spacy<2.4,>=2.1.0->allennlp) (3.0.4)\n",
            "Requirement already satisfied: thinc==7.4.0 in /usr/local/lib/python3.6/dist-packages (from spacy<2.4,>=2.1.0->allennlp) (7.4.0)\n",
            "Requirement already satisfied: plac<1.2.0,>=0.9.6 in /usr/local/lib/python3.6/dist-packages (from spacy<2.4,>=2.1.0->allennlp) (1.1.3)\n",
            "Requirement already satisfied: murmurhash<1.1.0,>=0.28.0 in /usr/local/lib/python3.6/dist-packages (from spacy<2.4,>=2.1.0->allennlp) (1.0.4)\n",
            "Requirement already satisfied: cymem<2.1.0,>=2.0.2 in /usr/local/lib/python3.6/dist-packages (from spacy<2.4,>=2.1.0->allennlp) (2.0.4)\n",
            "Requirement already satisfied: blis<0.5.0,>=0.4.0 in /usr/local/lib/python3.6/dist-packages (from spacy<2.4,>=2.1.0->allennlp) (0.4.1)\n",
            "Requirement already satisfied: wasabi<1.1.0,>=0.4.0 in /usr/local/lib/python3.6/dist-packages (from spacy<2.4,>=2.1.0->allennlp) (0.8.0)\n",
            "Requirement already satisfied: catalogue<1.1.0,>=0.0.7 in /usr/local/lib/python3.6/dist-packages (from spacy<2.4,>=2.1.0->allennlp) (1.0.0)\n",
            "Requirement already satisfied: srsly<1.1.0,>=1.0.2 in /usr/local/lib/python3.6/dist-packages (from spacy<2.4,>=2.1.0->allennlp) (1.0.4)\n",
            "Requirement already satisfied: future in /usr/local/lib/python3.6/dist-packages (from torch<1.8.0,>=1.6.0->allennlp) (0.16.0)\n",
            "Requirement already satisfied: typing-extensions in /usr/local/lib/python3.6/dist-packages (from torch<1.8.0,>=1.6.0->allennlp) (3.7.4.3)\n",
            "Requirement already satisfied: certifi>=2017.4.17 in /usr/local/lib/python3.6/dist-packages (from requests>=2.18->allennlp) (2020.11.8)\n",
            "Requirement already satisfied: urllib3!=1.25.0,!=1.25.1,<1.26,>=1.21.1 in /usr/local/lib/python3.6/dist-packages (from requests>=2.18->allennlp) (1.24.3)\n",
            "Requirement already satisfied: idna<3,>=2.5 in /usr/local/lib/python3.6/dist-packages (from requests>=2.18->allennlp) (2.10)\n",
            "Requirement already satisfied: chardet<4,>=3.0.2 in /usr/local/lib/python3.6/dist-packages (from requests>=2.18->allennlp) (3.0.4)\n",
            "Requirement already satisfied: importlib-metadata in /usr/local/lib/python3.6/dist-packages (from jsonpickle->allennlp) (2.0.0)\n",
            "Requirement already satisfied: click in /usr/local/lib/python3.6/dist-packages (from sacremoses->transformers<3.6,>=3.4->allennlp) (7.1.2)\n",
            "Requirement already satisfied: pyparsing>=2.0.2 in /usr/local/lib/python3.6/dist-packages (from packaging->transformers<3.6,>=3.4->allennlp) (2.4.7)\n",
            "Requirement already satisfied: python-dateutil<3.0.0,>=2.1 in /usr/local/lib/python3.6/dist-packages (from botocore<1.20.0,>=1.19.24->boto3<2.0,>=1.14->allennlp) (2.8.1)\n",
            "Requirement already satisfied: zipp>=0.5 in /usr/local/lib/python3.6/dist-packages (from importlib-metadata->jsonpickle->allennlp) (3.4.0)\n",
            "Building wheels for collected packages: jsonnet, overrides, sacremoses\n",
            "  Building wheel for jsonnet (setup.py) ... \u001b[?25l\u001b[?25hdone\n",
            "  Created wheel for jsonnet: filename=jsonnet-0.17.0-cp36-cp36m-linux_x86_64.whl size=3387943 sha256=4b014f31b336620931d460d02369dff7f24c2da3a408a36554488fadb309e6fc\n",
            "  Stored in directory: /root/.cache/pip/wheels/26/7a/37/7dbcc30a6b4efd17b91ad1f0128b7bbf84813bd4e1cfb8c1e3\n",
            "  Building wheel for overrides (setup.py) ... \u001b[?25l\u001b[?25hdone\n",
            "  Created wheel for overrides: filename=overrides-3.1.0-cp36-none-any.whl size=10174 sha256=b0610e4f1ce49d21c2d1f2e704fcda28f602c0b3e0ac2020c449a9c3be71f295\n",
            "  Stored in directory: /root/.cache/pip/wheels/5c/24/13/6ef8600e6f147c95e595f1289a86a3cc82ed65df57582c65a9\n",
            "  Building wheel for sacremoses (setup.py) ... \u001b[?25l\u001b[?25hdone\n",
            "  Created wheel for sacremoses: filename=sacremoses-0.0.43-cp36-none-any.whl size=893257 sha256=a528327e3fd163d740da11b8d068debbc0089a39e2e328841a496f83bcd74fae\n",
            "  Stored in directory: /root/.cache/pip/wheels/29/3c/fd/7ce5c3f0666dab31a50123635e6fb5e19ceb42ce38d4e58f45\n",
            "Successfully built jsonnet overrides sacremoses\n",
            "\u001b[31mERROR: botocore 1.19.24 has requirement urllib3<1.27,>=1.25.4; python_version != \"3.4\", but you'll have urllib3 1.24.3 which is incompatible.\u001b[0m\n",
            "Installing collected packages: sacremoses, sentencepiece, tokenizers, transformers, jmespath, botocore, s3transfer, boto3, jsonnet, overrides, jsonpickle, tensorboardX, allennlp\n",
            "Successfully installed allennlp-1.2.2 boto3-1.16.24 botocore-1.19.24 jmespath-0.10.0 jsonnet-0.17.0 jsonpickle-1.4.1 overrides-3.1.0 s3transfer-0.3.3 sacremoses-0.0.43 sentencepiece-0.1.91 tensorboardX-2.1 tokenizers-0.9.3 transformers-3.5.1\n",
            "Collecting phonemizer\n",
            "\u001b[?25l  Downloading https://files.pythonhosted.org/packages/e1/ec/eb95ec96dc5374ba339d47c5252d62e9a7b1fbd5c9e4eefebc0d7e25381d/phonemizer-2.2.1-py3-none-any.whl (49kB)\n",
            "\u001b[K     |████████████████████████████████| 51kB 7.6MB/s \n",
            "\u001b[?25hRequirement already satisfied: attrs>=18.1 in /usr/local/lib/python3.6/dist-packages (from phonemizer) (20.3.0)\n",
            "Collecting segments\n",
            "  Downloading https://files.pythonhosted.org/packages/5b/a0/0c3fe64787745c39eb3f2f5f5f9ed8d008d9ef22e9d7f9f52f71ea4712f7/segments-2.1.3-py2.py3-none-any.whl\n",
            "Requirement already satisfied: joblib in /usr/local/lib/python3.6/dist-packages (from phonemizer) (0.17.0)\n",
            "Collecting clldutils>=1.7.3\n",
            "\u001b[?25l  Downloading https://files.pythonhosted.org/packages/4e/dd/6afa78497c503e8ad02596b27932df7f3216c0d10b4b7785d942a59b9cfd/clldutils-3.5.4-py2.py3-none-any.whl (189kB)\n",
            "\u001b[K     |████████████████████████████████| 194kB 21.2MB/s \n",
            "\u001b[?25hRequirement already satisfied: regex in /usr/local/lib/python3.6/dist-packages (from segments->phonemizer) (2019.12.20)\n",
            "Collecting csvw>=1.5.6\n",
            "  Downloading https://files.pythonhosted.org/packages/91/c1/9f615dc3535aace5f6ddcc4411351996ff2f868f4d16703d13161fcef2bd/csvw-1.8.1-py2.py3-none-any.whl\n",
            "Requirement already satisfied: tabulate>=0.7.7 in /usr/local/lib/python3.6/dist-packages (from clldutils>=1.7.3->segments->phonemizer) (0.8.7)\n",
            "Collecting colorlog\n",
            "  Downloading https://files.pythonhosted.org/packages/4e/c8/c16d30bbed11a1722060014c246d124582d1f781b26f5859d8dacc3e08e1/colorlog-4.6.2-py2.py3-none-any.whl\n",
            "Requirement already satisfied: python-dateutil in /usr/local/lib/python3.6/dist-packages (from clldutils>=1.7.3->segments->phonemizer) (2.8.1)\n",
            "Collecting rfc3986\n",
            "  Downloading https://files.pythonhosted.org/packages/78/be/7b8b99fd74ff5684225f50dd0e865393d2265656ef3b4ba9eaaaffe622b8/rfc3986-1.4.0-py2.py3-none-any.whl\n",
            "Requirement already satisfied: uritemplate>=3.0.0 in /usr/local/lib/python3.6/dist-packages (from csvw>=1.5.6->segments->phonemizer) (3.0.1)\n",
            "Collecting isodate\n",
            "\u001b[?25l  Downloading https://files.pythonhosted.org/packages/9b/9f/b36f7774ff5ea8e428fdcfc4bb332c39ee5b9362ddd3d40d9516a55221b2/isodate-0.6.0-py2.py3-none-any.whl (45kB)\n",
            "\u001b[K     |████████████████████████████████| 51kB 6.6MB/s \n",
            "\u001b[?25hRequirement already satisfied: six>=1.5 in /usr/local/lib/python3.6/dist-packages (from python-dateutil->clldutils>=1.7.3->segments->phonemizer) (1.15.0)\n",
            "Installing collected packages: rfc3986, isodate, csvw, colorlog, clldutils, segments, phonemizer\n",
            "Successfully installed clldutils-3.5.4 colorlog-4.6.2 csvw-1.8.1 isodate-0.6.0 phonemizer-2.2.1 rfc3986-1.4.0 segments-2.1.3\n",
            "Reading package lists... Done\n",
            "Building dependency tree       \n",
            "Reading state information... Done\n",
            "The following additional packages will be installed:\n",
            "  alsa-utils espeak-ng-data festlex-cmu festlex-poslex festvox-kallpc16k\n",
            "  libespeak-ng1 libestools2.5 libfftw3-single3 libnewt0.52 libpcaudio0\n",
            "  libsonic0 sgml-base whiptail\n",
            "Suggested packages:\n",
            "  pidgin-festival festival-freebsoft-utils libfftw3-bin libfftw3-dev\n",
            "  mbrola-voice espeak cicero sgml-base-doc\n",
            "The following NEW packages will be installed:\n",
            "  alsa-utils espeak-ng espeak-ng-data festival festlex-cmu festlex-poslex\n",
            "  festvox-kallpc16k libespeak-ng1 libestools2.5 libfftw3-single3 libnewt0.52\n",
            "  libpcaudio0 libsonic0 mbrola sgml-base whiptail\n",
            "0 upgraded, 16 newly installed, 0 to remove and 14 not upgraded.\n",
            "Need to get 12.2 MB of archives.\n",
            "After this operation, 37.5 MB of additional disk space will be used.\n",
            "Get:1 http://archive.ubuntu.com/ubuntu bionic/main amd64 sgml-base all 1.29 [12.3 kB]\n",
            "Get:2 http://archive.ubuntu.com/ubuntu bionic/main amd64 libnewt0.52 amd64 0.52.20-1ubuntu1 [40.6 kB]\n",
            "Get:3 http://archive.ubuntu.com/ubuntu bionic/main amd64 whiptail amd64 0.52.20-1ubuntu1 [16.6 kB]\n",
            "Get:4 http://archive.ubuntu.com/ubuntu bionic/main amd64 libfftw3-single3 amd64 3.3.7-1 [764 kB]\n",
            "Get:5 http://archive.ubuntu.com/ubuntu bionic/main amd64 alsa-utils amd64 1.1.3-1ubuntu1 [966 kB]\n",
            "Get:6 http://archive.ubuntu.com/ubuntu bionic/main amd64 libpcaudio0 amd64 1.0-1 [6,536 B]\n",
            "Get:7 http://archive.ubuntu.com/ubuntu bionic/main amd64 libsonic0 amd64 0.2.0-6 [13.4 kB]\n",
            "Get:8 http://archive.ubuntu.com/ubuntu bionic/main amd64 espeak-ng-data amd64 1.49.2+dfsg-1 [3,469 kB]\n",
            "Get:9 http://archive.ubuntu.com/ubuntu bionic/main amd64 libespeak-ng1 amd64 1.49.2+dfsg-1 [187 kB]\n",
            "Get:10 http://archive.ubuntu.com/ubuntu bionic/universe amd64 espeak-ng amd64 1.49.2+dfsg-1 [282 kB]\n",
            "Get:11 http://archive.ubuntu.com/ubuntu bionic/universe amd64 libestools2.5 amd64 1:2.5.0-4 [889 kB]\n",
            "Get:12 http://archive.ubuntu.com/ubuntu bionic/universe amd64 festival amd64 1:2.5.0-1 [804 kB]\n",
            "Get:13 http://archive.ubuntu.com/ubuntu bionic/universe amd64 festlex-cmu all 2.4-1 [895 kB]\n",
            "Get:14 http://archive.ubuntu.com/ubuntu bionic/universe amd64 festlex-poslex all 2.4-1 [186 kB]\n",
            "Get:15 http://archive.ubuntu.com/ubuntu bionic/multiverse amd64 mbrola amd64 3.01h+2-3 [37.9 kB]\n",
            "Get:16 http://archive.ubuntu.com/ubuntu bionic/universe amd64 festvox-kallpc16k all 2.4-1 [3,614 kB]\n",
            "Fetched 12.2 MB in 1s (12.1 MB/s)\n",
            "Selecting previously unselected package sgml-base.\n",
            "(Reading database ... 144793 files and directories currently installed.)\n",
            "Preparing to unpack .../00-sgml-base_1.29_all.deb ...\n",
            "Unpacking sgml-base (1.29) ...\n",
            "Selecting previously unselected package libnewt0.52:amd64.\n",
            "Preparing to unpack .../01-libnewt0.52_0.52.20-1ubuntu1_amd64.deb ...\n",
            "Unpacking libnewt0.52:amd64 (0.52.20-1ubuntu1) ...\n",
            "Selecting previously unselected package whiptail.\n",
            "Preparing to unpack .../02-whiptail_0.52.20-1ubuntu1_amd64.deb ...\n",
            "Unpacking whiptail (0.52.20-1ubuntu1) ...\n",
            "Selecting previously unselected package libfftw3-single3:amd64.\n",
            "Preparing to unpack .../03-libfftw3-single3_3.3.7-1_amd64.deb ...\n",
            "Unpacking libfftw3-single3:amd64 (3.3.7-1) ...\n",
            "Selecting previously unselected package alsa-utils.\n",
            "Preparing to unpack .../04-alsa-utils_1.1.3-1ubuntu1_amd64.deb ...\n",
            "Unpacking alsa-utils (1.1.3-1ubuntu1) ...\n",
            "Selecting previously unselected package libpcaudio0.\n",
            "Preparing to unpack .../05-libpcaudio0_1.0-1_amd64.deb ...\n",
            "Unpacking libpcaudio0 (1.0-1) ...\n",
            "Selecting previously unselected package libsonic0:amd64.\n",
            "Preparing to unpack .../06-libsonic0_0.2.0-6_amd64.deb ...\n",
            "Unpacking libsonic0:amd64 (0.2.0-6) ...\n",
            "Selecting previously unselected package espeak-ng-data:amd64.\n",
            "Preparing to unpack .../07-espeak-ng-data_1.49.2+dfsg-1_amd64.deb ...\n",
            "Unpacking espeak-ng-data:amd64 (1.49.2+dfsg-1) ...\n",
            "Selecting previously unselected package libespeak-ng1:amd64.\n",
            "Preparing to unpack .../08-libespeak-ng1_1.49.2+dfsg-1_amd64.deb ...\n",
            "Unpacking libespeak-ng1:amd64 (1.49.2+dfsg-1) ...\n",
            "Selecting previously unselected package espeak-ng.\n",
            "Preparing to unpack .../09-espeak-ng_1.49.2+dfsg-1_amd64.deb ...\n",
            "Unpacking espeak-ng (1.49.2+dfsg-1) ...\n",
            "Selecting previously unselected package libestools2.5:amd64.\n",
            "Preparing to unpack .../10-libestools2.5_1%3a2.5.0-4_amd64.deb ...\n",
            "Unpacking libestools2.5:amd64 (1:2.5.0-4) ...\n",
            "Selecting previously unselected package festival.\n",
            "Preparing to unpack .../11-festival_1%3a2.5.0-1_amd64.deb ...\n",
            "Unpacking festival (1:2.5.0-1) ...\n",
            "Selecting previously unselected package festlex-cmu.\n",
            "Preparing to unpack .../12-festlex-cmu_2.4-1_all.deb ...\n",
            "Unpacking festlex-cmu (2.4-1) ...\n",
            "Selecting previously unselected package festlex-poslex.\n",
            "Preparing to unpack .../13-festlex-poslex_2.4-1_all.deb ...\n",
            "Unpacking festlex-poslex (2.4-1) ...\n",
            "Selecting previously unselected package mbrola.\n",
            "Preparing to unpack .../14-mbrola_3.01h+2-3_amd64.deb ...\n",
            "Unpacking mbrola (3.01h+2-3) ...\n",
            "Selecting previously unselected package festvox-kallpc16k.\n",
            "Preparing to unpack .../15-festvox-kallpc16k_2.4-1_all.deb ...\n",
            "Unpacking festvox-kallpc16k (2.4-1) ...\n",
            "Setting up mbrola (3.01h+2-3) ...\n",
            "Setting up libestools2.5:amd64 (1:2.5.0-4) ...\n",
            "Setting up sgml-base (1.29) ...\n",
            "Setting up libsonic0:amd64 (0.2.0-6) ...\n",
            "Setting up libpcaudio0 (1.0-1) ...\n",
            "Setting up espeak-ng-data:amd64 (1.49.2+dfsg-1) ...\n",
            "Setting up libfftw3-single3:amd64 (3.3.7-1) ...\n",
            "Setting up libnewt0.52:amd64 (0.52.20-1ubuntu1) ...\n",
            "update-alternatives: using /etc/newt/palette.ubuntu to provide /etc/newt/palette (newt-palette) in auto mode\n",
            "Setting up whiptail (0.52.20-1ubuntu1) ...\n",
            "Setting up alsa-utils (1.1.3-1ubuntu1) ...\n",
            "Setting up libespeak-ng1:amd64 (1.49.2+dfsg-1) ...\n",
            "Setting up festival (1:2.5.0-1) ...\n",
            "Setting up espeak-ng (1.49.2+dfsg-1) ...\n",
            "Processing triggers for libc-bin (2.27-3ubuntu1.2) ...\n",
            "/sbin/ldconfig.real: /usr/local/lib/python3.6/dist-packages/ideep4py/lib/libmkldnn.so.0 is not a symbolic link\n",
            "\n",
            "Processing triggers for systemd (237-3ubuntu10.42) ...\n",
            "Processing triggers for man-db (2.8.3-2ubuntu0.1) ...\n",
            "Processing triggers for sgml-base (1.29) ...\n",
            "Setting up festlex-cmu (2.4-1) ...\n",
            "Setting up festlex-poslex (2.4-1) ...\n",
            "Setting up festvox-kallpc16k (2.4-1) ...\n",
            "Collecting pytorch-lightning\n",
            "\u001b[?25l  Downloading https://files.pythonhosted.org/packages/11/4e/f140116edfd8fc30c5cca3921b84be60a68d86353b6c5543e539cb2a08af/pytorch_lightning-1.0.7-py3-none-any.whl (557kB)\n",
            "\u001b[K     |████████████████████████████████| 563kB 15.8MB/s \n",
            "\u001b[?25hRequirement already satisfied: torch>=1.3 in /usr/local/lib/python3.6/dist-packages (from pytorch-lightning) (1.7.0+cu101)\n",
            "Collecting PyYAML>=5.1\n",
            "\u001b[?25l  Downloading https://files.pythonhosted.org/packages/64/c2/b80047c7ac2478f9501676c988a5411ed5572f35d1beff9cae07d321512c/PyYAML-5.3.1.tar.gz (269kB)\n",
            "\u001b[K     |████████████████████████████████| 276kB 48.1MB/s \n",
            "\u001b[?25hRequirement already satisfied: tensorboard>=2.2.0 in /usr/local/lib/python3.6/dist-packages (from pytorch-lightning) (2.3.0)\n",
            "Requirement already satisfied: numpy>=1.16.4 in /usr/local/lib/python3.6/dist-packages (from pytorch-lightning) (1.18.5)\n",
            "Requirement already satisfied: tqdm>=4.41.0 in /usr/local/lib/python3.6/dist-packages (from pytorch-lightning) (4.41.1)\n",
            "Collecting future>=0.17.1\n",
            "\u001b[?25l  Downloading https://files.pythonhosted.org/packages/45/0b/38b06fd9b92dc2b68d58b75f900e97884c45bedd2ff83203d933cf5851c9/future-0.18.2.tar.gz (829kB)\n",
            "\u001b[K     |████████████████████████████████| 829kB 46.9MB/s \n",
            "\u001b[?25hCollecting fsspec>=0.8.0\n",
            "\u001b[?25l  Downloading https://files.pythonhosted.org/packages/a5/8b/1df260f860f17cb08698170153ef7db672c497c1840dcc8613ce26a8a005/fsspec-0.8.4-py3-none-any.whl (91kB)\n",
            "\u001b[K     |████████████████████████████████| 92kB 12.1MB/s \n",
            "\u001b[?25hRequirement already satisfied: typing-extensions in /usr/local/lib/python3.6/dist-packages (from torch>=1.3->pytorch-lightning) (3.7.4.3)\n",
            "Requirement already satisfied: dataclasses in /usr/local/lib/python3.6/dist-packages (from torch>=1.3->pytorch-lightning) (0.8)\n",
            "Requirement already satisfied: absl-py>=0.4 in /usr/local/lib/python3.6/dist-packages (from tensorboard>=2.2.0->pytorch-lightning) (0.10.0)\n",
            "Requirement already satisfied: wheel>=0.26; python_version >= \"3\" in /usr/local/lib/python3.6/dist-packages (from tensorboard>=2.2.0->pytorch-lightning) (0.35.1)\n",
            "Requirement already satisfied: protobuf>=3.6.0 in /usr/local/lib/python3.6/dist-packages (from tensorboard>=2.2.0->pytorch-lightning) (3.12.4)\n",
            "Requirement already satisfied: requests<3,>=2.21.0 in /usr/local/lib/python3.6/dist-packages (from tensorboard>=2.2.0->pytorch-lightning) (2.23.0)\n",
            "Requirement already satisfied: tensorboard-plugin-wit>=1.6.0 in /usr/local/lib/python3.6/dist-packages (from tensorboard>=2.2.0->pytorch-lightning) (1.7.0)\n",
            "Requirement already satisfied: grpcio>=1.24.3 in /usr/local/lib/python3.6/dist-packages (from tensorboard>=2.2.0->pytorch-lightning) (1.33.2)\n",
            "Requirement already satisfied: markdown>=2.6.8 in /usr/local/lib/python3.6/dist-packages (from tensorboard>=2.2.0->pytorch-lightning) (3.3.3)\n",
            "Requirement already satisfied: google-auth<2,>=1.6.3 in /usr/local/lib/python3.6/dist-packages (from tensorboard>=2.2.0->pytorch-lightning) (1.17.2)\n",
            "Requirement already satisfied: setuptools>=41.0.0 in /usr/local/lib/python3.6/dist-packages (from tensorboard>=2.2.0->pytorch-lightning) (50.3.2)\n",
            "Requirement already satisfied: werkzeug>=0.11.15 in /usr/local/lib/python3.6/dist-packages (from tensorboard>=2.2.0->pytorch-lightning) (1.0.1)\n",
            "Requirement already satisfied: six>=1.10.0 in /usr/local/lib/python3.6/dist-packages (from tensorboard>=2.2.0->pytorch-lightning) (1.15.0)\n",
            "Requirement already satisfied: google-auth-oauthlib<0.5,>=0.4.1 in /usr/local/lib/python3.6/dist-packages (from tensorboard>=2.2.0->pytorch-lightning) (0.4.2)\n",
            "Requirement already satisfied: certifi>=2017.4.17 in /usr/local/lib/python3.6/dist-packages (from requests<3,>=2.21.0->tensorboard>=2.2.0->pytorch-lightning) (2020.11.8)\n",
            "Requirement already satisfied: idna<3,>=2.5 in /usr/local/lib/python3.6/dist-packages (from requests<3,>=2.21.0->tensorboard>=2.2.0->pytorch-lightning) (2.10)\n",
            "Requirement already satisfied: chardet<4,>=3.0.2 in /usr/local/lib/python3.6/dist-packages (from requests<3,>=2.21.0->tensorboard>=2.2.0->pytorch-lightning) (3.0.4)\n",
            "Requirement already satisfied: urllib3!=1.25.0,!=1.25.1,<1.26,>=1.21.1 in /usr/local/lib/python3.6/dist-packages (from requests<3,>=2.21.0->tensorboard>=2.2.0->pytorch-lightning) (1.24.3)\n",
            "Requirement already satisfied: importlib-metadata; python_version < \"3.8\" in /usr/local/lib/python3.6/dist-packages (from markdown>=2.6.8->tensorboard>=2.2.0->pytorch-lightning) (2.0.0)\n",
            "Requirement already satisfied: pyasn1-modules>=0.2.1 in /usr/local/lib/python3.6/dist-packages (from google-auth<2,>=1.6.3->tensorboard>=2.2.0->pytorch-lightning) (0.2.8)\n",
            "Requirement already satisfied: rsa<5,>=3.1.4; python_version >= \"3\" in /usr/local/lib/python3.6/dist-packages (from google-auth<2,>=1.6.3->tensorboard>=2.2.0->pytorch-lightning) (4.6)\n",
            "Requirement already satisfied: cachetools<5.0,>=2.0.0 in /usr/local/lib/python3.6/dist-packages (from google-auth<2,>=1.6.3->tensorboard>=2.2.0->pytorch-lightning) (4.1.1)\n",
            "Requirement already satisfied: requests-oauthlib>=0.7.0 in /usr/local/lib/python3.6/dist-packages (from google-auth-oauthlib<0.5,>=0.4.1->tensorboard>=2.2.0->pytorch-lightning) (1.3.0)\n",
            "Requirement already satisfied: zipp>=0.5 in /usr/local/lib/python3.6/dist-packages (from importlib-metadata; python_version < \"3.8\"->markdown>=2.6.8->tensorboard>=2.2.0->pytorch-lightning) (3.4.0)\n",
            "Requirement already satisfied: pyasn1<0.5.0,>=0.4.6 in /usr/local/lib/python3.6/dist-packages (from pyasn1-modules>=0.2.1->google-auth<2,>=1.6.3->tensorboard>=2.2.0->pytorch-lightning) (0.4.8)\n",
            "Requirement already satisfied: oauthlib>=3.0.0 in /usr/local/lib/python3.6/dist-packages (from requests-oauthlib>=0.7.0->google-auth-oauthlib<0.5,>=0.4.1->tensorboard>=2.2.0->pytorch-lightning) (3.1.0)\n",
            "Building wheels for collected packages: PyYAML, future\n",
            "  Building wheel for PyYAML (setup.py) ... \u001b[?25l\u001b[?25hdone\n",
            "  Created wheel for PyYAML: filename=PyYAML-5.3.1-cp36-cp36m-linux_x86_64.whl size=44619 sha256=883d2ca7c948b155455d4158934a58e9b0ff9e5280dc92f78fade279097e4468\n",
            "  Stored in directory: /root/.cache/pip/wheels/a7/c1/ea/cf5bd31012e735dc1dfea3131a2d5eae7978b251083d6247bd\n",
            "  Building wheel for future (setup.py) ... \u001b[?25l\u001b[?25hdone\n",
            "  Created wheel for future: filename=future-0.18.2-cp36-none-any.whl size=491057 sha256=e7bc2d4773aa3bb63044afdbcdb26842303955fb04a4b4302830b3e3654329fc\n",
            "  Stored in directory: /root/.cache/pip/wheels/8b/99/a0/81daf51dcd359a9377b110a8a886b3895921802d2fc1b2397e\n",
            "Successfully built PyYAML future\n",
            "Installing collected packages: PyYAML, future, fsspec, pytorch-lightning\n",
            "  Found existing installation: PyYAML 3.13\n",
            "    Uninstalling PyYAML-3.13:\n",
            "      Successfully uninstalled PyYAML-3.13\n",
            "  Found existing installation: future 0.16.0\n",
            "    Uninstalling future-0.16.0:\n",
            "      Successfully uninstalled future-0.16.0\n",
            "Successfully installed PyYAML-5.3.1 fsspec-0.8.4 future-0.18.2 pytorch-lightning-1.0.7\n",
            "Collecting comet-ml\n",
            "\u001b[?25l  Downloading https://files.pythonhosted.org/packages/b8/69/00e1ba86bccb52fda00f8f806bf7cdbc41f8461277e0dca5ff9e649541c3/comet_ml-3.2.5-py2.py3-none-any.whl (227kB)\n",
            "\u001b[K     |████████████████████████████████| 235kB 21.7MB/s \n",
            "\u001b[?25hCollecting netifaces>=0.10.7\n",
            "  Downloading https://files.pythonhosted.org/packages/0c/9b/c4c7eb09189548d45939a3d3a6b3d53979c67d124459b27a094c365c347f/netifaces-0.10.9-cp36-cp36m-manylinux1_x86_64.whl\n",
            "Collecting everett[ini]>=1.0.1; python_version >= \"3.0\"\n",
            "  Downloading https://files.pythonhosted.org/packages/fe/dc/38593280ec30fe1cb2611ec65554b76b68d13582bf490113e3332cdd85ea/everett-1.0.3-py2.py3-none-any.whl\n",
            "Requirement already satisfied: six in /usr/local/lib/python3.6/dist-packages (from comet-ml) (1.15.0)\n",
            "Requirement already satisfied: wrapt>=1.11.2 in /usr/local/lib/python3.6/dist-packages (from comet-ml) (1.12.1)\n",
            "Requirement already satisfied: nvidia-ml-py3>=7.352.0 in /usr/local/lib/python3.6/dist-packages (from comet-ml) (7.352.0)\n",
            "Requirement already satisfied: jsonschema!=3.1.0,>=2.6.0 in /usr/local/lib/python3.6/dist-packages (from comet-ml) (2.6.0)\n",
            "Collecting websocket-client>=0.55.0\n",
            "\u001b[?25l  Downloading https://files.pythonhosted.org/packages/4c/5f/f61b420143ed1c8dc69f9eaec5ff1ac36109d52c80de49d66e0c36c3dfdf/websocket_client-0.57.0-py2.py3-none-any.whl (200kB)\n",
            "\u001b[K     |████████████████████████████████| 204kB 20.7MB/s \n",
            "\u001b[?25hRequirement already satisfied: requests>=2.18.4 in /usr/local/lib/python3.6/dist-packages (from comet-ml) (2.23.0)\n",
            "Collecting dulwich>=0.20.6; python_version >= \"3.0\"\n",
            "\u001b[?25l  Downloading https://files.pythonhosted.org/packages/96/49/70713d919a5b28933fbb15f230ef3fedfbe835659a2a3a3088539b389d92/dulwich-0.20.13-cp36-cp36m-manylinux2010_x86_64.whl (501kB)\n",
            "\u001b[K     |████████████████████████████████| 501kB 36.4MB/s \n",
            "\u001b[?25hCollecting wurlitzer>=1.0.2\n",
            "  Downloading https://files.pythonhosted.org/packages/0c/1e/52f4effa64a447c4ec0fb71222799e2ac32c55b4b6c1725fccdf6123146e/wurlitzer-2.0.1-py2.py3-none-any.whl\n",
            "Collecting configobj; extra == \"ini\"\n",
            "  Downloading https://files.pythonhosted.org/packages/64/61/079eb60459c44929e684fa7d9e2fdca403f67d64dd9dbac27296be2e0fab/configobj-5.0.6.tar.gz\n",
            "Requirement already satisfied: idna<3,>=2.5 in /usr/local/lib/python3.6/dist-packages (from requests>=2.18.4->comet-ml) (2.10)\n",
            "Requirement already satisfied: certifi>=2017.4.17 in /usr/local/lib/python3.6/dist-packages (from requests>=2.18.4->comet-ml) (2020.11.8)\n",
            "Requirement already satisfied: chardet<4,>=3.0.2 in /usr/local/lib/python3.6/dist-packages (from requests>=2.18.4->comet-ml) (3.0.4)\n",
            "Requirement already satisfied: urllib3!=1.25.0,!=1.25.1,<1.26,>=1.21.1 in /usr/local/lib/python3.6/dist-packages (from requests>=2.18.4->comet-ml) (1.24.3)\n",
            "Building wheels for collected packages: configobj\n",
            "  Building wheel for configobj (setup.py) ... \u001b[?25l\u001b[?25hdone\n",
            "  Created wheel for configobj: filename=configobj-5.0.6-cp36-none-any.whl size=34547 sha256=5a53da57a873a302ea65c36b51f080ad1ae0212911c812eab9452d36a05d34c7\n",
            "  Stored in directory: /root/.cache/pip/wheels/f1/e4/16/4981ca97c2d65106b49861e0b35e2660695be7219a2d351ee0\n",
            "Successfully built configobj\n",
            "Installing collected packages: netifaces, configobj, everett, websocket-client, dulwich, wurlitzer, comet-ml\n",
            "Successfully installed comet-ml-3.2.5 configobj-5.0.6 dulwich-0.20.13 everett-1.0.3 netifaces-0.10.9 websocket-client-0.57.0 wurlitzer-2.0.1\n",
            "Collecting local-attention\n",
            "  Downloading https://files.pythonhosted.org/packages/47/34/21b2a040344a3a785ecee3c268ded02ceb9f8f4a636f20be7729204610a3/local_attention-1.1.1-py3-none-any.whl\n",
            "Requirement already satisfied: torch in /usr/local/lib/python3.6/dist-packages (from local-attention) (1.7.0+cu101)\n",
            "Requirement already satisfied: dataclasses in /usr/local/lib/python3.6/dist-packages (from torch->local-attention) (0.8)\n",
            "Requirement already satisfied: typing-extensions in /usr/local/lib/python3.6/dist-packages (from torch->local-attention) (3.7.4.3)\n",
            "Requirement already satisfied: future in /usr/local/lib/python3.6/dist-packages (from torch->local-attention) (0.18.2)\n",
            "Requirement already satisfied: numpy in /usr/local/lib/python3.6/dist-packages (from torch->local-attention) (1.18.5)\n",
            "Installing collected packages: local-attention\n",
            "Successfully installed local-attention-1.1.1\n",
            "Collecting einops\n",
            "  Downloading https://files.pythonhosted.org/packages/5d/a0/9935e030634bf60ecd572c775f64ace82ceddf2f504a5fd3902438f07090/einops-0.3.0-py2.py3-none-any.whl\n",
            "Installing collected packages: einops\n",
            "Successfully installed einops-0.3.0\n"
          ],
          "name": "stdout"
        }
      ]
    },
    {
      "cell_type": "code",
      "metadata": {
        "id": "WvzGlCkCe8_4",
        "colab": {
          "base_uri": "https://localhost:8080/",
          "height": 35
        },
        "outputId": "8d46cd1d-edd6-47e6-9d29-bc5a80ca4519"
      },
      "source": [
        "from hparams import hyperparams\n",
        "hyperparams.path_dataset_common"
      ],
      "execution_count": null,
      "outputs": [
        {
          "output_type": "execute_result",
          "data": {
            "application/vnd.google.colaboratory.intrinsic+json": {
              "type": "string"
            },
            "text/plain": [
              "'/content/COMMONVOICE'"
            ]
          },
          "metadata": {
            "tags": []
          },
          "execution_count": 1
        }
      ]
    },
    {
      "cell_type": "code",
      "metadata": {
        "id": "0wTbWx5wfzPY"
      },
      "source": [
        "from depen import *\n",
        "from model import Multi_Synth_pl\n",
        "from datasets import Common_pl_dataset\n",
        "\n",
        "from pytorch_model_summary import summary\n",
        "from comet_ml import Experiment\n",
        "from pytorch_lightning.loggers import CometLogger\n",
        "from pytorch_lightning import Trainer\n",
        "from pytorch_lightning.callbacks import LearningRateMonitor, ModelCheckpoint"
      ],
      "execution_count": null,
      "outputs": []
    },
    {
      "cell_type": "code",
      "metadata": {
        "id": "Gmz_3499b9B8"
      },
      "source": [
        "seed_e(42)"
      ],
      "execution_count": null,
      "outputs": []
    },
    {
      "cell_type": "code",
      "metadata": {
        "id": "dk8MaLRcZByb",
        "colab": {
          "base_uri": "https://localhost:8080/"
        },
        "outputId": "4c81340c-b096-42a5-e1ca-2b15e6b4408c"
      },
      "source": [
        "comet_logger = CometLogger(\n",
        "    save_dir='/content/log/',\n",
        "    api_key=\"23CU99n7TeyZdPeegNDlQ5aHf\",\n",
        "    project_name=\"sound-proj\",\n",
        "    workspace=\"etzelkut\",\n",
        "    # rest_api_key=os.environ[\"COMET_REST_KEY\"], # Optional\n",
        "    # experiment_name=\"default\" # Optional\n",
        ")"
      ],
      "execution_count": null,
      "outputs": [
        {
          "output_type": "stream",
          "text": [
            "CometLogger will be initialized in online mode\n",
            "[INFO] CometLogger will be initialized in online mode\n"
          ],
          "name": "stderr"
        }
      ]
    },
    {
      "cell_type": "code",
      "metadata": {
        "id": "xkCbUmxxbGJ4",
        "colab": {
          "base_uri": "https://localhost:8080/"
        },
        "outputId": "f8155098-d6a7-40a7-903c-fd4789acd894"
      },
      "source": [
        "dataset_pl = Common_pl_dataset(hyperparams)\n",
        "dataset_pl.prepare_data()\n",
        "dataset_pl.setup()\n",
        "train_loader = dataset_pl.train_dataloader()\n",
        "steps_per_epoch = int(len(train_loader))\n",
        "print(steps_per_epoch)"
      ],
      "execution_count": null,
      "outputs": [
        {
          "output_type": "stream",
          "text": [
            "download this version \n",
            " en_1932h_2020-06-22 \n",
            "  extract files\n",
            "train set\n",
            "test set multinumber\n",
            "test set multinumber\n",
            "3475\n"
          ],
          "name": "stdout"
        }
      ]
    },
    {
      "cell_type": "code",
      "metadata": {
        "id": "fWJL1HMKFQ9K"
      },
      "source": [
        "class CheckpointEveryNSteps(pl.Callback):\n",
        "    \"\"\"\n",
        "    Save a checkpoint every N steps, instead of Lightning's default that checkpoints\n",
        "    based on validation loss.\n",
        "    \"\"\"\n",
        "\n",
        "    def __init__(\n",
        "        self,\n",
        "        save_step_frequency,\n",
        "        prefix=\"N-Step-Checkpoint\",\n",
        "        use_modelcheckpoint_filename=False,\n",
        "    ):\n",
        "        \"\"\"\n",
        "        Args:\n",
        "            save_step_frequency: how often to save in steps\n",
        "            prefix: add a prefix to the name, only used if\n",
        "                use_modelcheckpoint_filename=False\n",
        "            use_modelcheckpoint_filename: just use the ModelCheckpoint callback's\n",
        "                default filename, don't use ours.\n",
        "        \"\"\"\n",
        "        self.save_step_frequency = save_step_frequency\n",
        "        self.prefix = prefix\n",
        "        self.use_modelcheckpoint_filename = use_modelcheckpoint_filename\n",
        "\n",
        "    def on_batch_end(self, trainer: pl.Trainer, _):\n",
        "        \"\"\" Check if we should save a checkpoint after every train batch \"\"\"\n",
        "        epoch = trainer.current_epoch\n",
        "        global_step = trainer.global_step\n",
        "        if global_step % self.save_step_frequency == 0:\n",
        "            if self.use_modelcheckpoint_filename:\n",
        "                filename = trainer.checkpoint_callback.filename\n",
        "            else:\n",
        "                filename = f\"{self.prefix}_{epoch}_{global_step}.ckpt\"\n",
        "            ckpt_path = os.path.join(trainer.checkpoint_callback.dirpath, filename)\n",
        "            trainer.save_checkpoint(ckpt_path)"
      ],
      "execution_count": null,
      "outputs": []
    },
    {
      "cell_type": "code",
      "metadata": {
        "id": "CZyBADabaPqm",
        "colab": {
          "base_uri": "https://localhost:8080/"
        },
        "outputId": "8aa75945-2b1d-448d-9e47-a0d1ccdc7d59"
      },
      "source": [
        "model = Multi_Synth_pl(hyperparams, steps_per_epoch)\n",
        "#lr_monitor = LearningRateMonitor(logging_interval='step')"
      ],
      "execution_count": null,
      "outputs": [
        {
          "output_type": "stream",
          "text": [
            "performer\n",
            "glu\n",
            "performer\n",
            "glu\n",
            "performer\n",
            "glu\n"
          ],
          "name": "stdout"
        }
      ]
    },
    {
      "cell_type": "code",
      "metadata": {
        "id": "vTn1IxCAqDs2"
      },
      "source": [
        "checkpoint_callback = ModelCheckpoint(\n",
        "                                      monitor='epoch_now',\n",
        "                                      save_last=True, \n",
        "                                      dirpath= \"/content/drive/MyDrive/senior_sound/gg/\",#os.path.join(path, \"/checkpoints\"),\n",
        "                                      filename='samplemodel{epoch}',\n",
        "                                      save_top_k=3,\n",
        "                                      mode='min',\n",
        "                                      )\n",
        "every_epoch = CheckpointEveryNSteps(save_step_frequency = steps_per_epoch, use_modelcheckpoint_filename = True)"
      ],
      "execution_count": null,
      "outputs": []
    },
    {
      "cell_type": "code",
      "metadata": {
        "id": "1FS8e_CobEuE",
        "colab": {
          "base_uri": "https://localhost:8080/"
        },
        "outputId": "494f51a5-cef1-4164-f368-6e90add54bb3"
      },
      "source": [
        "trainer = Trainer(callbacks=[checkpoint_callback, every_epoch], #lr_monitor],\n",
        "                    logger=comet_logger,\n",
        "                    gpus=1,\n",
        "                    profiler=True,\n",
        "                    #auto_lr_find=True, #set hparams\n",
        "                    #gradient_clip_val=0.5,\n",
        "                    check_val_every_n_epoch=5,\n",
        "                    #early_stop_callback=True,\n",
        "                    max_epochs = hyperparams.epochs,\n",
        "                    #min_epochs=400,\n",
        "                    progress_bar_refresh_rate = 0,\n",
        "                    deterministic=True,)"
      ],
      "execution_count": null,
      "outputs": [
        {
          "output_type": "stream",
          "text": [
            "GPU available: True, used: True\n",
            "[INFO] GPU available: True, used: True\n",
            "TPU available: False, using: 0 TPU cores\n",
            "[INFO] TPU available: False, using: 0 TPU cores\n",
            "LOCAL_RANK: 0 - CUDA_VISIBLE_DEVICES: [0]\n",
            "[INFO] LOCAL_RANK: 0 - CUDA_VISIBLE_DEVICES: [0]\n"
          ],
          "name": "stderr"
        }
      ]
    },
    {
      "cell_type": "code",
      "metadata": {
        "id": "o5ujpbBIahB3",
        "colab": {
          "base_uri": "https://localhost:8080/"
        },
        "outputId": "4255d70f-aa7e-4170-e08a-62f75da1b8b4"
      },
      "source": [
        "trainer.fit(model, dataset_pl)"
      ],
      "execution_count": null,
      "outputs": [
        {
          "output_type": "stream",
          "text": [
            "COMET INFO: Experiment is live on comet.ml https://www.comet.ml/etzelkut/sound-proj/580a087f4fca46278f437779ec8bc47a\n",
            "\n",
            "\n",
            "  | Name    | Type        | Params\n",
            "----------------------------------------\n",
            "0 | network | Model_Check | 2 M   \n",
            "1 | loss    | MSELoss     | 0     \n",
            "[INFO] \n",
            "  | Name    | Type        | Params\n",
            "----------------------------------------\n",
            "0 | network | Model_Check | 2 M   \n",
            "1 | loss    | MSELoss     | 0     \n",
            "/usr/local/lib/python3.6/dist-packages/torch/functional.py:516: UserWarning: stft will require the return_complex parameter be explicitly  specified in a future PyTorch release. Use return_complex=False  to preserve the current behavior or return_complex=True to return  a complex output. (Triggered internally at  /pytorch/aten/src/ATen/native/SpectralOps.cpp:653.)\n",
            "  normalized, onesided, return_complex)\n",
            "/usr/local/lib/python3.6/dist-packages/torch/functional.py:516: UserWarning: stft will require the return_complex parameter be explicitly  specified in a future PyTorch release. Use return_complex=False  to preserve the current behavior or return_complex=True to return  a complex output. (Triggered internally at  /pytorch/aten/src/ATen/native/SpectralOps.cpp:653.)\n",
            "  normalized, onesided, return_complex)\n",
            "/usr/local/lib/python3.6/dist-packages/torch/functional.py:516: UserWarning: The function torch.rfft is deprecated and will be removed in a future PyTorch release. Use the new torch.fft module functions, instead, by importing torch.fft and calling torch.fft.fft or torch.fft.rfft. (Triggered internally at  /pytorch/aten/src/ATen/native/SpectralOps.cpp:590.)\n",
            "  normalized, onesided, return_complex)\n",
            "/usr/local/lib/python3.6/dist-packages/torch/functional.py:516: UserWarning: The function torch.rfft is deprecated and will be removed in a future PyTorch release. Use the new torch.fft module functions, instead, by importing torch.fft and calling torch.fft.fft or torch.fft.rfft. (Triggered internally at  /pytorch/aten/src/ATen/native/SpectralOps.cpp:590.)\n",
            "  normalized, onesided, return_complex)\n",
            "/usr/local/lib/python3.6/dist-packages/torch/functional.py:516: UserWarning: stft will require the return_complex parameter be explicitly  specified in a future PyTorch release. Use return_complex=False  to preserve the current behavior or return_complex=True to return  a complex output. (Triggered internally at  /pytorch/aten/src/ATen/native/SpectralOps.cpp:653.)\n",
            "  normalized, onesided, return_complex)\n",
            "/usr/local/lib/python3.6/dist-packages/torch/functional.py:516: UserWarning: stft will require the return_complex parameter be explicitly  specified in a future PyTorch release. Use return_complex=False  to preserve the current behavior or return_complex=True to return  a complex output. (Triggered internally at  /pytorch/aten/src/ATen/native/SpectralOps.cpp:653.)\n",
            "  normalized, onesided, return_complex)\n",
            "/usr/local/lib/python3.6/dist-packages/torch/functional.py:516: UserWarning: The function torch.rfft is deprecated and will be removed in a future PyTorch release. Use the new torch.fft module functions, instead, by importing torch.fft and calling torch.fft.fft or torch.fft.rfft. (Triggered internally at  /pytorch/aten/src/ATen/native/SpectralOps.cpp:590.)\n",
            "  normalized, onesided, return_complex)\n",
            "/usr/local/lib/python3.6/dist-packages/torch/functional.py:516: UserWarning: The function torch.rfft is deprecated and will be removed in a future PyTorch release. Use the new torch.fft module functions, instead, by importing torch.fft and calling torch.fft.fft or torch.fft.rfft. (Triggered internally at  /pytorch/aten/src/ATen/native/SpectralOps.cpp:590.)\n",
            "  normalized, onesided, return_complex)\n",
            "/usr/local/lib/python3.6/dist-packages/torch/functional.py:516: UserWarning: stft will require the return_complex parameter be explicitly  specified in a future PyTorch release. Use return_complex=False  to preserve the current behavior or return_complex=True to return  a complex output. (Triggered internally at  /pytorch/aten/src/ATen/native/SpectralOps.cpp:653.)\n",
            "  normalized, onesided, return_complex)\n",
            "/usr/local/lib/python3.6/dist-packages/torch/functional.py:516: UserWarning: The function torch.rfft is deprecated and will be removed in a future PyTorch release. Use the new torch.fft module functions, instead, by importing torch.fft and calling torch.fft.fft or torch.fft.rfft. (Triggered internally at  /pytorch/aten/src/ATen/native/SpectralOps.cpp:590.)\n",
            "  normalized, onesided, return_complex)\n",
            "/usr/local/lib/python3.6/dist-packages/torch/functional.py:516: UserWarning: stft will require the return_complex parameter be explicitly  specified in a future PyTorch release. Use return_complex=False  to preserve the current behavior or return_complex=True to return  a complex output. (Triggered internally at  /pytorch/aten/src/ATen/native/SpectralOps.cpp:653.)\n",
            "  normalized, onesided, return_complex)\n",
            "/usr/local/lib/python3.6/dist-packages/torch/functional.py:516: UserWarning: The function torch.rfft is deprecated and will be removed in a future PyTorch release. Use the new torch.fft module functions, instead, by importing torch.fft and calling torch.fft.fft or torch.fft.rfft. (Triggered internally at  /pytorch/aten/src/ATen/native/SpectralOps.cpp:590.)\n",
            "  normalized, onesided, return_complex)\n",
            "/usr/local/lib/python3.6/dist-packages/torch/functional.py:516: UserWarning: stft will require the return_complex parameter be explicitly  specified in a future PyTorch release. Use return_complex=False  to preserve the current behavior or return_complex=True to return  a complex output. (Triggered internally at  /pytorch/aten/src/ATen/native/SpectralOps.cpp:653.)\n",
            "  normalized, onesided, return_complex)\n",
            "/usr/local/lib/python3.6/dist-packages/torch/functional.py:516: UserWarning: The function torch.rfft is deprecated and will be removed in a future PyTorch release. Use the new torch.fft module functions, instead, by importing torch.fft and calling torch.fft.fft or torch.fft.rfft. (Triggered internally at  /pytorch/aten/src/ATen/native/SpectralOps.cpp:590.)\n",
            "  normalized, onesided, return_complex)\n",
            "/usr/local/lib/python3.6/dist-packages/torch/functional.py:516: UserWarning: stft will require the return_complex parameter be explicitly  specified in a future PyTorch release. Use return_complex=False  to preserve the current behavior or return_complex=True to return  a complex output. (Triggered internally at  /pytorch/aten/src/ATen/native/SpectralOps.cpp:653.)\n",
            "  normalized, onesided, return_complex)\n",
            "/usr/local/lib/python3.6/dist-packages/torch/functional.py:516: UserWarning: The function torch.rfft is deprecated and will be removed in a future PyTorch release. Use the new torch.fft module functions, instead, by importing torch.fft and calling torch.fft.fft or torch.fft.rfft. (Triggered internally at  /pytorch/aten/src/ATen/native/SpectralOps.cpp:590.)\n",
            "  normalized, onesided, return_complex)\n"
          ],
          "name": "stderr"
        }
      ]
    },
    {
      "cell_type": "code",
      "metadata": {
        "id": "4O56mL6OMfYk"
      },
      "source": [
        "checkpoint_name = os.path.join(\"/content/drive/MyDrive/senior_sound/gg\", 'manual_save' + str(228) + '.ckpt')\n",
        "trainer.save_checkpoint(checkpoint_name)"
      ],
      "execution_count": null,
      "outputs": []
    },
    {
      "cell_type": "code",
      "metadata": {
        "id": "cKo8m3QgcFL_"
      },
      "source": [
        "trainer.test()"
      ],
      "execution_count": null,
      "outputs": []
    },
    {
      "cell_type": "code",
      "metadata": {
        "id": "fXoyRoxm7S0u"
      },
      "source": [
        "#'test_loss': 719.5844116210938,\n",
        "#test_loss': 724.29150390625\n",
        "#test_loss': 742.3584594726562"
      ],
      "execution_count": null,
      "outputs": []
    }
  ]
}