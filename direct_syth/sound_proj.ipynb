{
  "nbformat": 4,
  "nbformat_minor": 0,
  "metadata": {
    "colab": {
      "name": "sound_proj.ipynb",
      "provenance": [],
      "collapsed_sections": []
    },
    "kernelspec": {
      "display_name": "Python 3",
      "name": "python3"
    },
    "accelerator": "GPU"
  },
  "cells": [
    {
      "cell_type": "code",
      "metadata": {
        "colab": {
          "base_uri": "https://localhost:8080/",
          "height": 105
        },
        "id": "4tRlK-8Q87v6",
        "outputId": "5b29ca2b-a961-46b1-97a8-b80f17ffd47b"
      },
      "source": [
        "\"\"\"t = torchaudio.transforms.MelSpectrogram(sample_rate=48000, n_mels=128)\n",
        "path = \"/content/COMMONVOICE\"\n",
        "TSV = \"my_test.tsv\"\n",
        "\n",
        "tsvm = os.path.join(path, TSV)\n",
        "df = pd.read_csv(tsvm, sep=\"\\t\")\n",
        "strings = df['path'].values\n",
        "folder = os.path.join(path, \"clips\")\n",
        "\n",
        "mel_l, wav_l = [], []\n",
        "i = 0\n",
        "print(len(strings))\n",
        "for names in strings:\n",
        "  filename = os.path.join(folder,names)\n",
        "  waveform, sample_rate = torchaudio.load(filename)\n",
        "  mel = t(waveform)\n",
        "  mel_l.append(mel.shape[2])\n",
        "  wav_l.append(waveform.shape[1])\n",
        "  i+=1\n",
        "  if i%100 == 0:\n",
        "    print(i)\n",
        "\n",
        "df[\"mel_l\"] = mel_l\n",
        "df[\"wav_l\"] = wav_l\n",
        "new_TSV = \"new_\" + TSV\n",
        "tsvm = os.path.join(\"/content/drive/MyDrive/senior_sound/work\", new_TSV)\n",
        "df.to_csv(tsvm, sep = '\\t', index=False)\"\"\""
      ],
      "execution_count": null,
      "outputs": [
        {
          "output_type": "execute_result",
          "data": {
            "application/vnd.google.colaboratory.intrinsic+json": {
              "type": "string"
            },
            "text/plain": [
              "'t = torchaudio.transforms.MelSpectrogram(sample_rate=48000, n_mels=128)\\npath = \"/content/COMMONVOICE\"\\nTSV = \"my_test.tsv\"\\n\\ntsvm = os.path.join(path, TSV)\\ndf = pd.read_csv(tsvm, sep=\"\\t\")\\nstrings = df[\\'path\\'].values\\nfolder = os.path.join(path, \"clips\")\\n\\nmel_l, wav_l = [], []\\ni = 0\\nprint(len(strings))\\nfor names in strings:\\n  filename = os.path.join(folder,names)\\n  waveform, sample_rate = torchaudio.load(filename)\\n  mel = t(waveform)\\n  mel_l.append(mel.shape[2])\\n  wav_l.append(waveform.shape[1])\\n  i+=1\\n  if i%100 == 0:\\n    print(i)\\n\\ndf[\"mel_l\"] = mel_l\\ndf[\"wav_l\"] = wav_l\\nnew_TSV = \"new_\" + TSV\\ntsvm = os.path.join(\"/content/drive/MyDrive/senior_sound/work\", new_TSV)\\ndf.to_csv(tsvm, sep = \\'\\t\\', index=False)'"
            ]
          },
          "metadata": {
            "tags": []
          },
          "execution_count": 1
        }
      ]
    },
    {
      "cell_type": "code",
      "metadata": {
        "id": "n1oxwUhgDHkH"
      },
      "source": [
        "#!wget -c https://voice-prod-bundler-ee1969a6ce8178826482b88e843c335139bd3fb4.s3.amazonaws.com/cv-corpus-5.1-2020-06-22/en.tar.gz -P\"drive/My Drive/senior_sound/work\"\n",
        "#!tar -xf \"drive/My Drive/senior_sound/work/en.tar.gz\" -C \"drive/My Drive/senior_sound/work/COMMONVOICE\"\n",
        "!mkdir COMMONVOICE\n",
        "!cp \"/content/drive/MyDrive/senior_sound/work/c_en_sound.zip\" \"/content/COMMONVOICE\""
      ],
      "execution_count": null,
      "outputs": []
    },
    {
      "cell_type": "code",
      "metadata": {
        "id": "vPZMcnbAUIka"
      },
      "source": [
        "!cp /content/drive/MyDrive/senior_sound/work/{ph_end_new_my_train.tsv,ph_end_new_my_test.tsv,ph_end_new_my_dev.tsv} /content/COMMONVOICE"
      ],
      "execution_count": null,
      "outputs": []
    },
    {
      "cell_type": "code",
      "metadata": {
        "id": "Qq19XSURDzIs"
      },
      "source": [
        "!unzip -n -q \"/content/COMMONVOICE/c_en_sound.zip\" -d \"/content/COMMONVOICE\""
      ],
      "execution_count": null,
      "outputs": []
    },
    {
      "cell_type": "code",
      "metadata": {
        "id": "V6mypqk5d_oR",
        "colab": {
          "base_uri": "https://localhost:8080/"
        },
        "outputId": "3a7d3810-6b18-4782-f453-3e364c451bb9"
      },
      "source": [
        "!pip install librosa\n",
        "!pip install torchaudio #-f https://download.pytorch.org/whl/torch_stable.html\n",
        "#!pip install https://github.com/PytorchLightning/pytorch-lightning/archive/0.9.0.zip --upgrade\n",
        "!pip install pytorch-model-summary\n",
        "!pip install allennlp\n",
        "!pip install phonemizer\n",
        "!apt-get install festival espeak-ng mbrola\n",
        "!pip install pytorch-lightning\n",
        "!pip install comet-ml\n",
        "!pip install local-attention\n",
        "!pip install einops"
      ],
      "execution_count": null,
      "outputs": [
        {
          "output_type": "stream",
          "text": [
            "Requirement already satisfied: librosa in /usr/local/lib/python3.6/dist-packages (0.6.3)\n",
            "Requirement already satisfied: joblib>=0.12 in /usr/local/lib/python3.6/dist-packages (from librosa) (0.17.0)\n",
            "Requirement already satisfied: decorator>=3.0.0 in /usr/local/lib/python3.6/dist-packages (from librosa) (4.4.2)\n",
            "Requirement already satisfied: numpy>=1.8.0 in /usr/local/lib/python3.6/dist-packages (from librosa) (1.18.5)\n",
            "Requirement already satisfied: six>=1.3 in /usr/local/lib/python3.6/dist-packages (from librosa) (1.15.0)\n",
            "Requirement already satisfied: scipy>=1.0.0 in /usr/local/lib/python3.6/dist-packages (from librosa) (1.4.1)\n",
            "Requirement already satisfied: scikit-learn!=0.19.0,>=0.14.0 in /usr/local/lib/python3.6/dist-packages (from librosa) (0.22.2.post1)\n",
            "Requirement already satisfied: resampy>=0.2.0 in /usr/local/lib/python3.6/dist-packages (from librosa) (0.2.2)\n",
            "Requirement already satisfied: numba>=0.38.0 in /usr/local/lib/python3.6/dist-packages (from librosa) (0.48.0)\n",
            "Requirement already satisfied: audioread>=2.0.0 in /usr/local/lib/python3.6/dist-packages (from librosa) (2.1.9)\n",
            "Requirement already satisfied: setuptools in /usr/local/lib/python3.6/dist-packages (from numba>=0.38.0->librosa) (50.3.2)\n",
            "Requirement already satisfied: llvmlite<0.32.0,>=0.31.0dev0 in /usr/local/lib/python3.6/dist-packages (from numba>=0.38.0->librosa) (0.31.0)\n",
            "Collecting torchaudio\n",
            "\u001b[?25l  Downloading https://files.pythonhosted.org/packages/3f/23/6b54106b3de029d3f10cf8debc302491c17630357449c900d6209665b302/torchaudio-0.7.0-cp36-cp36m-manylinux1_x86_64.whl (7.6MB)\n",
            "\u001b[K     |████████████████████████████████| 7.6MB 7.4MB/s \n",
            "\u001b[?25hRequirement already satisfied: torch==1.7.0 in /usr/local/lib/python3.6/dist-packages (from torchaudio) (1.7.0+cu101)\n",
            "Requirement already satisfied: future in /usr/local/lib/python3.6/dist-packages (from torch==1.7.0->torchaudio) (0.16.0)\n",
            "Requirement already satisfied: dataclasses in /usr/local/lib/python3.6/dist-packages (from torch==1.7.0->torchaudio) (0.7)\n",
            "Requirement already satisfied: typing-extensions in /usr/local/lib/python3.6/dist-packages (from torch==1.7.0->torchaudio) (3.7.4.3)\n",
            "Requirement already satisfied: numpy in /usr/local/lib/python3.6/dist-packages (from torch==1.7.0->torchaudio) (1.18.5)\n",
            "Installing collected packages: torchaudio\n",
            "Successfully installed torchaudio-0.7.0\n",
            "Collecting pytorch-model-summary\n",
            "  Downloading https://files.pythonhosted.org/packages/fe/45/01d67be55fe3683a9221ac956ba46d1ca32da7bf96029b8d1c7667b8a55c/pytorch_model_summary-0.1.2-py3-none-any.whl\n",
            "Requirement already satisfied: numpy in /usr/local/lib/python3.6/dist-packages (from pytorch-model-summary) (1.18.5)\n",
            "Requirement already satisfied: torch in /usr/local/lib/python3.6/dist-packages (from pytorch-model-summary) (1.7.0+cu101)\n",
            "Requirement already satisfied: tqdm in /usr/local/lib/python3.6/dist-packages (from pytorch-model-summary) (4.41.1)\n",
            "Requirement already satisfied: future in /usr/local/lib/python3.6/dist-packages (from torch->pytorch-model-summary) (0.16.0)\n",
            "Requirement already satisfied: typing-extensions in /usr/local/lib/python3.6/dist-packages (from torch->pytorch-model-summary) (3.7.4.3)\n",
            "Requirement already satisfied: dataclasses in /usr/local/lib/python3.6/dist-packages (from torch->pytorch-model-summary) (0.7)\n",
            "Installing collected packages: pytorch-model-summary\n",
            "Successfully installed pytorch-model-summary-0.1.2\n",
            "Collecting allennlp\n",
            "\u001b[?25l  Downloading https://files.pythonhosted.org/packages/cb/42/ee4abac910d0becba85ef0c2cfa2d5a954d986a1356708db5a0cd911783c/allennlp-1.2.2-py3-none-any.whl (505kB)\n",
            "\u001b[K     |████████████████████████████████| 512kB 8.3MB/s \n",
            "\u001b[?25hCollecting boto3<2.0,>=1.14\n",
            "\u001b[?25l  Downloading https://files.pythonhosted.org/packages/4e/31/4d4861a90d66c287a348fd17eaefefcdc2e859951cab9884b555923f046d/boto3-1.16.23-py2.py3-none-any.whl (129kB)\n",
            "\u001b[K     |████████████████████████████████| 133kB 14.4MB/s \n",
            "\u001b[?25hRequirement already satisfied: nltk in /usr/local/lib/python3.6/dist-packages (from allennlp) (3.2.5)\n",
            "Collecting overrides==3.1.0\n",
            "  Downloading https://files.pythonhosted.org/packages/ff/b1/10f69c00947518e6676bbd43e739733048de64b8dd998e9c2d5a71f44c5d/overrides-3.1.0.tar.gz\n",
            "Collecting jsonpickle\n",
            "  Downloading https://files.pythonhosted.org/packages/af/ca/4fee219cc4113a5635e348ad951cf8a2e47fed2e3342312493f5b73d0007/jsonpickle-1.4.1-py2.py3-none-any.whl\n",
            "Collecting tensorboardX>=1.2\n",
            "\u001b[?25l  Downloading https://files.pythonhosted.org/packages/af/0c/4f41bcd45db376e6fe5c619c01100e9b7531c55791b7244815bac6eac32c/tensorboardX-2.1-py2.py3-none-any.whl (308kB)\n",
            "\u001b[K     |████████████████████████████████| 317kB 10.0MB/s \n",
            "\u001b[?25hRequirement already satisfied: tqdm>=4.19 in /usr/local/lib/python3.6/dist-packages (from allennlp) (4.41.1)\n",
            "Requirement already satisfied: requests>=2.18 in /usr/local/lib/python3.6/dist-packages (from allennlp) (2.23.0)\n",
            "Requirement already satisfied: h5py in /usr/local/lib/python3.6/dist-packages (from allennlp) (2.10.0)\n",
            "Requirement already satisfied: scikit-learn in /usr/local/lib/python3.6/dist-packages (from allennlp) (0.22.2.post1)\n",
            "Requirement already satisfied: scipy in /usr/local/lib/python3.6/dist-packages (from allennlp) (1.4.1)\n",
            "Collecting transformers<3.6,>=3.4\n",
            "\u001b[?25l  Downloading https://files.pythonhosted.org/packages/3a/83/e74092e7f24a08d751aa59b37a9fc572b2e4af3918cb66f7766c3affb1b4/transformers-3.5.1-py3-none-any.whl (1.3MB)\n",
            "\u001b[K     |████████████████████████████████| 1.3MB 16.2MB/s \n",
            "\u001b[?25hRequirement already satisfied: dataclasses; python_version < \"3.7\" in /usr/local/lib/python3.6/dist-packages (from allennlp) (0.7)\n",
            "Requirement already satisfied: pytest in /usr/local/lib/python3.6/dist-packages (from allennlp) (3.6.4)\n",
            "Requirement already satisfied: torch<1.8.0,>=1.6.0 in /usr/local/lib/python3.6/dist-packages (from allennlp) (1.7.0+cu101)\n",
            "Requirement already satisfied: spacy<2.4,>=2.1.0 in /usr/local/lib/python3.6/dist-packages (from allennlp) (2.2.4)\n",
            "Collecting jsonnet>=0.10.0; sys_platform != \"win32\"\n",
            "\u001b[?25l  Downloading https://files.pythonhosted.org/packages/86/70/ed1ba808a87d896b9f4d25400dda54e089ca7a97e87cee620b3744997c89/jsonnet-0.16.0.tar.gz (256kB)\n",
            "\u001b[K     |████████████████████████████████| 266kB 35.7MB/s \n",
            "\u001b[?25hRequirement already satisfied: filelock<3.1,>=3.0 in /usr/local/lib/python3.6/dist-packages (from allennlp) (3.0.12)\n",
            "Requirement already satisfied: numpy in /usr/local/lib/python3.6/dist-packages (from allennlp) (1.18.5)\n",
            "Collecting botocore<1.20.0,>=1.19.23\n",
            "\u001b[?25l  Downloading https://files.pythonhosted.org/packages/77/49/c8c99477416fdebb59078bda624acc5b3c7008f891c60d56d6ff1570d83e/botocore-1.19.23-py2.py3-none-any.whl (6.8MB)\n",
            "\u001b[K     |████████████████████████████████| 6.9MB 33.1MB/s \n",
            "\u001b[?25hCollecting jmespath<1.0.0,>=0.7.1\n",
            "  Downloading https://files.pythonhosted.org/packages/07/cb/5f001272b6faeb23c1c9e0acc04d48eaaf5c862c17709d20e3469c6e0139/jmespath-0.10.0-py2.py3-none-any.whl\n",
            "Collecting s3transfer<0.4.0,>=0.3.0\n",
            "\u001b[?25l  Downloading https://files.pythonhosted.org/packages/69/79/e6afb3d8b0b4e96cefbdc690f741d7dd24547ff1f94240c997a26fa908d3/s3transfer-0.3.3-py2.py3-none-any.whl (69kB)\n",
            "\u001b[K     |████████████████████████████████| 71kB 11.6MB/s \n",
            "\u001b[?25hRequirement already satisfied: six in /usr/local/lib/python3.6/dist-packages (from nltk->allennlp) (1.15.0)\n",
            "Requirement already satisfied: importlib-metadata in /usr/local/lib/python3.6/dist-packages (from jsonpickle->allennlp) (2.0.0)\n",
            "Requirement already satisfied: protobuf>=3.8.0 in /usr/local/lib/python3.6/dist-packages (from tensorboardX>=1.2->allennlp) (3.12.4)\n",
            "Requirement already satisfied: idna<3,>=2.5 in /usr/local/lib/python3.6/dist-packages (from requests>=2.18->allennlp) (2.10)\n",
            "Requirement already satisfied: urllib3!=1.25.0,!=1.25.1,<1.26,>=1.21.1 in /usr/local/lib/python3.6/dist-packages (from requests>=2.18->allennlp) (1.24.3)\n",
            "Requirement already satisfied: certifi>=2017.4.17 in /usr/local/lib/python3.6/dist-packages (from requests>=2.18->allennlp) (2020.6.20)\n",
            "Requirement already satisfied: chardet<4,>=3.0.2 in /usr/local/lib/python3.6/dist-packages (from requests>=2.18->allennlp) (3.0.4)\n",
            "Requirement already satisfied: joblib>=0.11 in /usr/local/lib/python3.6/dist-packages (from scikit-learn->allennlp) (0.17.0)\n",
            "Collecting sacremoses\n",
            "\u001b[?25l  Downloading https://files.pythonhosted.org/packages/7d/34/09d19aff26edcc8eb2a01bed8e98f13a1537005d31e95233fd48216eed10/sacremoses-0.0.43.tar.gz (883kB)\n",
            "\u001b[K     |████████████████████████████████| 890kB 43.6MB/s \n",
            "\u001b[?25hRequirement already satisfied: packaging in /usr/local/lib/python3.6/dist-packages (from transformers<3.6,>=3.4->allennlp) (20.4)\n",
            "Collecting sentencepiece==0.1.91\n",
            "\u001b[?25l  Downloading https://files.pythonhosted.org/packages/d4/a4/d0a884c4300004a78cca907a6ff9a5e9fe4f090f5d95ab341c53d28cbc58/sentencepiece-0.1.91-cp36-cp36m-manylinux1_x86_64.whl (1.1MB)\n",
            "\u001b[K     |████████████████████████████████| 1.1MB 57.6MB/s \n",
            "\u001b[?25hRequirement already satisfied: regex!=2019.12.17 in /usr/local/lib/python3.6/dist-packages (from transformers<3.6,>=3.4->allennlp) (2019.12.20)\n",
            "Collecting tokenizers==0.9.3\n",
            "\u001b[?25l  Downloading https://files.pythonhosted.org/packages/4c/34/b39eb9994bc3c999270b69c9eea40ecc6f0e97991dba28282b9fd32d44ee/tokenizers-0.9.3-cp36-cp36m-manylinux1_x86_64.whl (2.9MB)\n",
            "\u001b[K     |████████████████████████████████| 2.9MB 47.8MB/s \n",
            "\u001b[?25hRequirement already satisfied: setuptools in /usr/local/lib/python3.6/dist-packages (from pytest->allennlp) (50.3.2)\n",
            "Requirement already satisfied: pluggy<0.8,>=0.5 in /usr/local/lib/python3.6/dist-packages (from pytest->allennlp) (0.7.1)\n",
            "Requirement already satisfied: py>=1.5.0 in /usr/local/lib/python3.6/dist-packages (from pytest->allennlp) (1.9.0)\n",
            "Requirement already satisfied: more-itertools>=4.0.0 in /usr/local/lib/python3.6/dist-packages (from pytest->allennlp) (8.6.0)\n",
            "Requirement already satisfied: attrs>=17.4.0 in /usr/local/lib/python3.6/dist-packages (from pytest->allennlp) (20.2.0)\n",
            "Requirement already satisfied: atomicwrites>=1.0 in /usr/local/lib/python3.6/dist-packages (from pytest->allennlp) (1.4.0)\n",
            "Requirement already satisfied: future in /usr/local/lib/python3.6/dist-packages (from torch<1.8.0,>=1.6.0->allennlp) (0.16.0)\n",
            "Requirement already satisfied: typing-extensions in /usr/local/lib/python3.6/dist-packages (from torch<1.8.0,>=1.6.0->allennlp) (3.7.4.3)\n",
            "Requirement already satisfied: wasabi<1.1.0,>=0.4.0 in /usr/local/lib/python3.6/dist-packages (from spacy<2.4,>=2.1.0->allennlp) (0.8.0)\n",
            "Requirement already satisfied: blis<0.5.0,>=0.4.0 in /usr/local/lib/python3.6/dist-packages (from spacy<2.4,>=2.1.0->allennlp) (0.4.1)\n",
            "Requirement already satisfied: srsly<1.1.0,>=1.0.2 in /usr/local/lib/python3.6/dist-packages (from spacy<2.4,>=2.1.0->allennlp) (1.0.2)\n",
            "Requirement already satisfied: thinc==7.4.0 in /usr/local/lib/python3.6/dist-packages (from spacy<2.4,>=2.1.0->allennlp) (7.4.0)\n",
            "Requirement already satisfied: murmurhash<1.1.0,>=0.28.0 in /usr/local/lib/python3.6/dist-packages (from spacy<2.4,>=2.1.0->allennlp) (1.0.3)\n",
            "Requirement already satisfied: plac<1.2.0,>=0.9.6 in /usr/local/lib/python3.6/dist-packages (from spacy<2.4,>=2.1.0->allennlp) (1.1.3)\n",
            "Requirement already satisfied: preshed<3.1.0,>=3.0.2 in /usr/local/lib/python3.6/dist-packages (from spacy<2.4,>=2.1.0->allennlp) (3.0.2)\n",
            "Requirement already satisfied: cymem<2.1.0,>=2.0.2 in /usr/local/lib/python3.6/dist-packages (from spacy<2.4,>=2.1.0->allennlp) (2.0.4)\n",
            "Requirement already satisfied: catalogue<1.1.0,>=0.0.7 in /usr/local/lib/python3.6/dist-packages (from spacy<2.4,>=2.1.0->allennlp) (1.0.0)\n",
            "Requirement already satisfied: python-dateutil<3.0.0,>=2.1 in /usr/local/lib/python3.6/dist-packages (from botocore<1.20.0,>=1.19.23->boto3<2.0,>=1.14->allennlp) (2.8.1)\n",
            "Requirement already satisfied: zipp>=0.5 in /usr/local/lib/python3.6/dist-packages (from importlib-metadata->jsonpickle->allennlp) (3.4.0)\n",
            "Requirement already satisfied: click in /usr/local/lib/python3.6/dist-packages (from sacremoses->transformers<3.6,>=3.4->allennlp) (7.1.2)\n",
            "Requirement already satisfied: pyparsing>=2.0.2 in /usr/local/lib/python3.6/dist-packages (from packaging->transformers<3.6,>=3.4->allennlp) (2.4.7)\n",
            "Building wheels for collected packages: overrides, jsonnet, sacremoses\n",
            "  Building wheel for overrides (setup.py) ... \u001b[?25l\u001b[?25hdone\n",
            "  Created wheel for overrides: filename=overrides-3.1.0-cp36-none-any.whl size=10174 sha256=2240b3990023b04be3e5f38b537b6b416787d9a96aa28fe54d1f87549c1e091a\n",
            "  Stored in directory: /root/.cache/pip/wheels/5c/24/13/6ef8600e6f147c95e595f1289a86a3cc82ed65df57582c65a9\n",
            "  Building wheel for jsonnet (setup.py) ... \u001b[?25l\u001b[?25hdone\n",
            "  Created wheel for jsonnet: filename=jsonnet-0.16.0-cp36-cp36m-linux_x86_64.whl size=3321563 sha256=1474468a5f561f2dc0142a9f60dc4cdb4e50d5fd41870837d46ebaa6b629f8f9\n",
            "  Stored in directory: /root/.cache/pip/wheels/64/a9/43/bc5e0463deeec89dfca928a2a64595f1bdb520c891f6fbd09c\n",
            "  Building wheel for sacremoses (setup.py) ... \u001b[?25l\u001b[?25hdone\n",
            "  Created wheel for sacremoses: filename=sacremoses-0.0.43-cp36-none-any.whl size=893257 sha256=ec0ffbe0ec1ea84359e7dc29caf89c82a3027cceda28074ce06473467ca4c466\n",
            "  Stored in directory: /root/.cache/pip/wheels/29/3c/fd/7ce5c3f0666dab31a50123635e6fb5e19ceb42ce38d4e58f45\n",
            "Successfully built overrides jsonnet sacremoses\n",
            "\u001b[31mERROR: botocore 1.19.23 has requirement urllib3<1.27,>=1.25.4; python_version != \"3.4\", but you'll have urllib3 1.24.3 which is incompatible.\u001b[0m\n",
            "Installing collected packages: jmespath, botocore, s3transfer, boto3, overrides, jsonpickle, tensorboardX, sacremoses, sentencepiece, tokenizers, transformers, jsonnet, allennlp\n",
            "Successfully installed allennlp-1.2.2 boto3-1.16.23 botocore-1.19.23 jmespath-0.10.0 jsonnet-0.16.0 jsonpickle-1.4.1 overrides-3.1.0 s3transfer-0.3.3 sacremoses-0.0.43 sentencepiece-0.1.91 tensorboardX-2.1 tokenizers-0.9.3 transformers-3.5.1\n",
            "Collecting phonemizer\n",
            "\u001b[?25l  Downloading https://files.pythonhosted.org/packages/e1/ec/eb95ec96dc5374ba339d47c5252d62e9a7b1fbd5c9e4eefebc0d7e25381d/phonemizer-2.2.1-py3-none-any.whl (49kB)\n",
            "\u001b[K     |████████████████████████████████| 51kB 4.2MB/s \n",
            "\u001b[?25hCollecting segments\n",
            "  Downloading https://files.pythonhosted.org/packages/5b/a0/0c3fe64787745c39eb3f2f5f5f9ed8d008d9ef22e9d7f9f52f71ea4712f7/segments-2.1.3-py2.py3-none-any.whl\n",
            "Requirement already satisfied: attrs>=18.1 in /usr/local/lib/python3.6/dist-packages (from phonemizer) (20.2.0)\n",
            "Requirement already satisfied: joblib in /usr/local/lib/python3.6/dist-packages (from phonemizer) (0.17.0)\n",
            "Requirement already satisfied: regex in /usr/local/lib/python3.6/dist-packages (from segments->phonemizer) (2019.12.20)\n",
            "Collecting csvw>=1.5.6\n",
            "  Downloading https://files.pythonhosted.org/packages/91/c1/9f615dc3535aace5f6ddcc4411351996ff2f868f4d16703d13161fcef2bd/csvw-1.8.1-py2.py3-none-any.whl\n",
            "Collecting clldutils>=1.7.3\n",
            "\u001b[?25l  Downloading https://files.pythonhosted.org/packages/4e/dd/6afa78497c503e8ad02596b27932df7f3216c0d10b4b7785d942a59b9cfd/clldutils-3.5.4-py2.py3-none-any.whl (189kB)\n",
            "\u001b[K     |████████████████████████████████| 194kB 13.5MB/s \n",
            "\u001b[?25hCollecting rfc3986\n",
            "  Downloading https://files.pythonhosted.org/packages/78/be/7b8b99fd74ff5684225f50dd0e865393d2265656ef3b4ba9eaaaffe622b8/rfc3986-1.4.0-py2.py3-none-any.whl\n",
            "Collecting isodate\n",
            "\u001b[?25l  Downloading https://files.pythonhosted.org/packages/9b/9f/b36f7774ff5ea8e428fdcfc4bb332c39ee5b9362ddd3d40d9516a55221b2/isodate-0.6.0-py2.py3-none-any.whl (45kB)\n",
            "\u001b[K     |████████████████████████████████| 51kB 8.0MB/s \n",
            "\u001b[?25hRequirement already satisfied: uritemplate>=3.0.0 in /usr/local/lib/python3.6/dist-packages (from csvw>=1.5.6->segments->phonemizer) (3.0.1)\n",
            "Requirement already satisfied: python-dateutil in /usr/local/lib/python3.6/dist-packages (from csvw>=1.5.6->segments->phonemizer) (2.8.1)\n",
            "Requirement already satisfied: tabulate>=0.7.7 in /usr/local/lib/python3.6/dist-packages (from clldutils>=1.7.3->segments->phonemizer) (0.8.7)\n",
            "Collecting colorlog\n",
            "  Downloading https://files.pythonhosted.org/packages/4e/c8/c16d30bbed11a1722060014c246d124582d1f781b26f5859d8dacc3e08e1/colorlog-4.6.2-py2.py3-none-any.whl\n",
            "Requirement already satisfied: six in /usr/local/lib/python3.6/dist-packages (from isodate->csvw>=1.5.6->segments->phonemizer) (1.15.0)\n",
            "Installing collected packages: rfc3986, isodate, csvw, colorlog, clldutils, segments, phonemizer\n",
            "Successfully installed clldutils-3.5.4 colorlog-4.6.2 csvw-1.8.1 isodate-0.6.0 phonemizer-2.2.1 rfc3986-1.4.0 segments-2.1.3\n",
            "Reading package lists... Done\n",
            "Building dependency tree       \n",
            "Reading state information... Done\n",
            "The following additional packages will be installed:\n",
            "  alsa-utils espeak-ng-data festlex-cmu festlex-poslex festvox-kallpc16k\n",
            "  libespeak-ng1 libestools2.5 libfftw3-single3 libnewt0.52 libpcaudio0\n",
            "  libsonic0 sgml-base whiptail\n",
            "Suggested packages:\n",
            "  pidgin-festival festival-freebsoft-utils libfftw3-bin libfftw3-dev\n",
            "  mbrola-voice espeak cicero sgml-base-doc\n",
            "The following NEW packages will be installed:\n",
            "  alsa-utils espeak-ng espeak-ng-data festival festlex-cmu festlex-poslex\n",
            "  festvox-kallpc16k libespeak-ng1 libestools2.5 libfftw3-single3 libnewt0.52\n",
            "  libpcaudio0 libsonic0 mbrola sgml-base whiptail\n",
            "0 upgraded, 16 newly installed, 0 to remove and 14 not upgraded.\n",
            "Need to get 12.2 MB of archives.\n",
            "After this operation, 37.5 MB of additional disk space will be used.\n",
            "Get:1 http://archive.ubuntu.com/ubuntu bionic/main amd64 sgml-base all 1.29 [12.3 kB]\n",
            "Get:2 http://archive.ubuntu.com/ubuntu bionic/main amd64 libnewt0.52 amd64 0.52.20-1ubuntu1 [40.6 kB]\n",
            "Get:3 http://archive.ubuntu.com/ubuntu bionic/main amd64 whiptail amd64 0.52.20-1ubuntu1 [16.6 kB]\n",
            "Get:4 http://archive.ubuntu.com/ubuntu bionic/main amd64 libfftw3-single3 amd64 3.3.7-1 [764 kB]\n",
            "Get:5 http://archive.ubuntu.com/ubuntu bionic/main amd64 alsa-utils amd64 1.1.3-1ubuntu1 [966 kB]\n",
            "Get:6 http://archive.ubuntu.com/ubuntu bionic/main amd64 libpcaudio0 amd64 1.0-1 [6,536 B]\n",
            "Get:7 http://archive.ubuntu.com/ubuntu bionic/main amd64 libsonic0 amd64 0.2.0-6 [13.4 kB]\n",
            "Get:8 http://archive.ubuntu.com/ubuntu bionic/main amd64 espeak-ng-data amd64 1.49.2+dfsg-1 [3,469 kB]\n",
            "Get:9 http://archive.ubuntu.com/ubuntu bionic/main amd64 libespeak-ng1 amd64 1.49.2+dfsg-1 [187 kB]\n",
            "Get:10 http://archive.ubuntu.com/ubuntu bionic/universe amd64 espeak-ng amd64 1.49.2+dfsg-1 [282 kB]\n",
            "Get:11 http://archive.ubuntu.com/ubuntu bionic/universe amd64 libestools2.5 amd64 1:2.5.0-4 [889 kB]\n",
            "Get:12 http://archive.ubuntu.com/ubuntu bionic/universe amd64 festival amd64 1:2.5.0-1 [804 kB]\n",
            "Get:13 http://archive.ubuntu.com/ubuntu bionic/universe amd64 festlex-cmu all 2.4-1 [895 kB]\n",
            "Get:14 http://archive.ubuntu.com/ubuntu bionic/universe amd64 festlex-poslex all 2.4-1 [186 kB]\n",
            "Get:15 http://archive.ubuntu.com/ubuntu bionic/multiverse amd64 mbrola amd64 3.01h+2-3 [37.9 kB]\n",
            "Get:16 http://archive.ubuntu.com/ubuntu bionic/universe amd64 festvox-kallpc16k all 2.4-1 [3,614 kB]\n",
            "Fetched 12.2 MB in 2s (6,211 kB/s)\n",
            "Selecting previously unselected package sgml-base.\n",
            "(Reading database ... 144793 files and directories currently installed.)\n",
            "Preparing to unpack .../00-sgml-base_1.29_all.deb ...\n",
            "Unpacking sgml-base (1.29) ...\n",
            "Selecting previously unselected package libnewt0.52:amd64.\n",
            "Preparing to unpack .../01-libnewt0.52_0.52.20-1ubuntu1_amd64.deb ...\n",
            "Unpacking libnewt0.52:amd64 (0.52.20-1ubuntu1) ...\n",
            "Selecting previously unselected package whiptail.\n",
            "Preparing to unpack .../02-whiptail_0.52.20-1ubuntu1_amd64.deb ...\n",
            "Unpacking whiptail (0.52.20-1ubuntu1) ...\n",
            "Selecting previously unselected package libfftw3-single3:amd64.\n",
            "Preparing to unpack .../03-libfftw3-single3_3.3.7-1_amd64.deb ...\n",
            "Unpacking libfftw3-single3:amd64 (3.3.7-1) ...\n",
            "Selecting previously unselected package alsa-utils.\n",
            "Preparing to unpack .../04-alsa-utils_1.1.3-1ubuntu1_amd64.deb ...\n",
            "Unpacking alsa-utils (1.1.3-1ubuntu1) ...\n",
            "Selecting previously unselected package libpcaudio0.\n",
            "Preparing to unpack .../05-libpcaudio0_1.0-1_amd64.deb ...\n",
            "Unpacking libpcaudio0 (1.0-1) ...\n",
            "Selecting previously unselected package libsonic0:amd64.\n",
            "Preparing to unpack .../06-libsonic0_0.2.0-6_amd64.deb ...\n",
            "Unpacking libsonic0:amd64 (0.2.0-6) ...\n",
            "Selecting previously unselected package espeak-ng-data:amd64.\n",
            "Preparing to unpack .../07-espeak-ng-data_1.49.2+dfsg-1_amd64.deb ...\n",
            "Unpacking espeak-ng-data:amd64 (1.49.2+dfsg-1) ...\n",
            "Selecting previously unselected package libespeak-ng1:amd64.\n",
            "Preparing to unpack .../08-libespeak-ng1_1.49.2+dfsg-1_amd64.deb ...\n",
            "Unpacking libespeak-ng1:amd64 (1.49.2+dfsg-1) ...\n",
            "Selecting previously unselected package espeak-ng.\n",
            "Preparing to unpack .../09-espeak-ng_1.49.2+dfsg-1_amd64.deb ...\n",
            "Unpacking espeak-ng (1.49.2+dfsg-1) ...\n",
            "Selecting previously unselected package libestools2.5:amd64.\n",
            "Preparing to unpack .../10-libestools2.5_1%3a2.5.0-4_amd64.deb ...\n",
            "Unpacking libestools2.5:amd64 (1:2.5.0-4) ...\n",
            "Selecting previously unselected package festival.\n",
            "Preparing to unpack .../11-festival_1%3a2.5.0-1_amd64.deb ...\n",
            "Unpacking festival (1:2.5.0-1) ...\n",
            "Selecting previously unselected package festlex-cmu.\n",
            "Preparing to unpack .../12-festlex-cmu_2.4-1_all.deb ...\n",
            "Unpacking festlex-cmu (2.4-1) ...\n",
            "Selecting previously unselected package festlex-poslex.\n",
            "Preparing to unpack .../13-festlex-poslex_2.4-1_all.deb ...\n",
            "Unpacking festlex-poslex (2.4-1) ...\n",
            "Selecting previously unselected package mbrola.\n",
            "Preparing to unpack .../14-mbrola_3.01h+2-3_amd64.deb ...\n",
            "Unpacking mbrola (3.01h+2-3) ...\n",
            "Selecting previously unselected package festvox-kallpc16k.\n",
            "Preparing to unpack .../15-festvox-kallpc16k_2.4-1_all.deb ...\n",
            "Unpacking festvox-kallpc16k (2.4-1) ...\n",
            "Setting up mbrola (3.01h+2-3) ...\n",
            "Setting up libestools2.5:amd64 (1:2.5.0-4) ...\n",
            "Setting up sgml-base (1.29) ...\n",
            "Setting up libsonic0:amd64 (0.2.0-6) ...\n",
            "Setting up libpcaudio0 (1.0-1) ...\n",
            "Setting up espeak-ng-data:amd64 (1.49.2+dfsg-1) ...\n",
            "Setting up libfftw3-single3:amd64 (3.3.7-1) ...\n",
            "Setting up libnewt0.52:amd64 (0.52.20-1ubuntu1) ...\n",
            "update-alternatives: using /etc/newt/palette.ubuntu to provide /etc/newt/palette (newt-palette) in auto mode\n",
            "Setting up whiptail (0.52.20-1ubuntu1) ...\n",
            "Setting up alsa-utils (1.1.3-1ubuntu1) ...\n",
            "Setting up libespeak-ng1:amd64 (1.49.2+dfsg-1) ...\n",
            "Setting up festival (1:2.5.0-1) ...\n",
            "Setting up espeak-ng (1.49.2+dfsg-1) ...\n",
            "Processing triggers for libc-bin (2.27-3ubuntu1.2) ...\n",
            "/sbin/ldconfig.real: /usr/local/lib/python3.6/dist-packages/ideep4py/lib/libmkldnn.so.0 is not a symbolic link\n",
            "\n",
            "Processing triggers for systemd (237-3ubuntu10.42) ...\n",
            "Processing triggers for man-db (2.8.3-2ubuntu0.1) ...\n",
            "Processing triggers for sgml-base (1.29) ...\n",
            "Setting up festlex-cmu (2.4-1) ...\n",
            "Setting up festlex-poslex (2.4-1) ...\n",
            "Setting up festvox-kallpc16k (2.4-1) ...\n",
            "Collecting pytorch-lightning\n",
            "\u001b[?25l  Downloading https://files.pythonhosted.org/packages/11/4e/f140116edfd8fc30c5cca3921b84be60a68d86353b6c5543e539cb2a08af/pytorch_lightning-1.0.7-py3-none-any.whl (557kB)\n",
            "\u001b[K     |████████████████████████████████| 563kB 9.0MB/s \n",
            "\u001b[?25hRequirement already satisfied: torch>=1.3 in /usr/local/lib/python3.6/dist-packages (from pytorch-lightning) (1.7.0+cu101)\n",
            "Collecting PyYAML>=5.1\n",
            "\u001b[?25l  Downloading https://files.pythonhosted.org/packages/64/c2/b80047c7ac2478f9501676c988a5411ed5572f35d1beff9cae07d321512c/PyYAML-5.3.1.tar.gz (269kB)\n",
            "\u001b[K     |████████████████████████████████| 276kB 13.3MB/s \n",
            "\u001b[?25hRequirement already satisfied: tqdm>=4.41.0 in /usr/local/lib/python3.6/dist-packages (from pytorch-lightning) (4.41.1)\n",
            "Requirement already satisfied: tensorboard>=2.2.0 in /usr/local/lib/python3.6/dist-packages (from pytorch-lightning) (2.3.0)\n",
            "Requirement already satisfied: numpy>=1.16.4 in /usr/local/lib/python3.6/dist-packages (from pytorch-lightning) (1.18.5)\n",
            "Collecting future>=0.17.1\n",
            "\u001b[?25l  Downloading https://files.pythonhosted.org/packages/45/0b/38b06fd9b92dc2b68d58b75f900e97884c45bedd2ff83203d933cf5851c9/future-0.18.2.tar.gz (829kB)\n",
            "\u001b[K     |████████████████████████████████| 829kB 15.2MB/s \n",
            "\u001b[?25hCollecting fsspec>=0.8.0\n",
            "\u001b[?25l  Downloading https://files.pythonhosted.org/packages/a5/8b/1df260f860f17cb08698170153ef7db672c497c1840dcc8613ce26a8a005/fsspec-0.8.4-py3-none-any.whl (91kB)\n",
            "\u001b[K     |████████████████████████████████| 92kB 12.5MB/s \n",
            "\u001b[?25hRequirement already satisfied: typing-extensions in /usr/local/lib/python3.6/dist-packages (from torch>=1.3->pytorch-lightning) (3.7.4.3)\n",
            "Requirement already satisfied: dataclasses in /usr/local/lib/python3.6/dist-packages (from torch>=1.3->pytorch-lightning) (0.7)\n",
            "Requirement already satisfied: werkzeug>=0.11.15 in /usr/local/lib/python3.6/dist-packages (from tensorboard>=2.2.0->pytorch-lightning) (1.0.1)\n",
            "Requirement already satisfied: setuptools>=41.0.0 in /usr/local/lib/python3.6/dist-packages (from tensorboard>=2.2.0->pytorch-lightning) (50.3.2)\n",
            "Requirement already satisfied: absl-py>=0.4 in /usr/local/lib/python3.6/dist-packages (from tensorboard>=2.2.0->pytorch-lightning) (0.10.0)\n",
            "Requirement already satisfied: markdown>=2.6.8 in /usr/local/lib/python3.6/dist-packages (from tensorboard>=2.2.0->pytorch-lightning) (3.3.3)\n",
            "Requirement already satisfied: tensorboard-plugin-wit>=1.6.0 in /usr/local/lib/python3.6/dist-packages (from tensorboard>=2.2.0->pytorch-lightning) (1.7.0)\n",
            "Requirement already satisfied: wheel>=0.26; python_version >= \"3\" in /usr/local/lib/python3.6/dist-packages (from tensorboard>=2.2.0->pytorch-lightning) (0.35.1)\n",
            "Requirement already satisfied: six>=1.10.0 in /usr/local/lib/python3.6/dist-packages (from tensorboard>=2.2.0->pytorch-lightning) (1.15.0)\n",
            "Requirement already satisfied: protobuf>=3.6.0 in /usr/local/lib/python3.6/dist-packages (from tensorboard>=2.2.0->pytorch-lightning) (3.12.4)\n",
            "Requirement already satisfied: google-auth<2,>=1.6.3 in /usr/local/lib/python3.6/dist-packages (from tensorboard>=2.2.0->pytorch-lightning) (1.17.2)\n",
            "Requirement already satisfied: google-auth-oauthlib<0.5,>=0.4.1 in /usr/local/lib/python3.6/dist-packages (from tensorboard>=2.2.0->pytorch-lightning) (0.4.2)\n",
            "Requirement already satisfied: requests<3,>=2.21.0 in /usr/local/lib/python3.6/dist-packages (from tensorboard>=2.2.0->pytorch-lightning) (2.23.0)\n",
            "Requirement already satisfied: grpcio>=1.24.3 in /usr/local/lib/python3.6/dist-packages (from tensorboard>=2.2.0->pytorch-lightning) (1.33.2)\n",
            "Requirement already satisfied: importlib-metadata; python_version < \"3.8\" in /usr/local/lib/python3.6/dist-packages (from markdown>=2.6.8->tensorboard>=2.2.0->pytorch-lightning) (2.0.0)\n",
            "Requirement already satisfied: cachetools<5.0,>=2.0.0 in /usr/local/lib/python3.6/dist-packages (from google-auth<2,>=1.6.3->tensorboard>=2.2.0->pytorch-lightning) (4.1.1)\n",
            "Requirement already satisfied: rsa<5,>=3.1.4; python_version >= \"3\" in /usr/local/lib/python3.6/dist-packages (from google-auth<2,>=1.6.3->tensorboard>=2.2.0->pytorch-lightning) (4.6)\n",
            "Requirement already satisfied: pyasn1-modules>=0.2.1 in /usr/local/lib/python3.6/dist-packages (from google-auth<2,>=1.6.3->tensorboard>=2.2.0->pytorch-lightning) (0.2.8)\n",
            "Requirement already satisfied: requests-oauthlib>=0.7.0 in /usr/local/lib/python3.6/dist-packages (from google-auth-oauthlib<0.5,>=0.4.1->tensorboard>=2.2.0->pytorch-lightning) (1.3.0)\n",
            "Requirement already satisfied: urllib3!=1.25.0,!=1.25.1,<1.26,>=1.21.1 in /usr/local/lib/python3.6/dist-packages (from requests<3,>=2.21.0->tensorboard>=2.2.0->pytorch-lightning) (1.24.3)\n",
            "Requirement already satisfied: certifi>=2017.4.17 in /usr/local/lib/python3.6/dist-packages (from requests<3,>=2.21.0->tensorboard>=2.2.0->pytorch-lightning) (2020.6.20)\n",
            "Requirement already satisfied: chardet<4,>=3.0.2 in /usr/local/lib/python3.6/dist-packages (from requests<3,>=2.21.0->tensorboard>=2.2.0->pytorch-lightning) (3.0.4)\n",
            "Requirement already satisfied: idna<3,>=2.5 in /usr/local/lib/python3.6/dist-packages (from requests<3,>=2.21.0->tensorboard>=2.2.0->pytorch-lightning) (2.10)\n",
            "Requirement already satisfied: zipp>=0.5 in /usr/local/lib/python3.6/dist-packages (from importlib-metadata; python_version < \"3.8\"->markdown>=2.6.8->tensorboard>=2.2.0->pytorch-lightning) (3.4.0)\n",
            "Requirement already satisfied: pyasn1>=0.1.3 in /usr/local/lib/python3.6/dist-packages (from rsa<5,>=3.1.4; python_version >= \"3\"->google-auth<2,>=1.6.3->tensorboard>=2.2.0->pytorch-lightning) (0.4.8)\n",
            "Requirement already satisfied: oauthlib>=3.0.0 in /usr/local/lib/python3.6/dist-packages (from requests-oauthlib>=0.7.0->google-auth-oauthlib<0.5,>=0.4.1->tensorboard>=2.2.0->pytorch-lightning) (3.1.0)\n",
            "Building wheels for collected packages: PyYAML, future\n",
            "  Building wheel for PyYAML (setup.py) ... \u001b[?25l\u001b[?25hdone\n",
            "  Created wheel for PyYAML: filename=PyYAML-5.3.1-cp36-cp36m-linux_x86_64.whl size=44619 sha256=6ed440708c1061472b30e56856d0d56e357cb94f9095d31fcf6bc516f98a05af\n",
            "  Stored in directory: /root/.cache/pip/wheels/a7/c1/ea/cf5bd31012e735dc1dfea3131a2d5eae7978b251083d6247bd\n",
            "  Building wheel for future (setup.py) ... \u001b[?25l\u001b[?25hdone\n",
            "  Created wheel for future: filename=future-0.18.2-cp36-none-any.whl size=491057 sha256=59e7b38b7ace451dcd97457d100ed80a982964cb93a87d78596bd2779530dc09\n",
            "  Stored in directory: /root/.cache/pip/wheels/8b/99/a0/81daf51dcd359a9377b110a8a886b3895921802d2fc1b2397e\n",
            "Successfully built PyYAML future\n",
            "Installing collected packages: PyYAML, future, fsspec, pytorch-lightning\n",
            "  Found existing installation: PyYAML 3.13\n",
            "    Uninstalling PyYAML-3.13:\n",
            "      Successfully uninstalled PyYAML-3.13\n",
            "  Found existing installation: future 0.16.0\n",
            "    Uninstalling future-0.16.0:\n",
            "      Successfully uninstalled future-0.16.0\n",
            "Successfully installed PyYAML-5.3.1 fsspec-0.8.4 future-0.18.2 pytorch-lightning-1.0.7\n",
            "Collecting comet-ml\n",
            "\u001b[?25l  Downloading https://files.pythonhosted.org/packages/b8/69/00e1ba86bccb52fda00f8f806bf7cdbc41f8461277e0dca5ff9e649541c3/comet_ml-3.2.5-py2.py3-none-any.whl (227kB)\n",
            "\u001b[K     |████████████████████████████████| 235kB 9.9MB/s \n",
            "\u001b[?25hCollecting everett[ini]>=1.0.1; python_version >= \"3.0\"\n",
            "  Downloading https://files.pythonhosted.org/packages/fe/dc/38593280ec30fe1cb2611ec65554b76b68d13582bf490113e3332cdd85ea/everett-1.0.3-py2.py3-none-any.whl\n",
            "Collecting netifaces>=0.10.7\n",
            "  Downloading https://files.pythonhosted.org/packages/0c/9b/c4c7eb09189548d45939a3d3a6b3d53979c67d124459b27a094c365c347f/netifaces-0.10.9-cp36-cp36m-manylinux1_x86_64.whl\n",
            "Collecting wurlitzer>=1.0.2\n",
            "  Downloading https://files.pythonhosted.org/packages/0c/1e/52f4effa64a447c4ec0fb71222799e2ac32c55b4b6c1725fccdf6123146e/wurlitzer-2.0.1-py2.py3-none-any.whl\n",
            "Requirement already satisfied: requests>=2.18.4 in /usr/local/lib/python3.6/dist-packages (from comet-ml) (2.23.0)\n",
            "Requirement already satisfied: jsonschema!=3.1.0,>=2.6.0 in /usr/local/lib/python3.6/dist-packages (from comet-ml) (2.6.0)\n",
            "Collecting dulwich>=0.20.6; python_version >= \"3.0\"\n",
            "\u001b[?25l  Downloading https://files.pythonhosted.org/packages/c8/b9/5852d47227bb95b495ef6c21b366c119a3275181fa46006a6ba2f50ba79d/dulwich-0.20.11-cp36-cp36m-manylinux2010_x86_64.whl (501kB)\n",
            "\u001b[K     |████████████████████████████████| 501kB 14.1MB/s \n",
            "\u001b[?25hCollecting websocket-client>=0.55.0\n",
            "\u001b[?25l  Downloading https://files.pythonhosted.org/packages/4c/5f/f61b420143ed1c8dc69f9eaec5ff1ac36109d52c80de49d66e0c36c3dfdf/websocket_client-0.57.0-py2.py3-none-any.whl (200kB)\n",
            "\u001b[K     |████████████████████████████████| 204kB 24.2MB/s \n",
            "\u001b[?25hRequirement already satisfied: six in /usr/local/lib/python3.6/dist-packages (from comet-ml) (1.15.0)\n",
            "Requirement already satisfied: wrapt>=1.11.2 in /usr/local/lib/python3.6/dist-packages (from comet-ml) (1.12.1)\n",
            "Requirement already satisfied: nvidia-ml-py3>=7.352.0 in /usr/local/lib/python3.6/dist-packages (from comet-ml) (7.352.0)\n",
            "Collecting configobj; extra == \"ini\"\n",
            "  Downloading https://files.pythonhosted.org/packages/64/61/079eb60459c44929e684fa7d9e2fdca403f67d64dd9dbac27296be2e0fab/configobj-5.0.6.tar.gz\n",
            "Requirement already satisfied: chardet<4,>=3.0.2 in /usr/local/lib/python3.6/dist-packages (from requests>=2.18.4->comet-ml) (3.0.4)\n",
            "Requirement already satisfied: urllib3!=1.25.0,!=1.25.1,<1.26,>=1.21.1 in /usr/local/lib/python3.6/dist-packages (from requests>=2.18.4->comet-ml) (1.24.3)\n",
            "Requirement already satisfied: certifi>=2017.4.17 in /usr/local/lib/python3.6/dist-packages (from requests>=2.18.4->comet-ml) (2020.6.20)\n",
            "Requirement already satisfied: idna<3,>=2.5 in /usr/local/lib/python3.6/dist-packages (from requests>=2.18.4->comet-ml) (2.10)\n",
            "Building wheels for collected packages: configobj\n",
            "  Building wheel for configobj (setup.py) ... \u001b[?25l\u001b[?25hdone\n",
            "  Created wheel for configobj: filename=configobj-5.0.6-cp36-none-any.whl size=34547 sha256=b30041cca98429180aa9e3771d31163dbae1f7ce18bd56127a4984d1bbd208f6\n",
            "  Stored in directory: /root/.cache/pip/wheels/f1/e4/16/4981ca97c2d65106b49861e0b35e2660695be7219a2d351ee0\n",
            "Successfully built configobj\n",
            "Installing collected packages: configobj, everett, netifaces, wurlitzer, dulwich, websocket-client, comet-ml\n",
            "Successfully installed comet-ml-3.2.5 configobj-5.0.6 dulwich-0.20.11 everett-1.0.3 netifaces-0.10.9 websocket-client-0.57.0 wurlitzer-2.0.1\n",
            "Collecting local-attention\n",
            "  Downloading https://files.pythonhosted.org/packages/47/34/21b2a040344a3a785ecee3c268ded02ceb9f8f4a636f20be7729204610a3/local_attention-1.1.1-py3-none-any.whl\n",
            "Requirement already satisfied: torch in /usr/local/lib/python3.6/dist-packages (from local-attention) (1.7.0+cu101)\n",
            "Requirement already satisfied: numpy in /usr/local/lib/python3.6/dist-packages (from torch->local-attention) (1.18.5)\n",
            "Requirement already satisfied: typing-extensions in /usr/local/lib/python3.6/dist-packages (from torch->local-attention) (3.7.4.3)\n",
            "Requirement already satisfied: dataclasses in /usr/local/lib/python3.6/dist-packages (from torch->local-attention) (0.7)\n",
            "Requirement already satisfied: future in /usr/local/lib/python3.6/dist-packages (from torch->local-attention) (0.18.2)\n",
            "Installing collected packages: local-attention\n",
            "Successfully installed local-attention-1.1.1\n",
            "Collecting einops\n",
            "  Downloading https://files.pythonhosted.org/packages/5d/a0/9935e030634bf60ecd572c775f64ace82ceddf2f504a5fd3902438f07090/einops-0.3.0-py2.py3-none-any.whl\n",
            "Installing collected packages: einops\n",
            "Successfully installed einops-0.3.0\n"
          ],
          "name": "stdout"
        }
      ]
    },
    {
      "cell_type": "code",
      "metadata": {
        "id": "WvzGlCkCe8_4",
        "colab": {
          "base_uri": "https://localhost:8080/",
          "height": 35
        },
        "outputId": "0e23cd99-dc92-41f2-eb89-737f2a27abef"
      },
      "source": [
        "from hparams import hyperparams\n",
        "hyperparams.path_dataset_common"
      ],
      "execution_count": null,
      "outputs": [
        {
          "output_type": "execute_result",
          "data": {
            "application/vnd.google.colaboratory.intrinsic+json": {
              "type": "string"
            },
            "text/plain": [
              "'/content/COMMONVOICE'"
            ]
          },
          "metadata": {
            "tags": []
          },
          "execution_count": 1
        }
      ]
    },
    {
      "cell_type": "code",
      "metadata": {
        "id": "0wTbWx5wfzPY",
        "colab": {
          "base_uri": "https://localhost:8080/"
        },
        "outputId": "41eef224-745a-4e97-e92c-72bb6a953b78"
      },
      "source": [
        "from depen import *\n",
        "from model import Multi_Synth_pl\n",
        "from datasets import Common_pl_dataset\n",
        "\n",
        "from pytorch_model_summary import summary\n",
        "from comet_ml import Experiment\n",
        "from pytorch_lightning.loggers import CometLogger\n",
        "from pytorch_lightning import Trainer\n",
        "from pytorch_lightning.callbacks import LearningRateMonitor, ModelCheckpoint"
      ],
      "execution_count": null,
      "outputs": [
        {
          "output_type": "stream",
          "text": [
            "/usr/local/lib/python3.6/dist-packages/torchaudio/backend/utils.py:54: UserWarning: \"sox\" backend is being deprecated. The default backend will be changed to \"sox_io\" backend in 0.8.0 and \"sox\" backend will be removed in 0.9.0. Please migrate to \"sox_io\" backend. Please refer to https://github.com/pytorch/audio/issues/903 for the detail.\n",
            "  '\"sox\" backend is being deprecated. '\n",
            "comet_ml is installed but `COMET_API_KEY` is not set.\n",
            "/usr/local/lib/python3.6/dist-packages/torchaudio/functional.py:318: UserWarning: At least one mel filterbank has all zero values. The value for `n_mels` (128) may be set too high. Or, the value for `n_freqs` (201) may be set too low.\n",
            "  \"At least one mel filterbank has all zero values. \"\n"
          ],
          "name": "stderr"
        }
      ]
    },
    {
      "cell_type": "code",
      "metadata": {
        "id": "Gmz_3499b9B8"
      },
      "source": [
        "seed_e(42)"
      ],
      "execution_count": null,
      "outputs": []
    },
    {
      "cell_type": "code",
      "metadata": {
        "id": "dk8MaLRcZByb",
        "colab": {
          "base_uri": "https://localhost:8080/"
        },
        "outputId": "56764638-c861-4400-e573-7fb93ec2d6da"
      },
      "source": [
        "comet_logger = CometLogger(\n",
        "    save_dir='log/',\n",
        "    api_key=\"23CU99n7TeyZdPeegNDlQ5aHf\",\n",
        "    project_name=\"sound-proj\",\n",
        "    workspace=\"etzelkut\",\n",
        "    # rest_api_key=os.environ[\"COMET_REST_KEY\"], # Optional\n",
        "    # experiment_name=\"default\" # Optional\n",
        ")"
      ],
      "execution_count": null,
      "outputs": [
        {
          "output_type": "stream",
          "text": [
            "CometLogger will be initialized in online mode\n",
            "[INFO] CometLogger will be initialized in online mode\n"
          ],
          "name": "stderr"
        }
      ]
    },
    {
      "cell_type": "code",
      "metadata": {
        "id": "xkCbUmxxbGJ4",
        "colab": {
          "base_uri": "https://localhost:8080/"
        },
        "outputId": "752b7008-0e54-43a9-875c-01e15c3c7ad4"
      },
      "source": [
        "dataset_pl = Common_pl_dataset(hyperparams)\n",
        "dataset_pl.prepare_data()\n",
        "dataset_pl.setup()\n",
        "train_loader = dataset_pl.train_dataloader()\n",
        "steps_per_epoch = int(len(train_loader))\n",
        "print(steps_per_epoch)"
      ],
      "execution_count": null,
      "outputs": [
        {
          "output_type": "stream",
          "text": [
            "download this version \n",
            " en_1932h_2020-06-22 \n",
            "  extract files\n",
            "train set\n",
            "test set multinumber\n",
            "test set multinumber\n",
            "2317\n"
          ],
          "name": "stdout"
        }
      ]
    },
    {
      "cell_type": "code",
      "metadata": {
        "id": "CZyBADabaPqm",
        "colab": {
          "base_uri": "https://localhost:8080/"
        },
        "outputId": "531b7de8-f674-49ec-d076-523e61857ef7"
      },
      "source": [
        "model = Multi_Synth_pl(hyperparams, steps_per_epoch)\n",
        "lr_monitor = LearningRateMonitor(logging_interval='step')"
      ],
      "execution_count": null,
      "outputs": [
        {
          "output_type": "stream",
          "text": [
            "performer\n",
            "glu\n",
            "performer\n",
            "glu\n",
            "performer\n",
            "glu\n"
          ],
          "name": "stdout"
        }
      ]
    },
    {
      "cell_type": "code",
      "metadata": {
        "id": "mFXBUJ--qA38",
        "colab": {
          "base_uri": "https://localhost:8080/",
          "height": 87
        },
        "outputId": "f997eea7-ce7c-473d-a57b-9dd2e62ce255"
      },
      "source": [
        "\"\"\"from modules import Model_Check\n",
        "b_model = Model_Check(hyperparams)\n",
        "\n",
        "text_mask, audio_mask = None, None\n",
        "text_input = torch.zeros((1, 300)).long()\n",
        "audio_input = torch.randn((1, 1, 128, 1602)).long()\n",
        "\n",
        "input = (text_input, text_mask, audio_input, audio_mask)\n",
        "\n",
        "y = b_model(text_input, text_mask, audio_input, audio_mask)\n",
        "print(y.shape)\n",
        "print(summary(b_model, text_input, text_mask, audio_input, audio_mask, show_input=True))\n",
        "c = 0\n",
        "for parameter in model.parameters():\n",
        "    print((parameter.shape))\n",
        "    if len(parameter.shape) == 1:\n",
        "      c += parameter.shape[0]\n",
        "    else:\n",
        "      c += (parameter.shape[0] * parameter.shape[1])\n",
        "c\"\"\""
      ],
      "execution_count": null,
      "outputs": [
        {
          "output_type": "execute_result",
          "data": {
            "application/vnd.google.colaboratory.intrinsic+json": {
              "type": "string"
            },
            "text/plain": [
              "'from modules import Model_Check\\nb_model = Model_Check(hyperparams)\\n\\ntext_mask, audio_mask = None, None\\ntext_input = torch.zeros((1, 300)).long()\\naudio_input = torch.randn((1, 1, 128, 1602)).long()\\n\\ninput = (text_input, text_mask, audio_input, audio_mask)\\n\\ny = b_model(text_input, text_mask, audio_input, audio_mask)\\nprint(y.shape)\\nprint(summary(b_model, text_input, text_mask, audio_input, audio_mask, show_input=True))\\nc = 0\\nfor parameter in model.parameters():\\n    print((parameter.shape))\\n    if len(parameter.shape) == 1:\\n      c += parameter.shape[0]\\n    else:\\n      c += (parameter.shape[0] * parameter.shape[1])\\nc'"
            ]
          },
          "metadata": {
            "tags": []
          },
          "execution_count": 7
        }
      ]
    },
    {
      "cell_type": "code",
      "metadata": {
        "id": "vTn1IxCAqDs2"
      },
      "source": [
        "checkpoint_callback = ModelCheckpoint(monitor=\"train_loss_epoch\", save_last=True, \n",
        "                                      dirpath=\"/content/drive/MyDrive/senior_sound/work/checkpoints/\",\n",
        "                                      filename='sample_model_{epoch}', period=1,)"
      ],
      "execution_count": null,
      "outputs": []
    },
    {
      "cell_type": "code",
      "metadata": {
        "id": "1FS8e_CobEuE",
        "colab": {
          "base_uri": "https://localhost:8080/"
        },
        "outputId": "6c70599c-c23f-4250-a779-1e3169f9a05f"
      },
      "source": [
        "trainer = Trainer(callbacks=[checkpoint_callback, lr_monitor],\n",
        "                    logger=comet_logger,\n",
        "                    gpus=1,\n",
        "                    profiler=True,\n",
        "                    #auto_lr_find=True, #set hparams\n",
        "                    #gradient_clip_val=0.5,\n",
        "                    check_val_every_n_epoch=5,\n",
        "                    #early_stop_callback=True,\n",
        "                    max_epochs = hyperparams.epochs,\n",
        "                    #min_epochs=400,\n",
        "                    progress_bar_refresh_rate = 0,\n",
        "                    deterministic=True,)"
      ],
      "execution_count": null,
      "outputs": [
        {
          "output_type": "stream",
          "text": [
            "GPU available: True, used: True\n",
            "[INFO] GPU available: True, used: True\n",
            "TPU available: False, using: 0 TPU cores\n",
            "[INFO] TPU available: False, using: 0 TPU cores\n",
            "LOCAL_RANK: 0 - CUDA_VISIBLE_DEVICES: [0]\n",
            "[INFO] LOCAL_RANK: 0 - CUDA_VISIBLE_DEVICES: [0]\n"
          ],
          "name": "stderr"
        }
      ]
    },
    {
      "cell_type": "code",
      "metadata": {
        "id": "o5ujpbBIahB3",
        "colab": {
          "base_uri": "https://localhost:8080/"
        },
        "outputId": "0c40ac69-876a-4bbd-fb99-ba486baaa67b"
      },
      "source": [
        "trainer.fit(model, dataset_pl)"
      ],
      "execution_count": null,
      "outputs": [
        {
          "output_type": "stream",
          "text": [
            "/usr/local/lib/python3.6/dist-packages/pytorch_lightning/utilities/distributed.py:45: RuntimeWarning: Found unsupported keys in the lr scheduler dict: ['name']\n",
            "  warnings.warn(*args, **kwargs)\n",
            "COMET INFO: Experiment is live on comet.ml https://www.comet.ml/etzelkut/sound-proj/b89402827eb042d0bd0d1ea1096b594c\n",
            "\n",
            "\n",
            "  | Name    | Type        | Params\n",
            "----------------------------------------\n",
            "0 | network | Model_Check | 5 M   \n",
            "1 | loss    | MSELoss     | 0     \n",
            "[INFO] \n",
            "  | Name    | Type        | Params\n",
            "----------------------------------------\n",
            "0 | network | Model_Check | 5 M   \n",
            "1 | loss    | MSELoss     | 0     \n",
            "/usr/local/lib/python3.6/dist-packages/torch/functional.py:516: UserWarning: stft will require the return_complex parameter be explicitly  specified in a future PyTorch release. Use return_complex=False  to preserve the current behavior or return_complex=True to return  a complex output. (Triggered internally at  /pytorch/aten/src/ATen/native/SpectralOps.cpp:653.)\n",
            "  normalized, onesided, return_complex)\n",
            "/usr/local/lib/python3.6/dist-packages/torch/functional.py:516: UserWarning: The function torch.rfft is deprecated and will be removed in a future PyTorch release. Use the new torch.fft module functions, instead, by importing torch.fft and calling torch.fft.fft or torch.fft.rfft. (Triggered internally at  /pytorch/aten/src/ATen/native/SpectralOps.cpp:590.)\n",
            "  normalized, onesided, return_complex)\n",
            "/usr/local/lib/python3.6/dist-packages/torch/functional.py:516: UserWarning: stft will require the return_complex parameter be explicitly  specified in a future PyTorch release. Use return_complex=False  to preserve the current behavior or return_complex=True to return  a complex output. (Triggered internally at  /pytorch/aten/src/ATen/native/SpectralOps.cpp:653.)\n",
            "  normalized, onesided, return_complex)\n",
            "/usr/local/lib/python3.6/dist-packages/torch/functional.py:516: UserWarning: stft will require the return_complex parameter be explicitly  specified in a future PyTorch release. Use return_complex=False  to preserve the current behavior or return_complex=True to return  a complex output. (Triggered internally at  /pytorch/aten/src/ATen/native/SpectralOps.cpp:653.)\n",
            "  normalized, onesided, return_complex)\n",
            "/usr/local/lib/python3.6/dist-packages/torch/functional.py:516: UserWarning: The function torch.rfft is deprecated and will be removed in a future PyTorch release. Use the new torch.fft module functions, instead, by importing torch.fft and calling torch.fft.fft or torch.fft.rfft. (Triggered internally at  /pytorch/aten/src/ATen/native/SpectralOps.cpp:590.)\n",
            "  normalized, onesided, return_complex)\n",
            "/usr/local/lib/python3.6/dist-packages/torch/functional.py:516: UserWarning: The function torch.rfft is deprecated and will be removed in a future PyTorch release. Use the new torch.fft module functions, instead, by importing torch.fft and calling torch.fft.fft or torch.fft.rfft. (Triggered internally at  /pytorch/aten/src/ATen/native/SpectralOps.cpp:590.)\n",
            "  normalized, onesided, return_complex)\n",
            "/usr/local/lib/python3.6/dist-packages/torch/functional.py:516: UserWarning: stft will require the return_complex parameter be explicitly  specified in a future PyTorch release. Use return_complex=False  to preserve the current behavior or return_complex=True to return  a complex output. (Triggered internally at  /pytorch/aten/src/ATen/native/SpectralOps.cpp:653.)\n",
            "  normalized, onesided, return_complex)\n",
            "/usr/local/lib/python3.6/dist-packages/torch/functional.py:516: UserWarning: The function torch.rfft is deprecated and will be removed in a future PyTorch release. Use the new torch.fft module functions, instead, by importing torch.fft and calling torch.fft.fft or torch.fft.rfft. (Triggered internally at  /pytorch/aten/src/ATen/native/SpectralOps.cpp:590.)\n",
            "  normalized, onesided, return_complex)\n",
            "/usr/local/lib/python3.6/dist-packages/torch/functional.py:516: UserWarning: stft will require the return_complex parameter be explicitly  specified in a future PyTorch release. Use return_complex=False  to preserve the current behavior or return_complex=True to return  a complex output. (Triggered internally at  /pytorch/aten/src/ATen/native/SpectralOps.cpp:653.)\n",
            "  normalized, onesided, return_complex)\n",
            "/usr/local/lib/python3.6/dist-packages/torch/functional.py:516: UserWarning: The function torch.rfft is deprecated and will be removed in a future PyTorch release. Use the new torch.fft module functions, instead, by importing torch.fft and calling torch.fft.fft or torch.fft.rfft. (Triggered internally at  /pytorch/aten/src/ATen/native/SpectralOps.cpp:590.)\n",
            "  normalized, onesided, return_complex)\n",
            "/usr/local/lib/python3.6/dist-packages/torch/functional.py:516: UserWarning: stft will require the return_complex parameter be explicitly  specified in a future PyTorch release. Use return_complex=False  to preserve the current behavior or return_complex=True to return  a complex output. (Triggered internally at  /pytorch/aten/src/ATen/native/SpectralOps.cpp:653.)\n",
            "  normalized, onesided, return_complex)\n",
            "/usr/local/lib/python3.6/dist-packages/torch/functional.py:516: UserWarning: The function torch.rfft is deprecated and will be removed in a future PyTorch release. Use the new torch.fft module functions, instead, by importing torch.fft and calling torch.fft.fft or torch.fft.rfft. (Triggered internally at  /pytorch/aten/src/ATen/native/SpectralOps.cpp:590.)\n",
            "  normalized, onesided, return_complex)\n",
            "/usr/local/lib/python3.6/dist-packages/torch/functional.py:516: UserWarning: stft will require the return_complex parameter be explicitly  specified in a future PyTorch release. Use return_complex=False  to preserve the current behavior or return_complex=True to return  a complex output. (Triggered internally at  /pytorch/aten/src/ATen/native/SpectralOps.cpp:653.)\n",
            "  normalized, onesided, return_complex)\n",
            "/usr/local/lib/python3.6/dist-packages/torch/functional.py:516: UserWarning: The function torch.rfft is deprecated and will be removed in a future PyTorch release. Use the new torch.fft module functions, instead, by importing torch.fft and calling torch.fft.fft or torch.fft.rfft. (Triggered internally at  /pytorch/aten/src/ATen/native/SpectralOps.cpp:590.)\n",
            "  normalized, onesided, return_complex)\n",
            "/usr/local/lib/python3.6/dist-packages/torch/functional.py:516: UserWarning: stft will require the return_complex parameter be explicitly  specified in a future PyTorch release. Use return_complex=False  to preserve the current behavior or return_complex=True to return  a complex output. (Triggered internally at  /pytorch/aten/src/ATen/native/SpectralOps.cpp:653.)\n",
            "  normalized, onesided, return_complex)\n",
            "/usr/local/lib/python3.6/dist-packages/torch/functional.py:516: UserWarning: The function torch.rfft is deprecated and will be removed in a future PyTorch release. Use the new torch.fft module functions, instead, by importing torch.fft and calling torch.fft.fft or torch.fft.rfft. (Triggered internally at  /pytorch/aten/src/ATen/native/SpectralOps.cpp:590.)\n",
            "  normalized, onesided, return_complex)\n",
            "/usr/local/lib/python3.6/dist-packages/torch/functional.py:516: UserWarning: stft will require the return_complex parameter be explicitly  specified in a future PyTorch release. Use return_complex=False  to preserve the current behavior or return_complex=True to return  a complex output. (Triggered internally at  /pytorch/aten/src/ATen/native/SpectralOps.cpp:653.)\n",
            "  normalized, onesided, return_complex)\n",
            "/usr/local/lib/python3.6/dist-packages/torch/functional.py:516: UserWarning: The function torch.rfft is deprecated and will be removed in a future PyTorch release. Use the new torch.fft module functions, instead, by importing torch.fft and calling torch.fft.fft or torch.fft.rfft. (Triggered internally at  /pytorch/aten/src/ATen/native/SpectralOps.cpp:590.)\n",
            "  normalized, onesided, return_complex)\n",
            "/usr/local/lib/python3.6/dist-packages/torch/functional.py:516: UserWarning: stft will require the return_complex parameter be explicitly  specified in a future PyTorch release. Use return_complex=False  to preserve the current behavior or return_complex=True to return  a complex output. (Triggered internally at  /pytorch/aten/src/ATen/native/SpectralOps.cpp:653.)\n",
            "  normalized, onesided, return_complex)\n",
            "/usr/local/lib/python3.6/dist-packages/torch/functional.py:516: UserWarning: The function torch.rfft is deprecated and will be removed in a future PyTorch release. Use the new torch.fft module functions, instead, by importing torch.fft and calling torch.fft.fft or torch.fft.rfft. (Triggered internally at  /pytorch/aten/src/ATen/native/SpectralOps.cpp:590.)\n",
            "  normalized, onesided, return_complex)\n",
            "/usr/local/lib/python3.6/dist-packages/torch/functional.py:516: UserWarning: stft will require the return_complex parameter be explicitly  specified in a future PyTorch release. Use return_complex=False  to preserve the current behavior or return_complex=True to return  a complex output. (Triggered internally at  /pytorch/aten/src/ATen/native/SpectralOps.cpp:653.)\n",
            "  normalized, onesided, return_complex)\n",
            "/usr/local/lib/python3.6/dist-packages/torch/functional.py:516: UserWarning: stft will require the return_complex parameter be explicitly  specified in a future PyTorch release. Use return_complex=False  to preserve the current behavior or return_complex=True to return  a complex output. (Triggered internally at  /pytorch/aten/src/ATen/native/SpectralOps.cpp:653.)\n",
            "  normalized, onesided, return_complex)\n",
            "/usr/local/lib/python3.6/dist-packages/torch/functional.py:516: UserWarning: The function torch.rfft is deprecated and will be removed in a future PyTorch release. Use the new torch.fft module functions, instead, by importing torch.fft and calling torch.fft.fft or torch.fft.rfft. (Triggered internally at  /pytorch/aten/src/ATen/native/SpectralOps.cpp:590.)\n",
            "  normalized, onesided, return_complex)\n",
            "/usr/local/lib/python3.6/dist-packages/torch/functional.py:516: UserWarning: The function torch.rfft is deprecated and will be removed in a future PyTorch release. Use the new torch.fft module functions, instead, by importing torch.fft and calling torch.fft.fft or torch.fft.rfft. (Triggered internally at  /pytorch/aten/src/ATen/native/SpectralOps.cpp:590.)\n",
            "  normalized, onesided, return_complex)\n",
            "/usr/local/lib/python3.6/dist-packages/pytorch_lightning/utilities/distributed.py:45: UserWarning: Detected KeyboardInterrupt, attempting graceful shutdown...\n",
            "  warnings.warn(*args, **kwargs)\n",
            "COMET INFO: ---------------------------\n",
            "COMET INFO: Comet.ml Experiment Summary\n",
            "COMET INFO: ---------------------------\n",
            "COMET INFO:   Data:\n",
            "COMET INFO:     display_summary_level : 1\n",
            "COMET INFO:     url                   : https://www.comet.ml/etzelkut/sound-proj/b89402827eb042d0bd0d1ea1096b594c\n",
            "COMET INFO:   Metrics [count] (min, max):\n",
            "COMET INFO:     lr_scheduler_lr [51] : (4e-05, 4.0013811161144606e-05)\n",
            "COMET INFO:     train_loss_epoch     : 419.1670227050781\n",
            "COMET INFO:     train_loss_step [51] : (10.374246597290039, 1687.9283447265625)\n",
            "COMET INFO:   Parameters:\n",
            "COMET INFO:     attention_type_audio_encoder   : performer\n",
            "COMET INFO:     attention_type_decoder         : performer\n",
            "COMET INFO:     attention_type_text_encoder    : performer\n",
            "COMET INFO:     batch_size                     : 3\n",
            "COMET INFO:     d_ff                           : 512\n",
            "COMET INFO:     d_model_emb                    : 256\n",
            "COMET INFO:     decoder_number                 : 4\n",
            "COMET INFO:     dev_path                       : ph_end_new_my_dev.tsv\n",
            "COMET INFO:     dias_ph                        : True\n",
            "COMET INFO:     dropout                        : 0.1\n",
            "COMET INFO:     drow_train_examples            : 10\n",
            "COMET INFO:     encoder_number                 : 6\n",
            "COMET INFO:     epochs                         : 100\n",
            "COMET INFO:     feedforward_type_audio_encoder : glu\n",
            "COMET INFO:     feedforward_type_decoder       : glu\n",
            "COMET INFO:     feedforward_type_text_encoder  : glu\n",
            "COMET INFO:     freq_mask_param                : 15\n",
            "COMET INFO:     heads                          : 4\n",
            "COMET INFO:     learning_rate                  : 0.001\n",
            "COMET INFO:     local_window_size              : 512\n",
            "COMET INFO:     mel_limit                      : 2500\n",
            "COMET INFO:     n_mels                         : 128\n",
            "COMET INFO:     n_mels_ff                      : 256\n",
            "COMET INFO:     num_workers                    : 4\n",
            "COMET INFO:     orig_sample_rate               : 48000\n",
            "COMET INFO:     path_dataset_common            : /content/COMMONVOICE\n",
            "COMET INFO:     pe_max_len                     : 300\n",
            "COMET INFO:     pe_mels_max_len                : 2500\n",
            "COMET INFO:     reconstructed                  : True\n",
            "COMET INFO:     reconstructed_phoneme          : True\n",
            "COMET INFO:     sampling_rate                  : 48000\n",
            "COMET INFO:     steps_per_epoch                : 2317\n",
            "COMET INFO:     test_path                      : ph_end_new_my_test.tsv\n",
            "COMET INFO:     time_mask_param                : 35\n",
            "COMET INFO:     train_path                     : ph_end_new_my_train.tsv\n",
            "COMET INFO:     vocab                          : 100\n",
            "COMET INFO:   Uploads:\n",
            "COMET INFO:     code                : 1 (2 KB)\n",
            "COMET INFO:     environment details : 1\n",
            "COMET INFO:     filename            : 1\n",
            "COMET INFO:     installed packages  : 1\n",
            "COMET INFO:     notebook            : 1\n",
            "COMET INFO:     os packages         : 1\n",
            "COMET INFO: ---------------------------\n",
            "COMET INFO: Uploading stats to Comet before program termination (may take several seconds)\n",
            "COMET INFO: Waiting for completion of the file uploads (may take several seconds)\n",
            "COMET INFO: Still uploading\n",
            "\n",
            "\n",
            "Profiler Report\n",
            "\n",
            "Action              \t|  Mean duration (s)\t|  Total time (s) \n",
            "-----------------------------------------------------------------\n",
            "on_fit_start        \t|  3.1865e-05     \t|  3.1865e-05     \n",
            "on_validation_start \t|  2.351e-05      \t|  2.351e-05      \n",
            "on_validation_epoch_start\t|  1.1142e-05     \t|  1.1142e-05     \n",
            "on_validation_batch_start\t|  0.0001017      \t|  0.0002034      \n",
            "validation_step_end \t|  3.3434e-05     \t|  6.6868e-05     \n",
            "on_validation_batch_end\t|  2.3297e-05     \t|  4.6595e-05     \n",
            "on_validation_epoch_end\t|  2.5552e-05     \t|  2.5552e-05     \n",
            "on_validation_end   \t|  4.9029e-05     \t|  4.9029e-05     \n",
            "on_train_start      \t|  5.5223e-05     \t|  5.5223e-05     \n",
            "on_epoch_start      \t|  1.5485e-05     \t|  3.097e-05      \n",
            "on_train_epoch_start\t|  9.3575e-06     \t|  1.8715e-05     \n",
            "get_train_batch     \t|  0.012939       \t|  33.046         \n",
            "on_batch_start      \t|  4.6655e-05     \t|  0.11916        \n",
            "on_train_batch_start\t|  3.1816e-05     \t|  0.081258       \n",
            "training_step_end   \t|  2.9846e-05     \t|  0.076226       \n",
            "model_forward       \t|  0.21184        \t|  541.05         \n",
            "model_backward      \t|  0.47235        \t|  1206.4         \n",
            "on_after_backward   \t|  3.1709e-05     \t|  0.080952       \n",
            "optimizer_step      \t|  1.1477         \t|  2931.2         \n",
            "on_batch_end        \t|  3.3626e-05     \t|  0.085848       \n",
            "on_train_batch_end  \t|  1.5185e-05     \t|  0.038767       \n",
            "on_epoch_end        \t|  3.3563e-05     \t|  3.3563e-05     \n",
            "on_train_epoch_end  \t|  2.5338e-05     \t|  2.5338e-05     \n",
            "on_train_end        \t|  4.5292e-05     \t|  4.5292e-05     \n",
            "\n",
            "[INFO] \n",
            "\n",
            "Profiler Report\n",
            "\n",
            "Action              \t|  Mean duration (s)\t|  Total time (s) \n",
            "-----------------------------------------------------------------\n",
            "on_fit_start        \t|  3.1865e-05     \t|  3.1865e-05     \n",
            "on_validation_start \t|  2.351e-05      \t|  2.351e-05      \n",
            "on_validation_epoch_start\t|  1.1142e-05     \t|  1.1142e-05     \n",
            "on_validation_batch_start\t|  0.0001017      \t|  0.0002034      \n",
            "validation_step_end \t|  3.3434e-05     \t|  6.6868e-05     \n",
            "on_validation_batch_end\t|  2.3297e-05     \t|  4.6595e-05     \n",
            "on_validation_epoch_end\t|  2.5552e-05     \t|  2.5552e-05     \n",
            "on_validation_end   \t|  4.9029e-05     \t|  4.9029e-05     \n",
            "on_train_start      \t|  5.5223e-05     \t|  5.5223e-05     \n",
            "on_epoch_start      \t|  1.5485e-05     \t|  3.097e-05      \n",
            "on_train_epoch_start\t|  9.3575e-06     \t|  1.8715e-05     \n",
            "get_train_batch     \t|  0.012939       \t|  33.046         \n",
            "on_batch_start      \t|  4.6655e-05     \t|  0.11916        \n",
            "on_train_batch_start\t|  3.1816e-05     \t|  0.081258       \n",
            "training_step_end   \t|  2.9846e-05     \t|  0.076226       \n",
            "model_forward       \t|  0.21184        \t|  541.05         \n",
            "model_backward      \t|  0.47235        \t|  1206.4         \n",
            "on_after_backward   \t|  3.1709e-05     \t|  0.080952       \n",
            "optimizer_step      \t|  1.1477         \t|  2931.2         \n",
            "on_batch_end        \t|  3.3626e-05     \t|  0.085848       \n",
            "on_train_batch_end  \t|  1.5185e-05     \t|  0.038767       \n",
            "on_epoch_end        \t|  3.3563e-05     \t|  3.3563e-05     \n",
            "on_train_epoch_end  \t|  2.5338e-05     \t|  2.5338e-05     \n",
            "on_train_end        \t|  4.5292e-05     \t|  4.5292e-05     \n",
            "\n"
          ],
          "name": "stderr"
        },
        {
          "output_type": "execute_result",
          "data": {
            "text/plain": [
              "1"
            ]
          },
          "metadata": {
            "tags": []
          },
          "execution_count": 10
        }
      ]
    },
    {
      "cell_type": "code",
      "metadata": {
        "id": "cKo8m3QgcFL_",
        "colab": {
          "base_uri": "https://localhost:8080/"
        },
        "outputId": "898649c9-0a8c-4fca-edb1-2963366dcedf"
      },
      "source": [
        "trainer.test()"
      ],
      "execution_count": null,
      "outputs": [
        {
          "output_type": "stream",
          "text": [
            "/usr/local/lib/python3.6/dist-packages/pytorch_lightning/utilities/distributed.py:45: RuntimeWarning: Found unsupported keys in the lr scheduler dict: ['name']\n",
            "  warnings.warn(*args, **kwargs)\n",
            "COMET INFO: Experiment is live on comet.ml https://www.comet.ml/etzelkut/sound-proj/d05a04c32d2b4a31b0554477878dd15f\n",
            "\n",
            "/usr/local/lib/python3.6/dist-packages/torch/functional.py:516: UserWarning: stft will require the return_complex parameter be explicitly  specified in a future PyTorch release. Use return_complex=False  to preserve the current behavior or return_complex=True to return  a complex output. (Triggered internally at  /pytorch/aten/src/ATen/native/SpectralOps.cpp:653.)\n",
            "  normalized, onesided, return_complex)\n",
            "/usr/local/lib/python3.6/dist-packages/torch/functional.py:516: UserWarning: stft will require the return_complex parameter be explicitly  specified in a future PyTorch release. Use return_complex=False  to preserve the current behavior or return_complex=True to return  a complex output. (Triggered internally at  /pytorch/aten/src/ATen/native/SpectralOps.cpp:653.)\n",
            "  normalized, onesided, return_complex)\n",
            "/usr/local/lib/python3.6/dist-packages/torch/functional.py:516: UserWarning: The function torch.rfft is deprecated and will be removed in a future PyTorch release. Use the new torch.fft module functions, instead, by importing torch.fft and calling torch.fft.fft or torch.fft.rfft. (Triggered internally at  /pytorch/aten/src/ATen/native/SpectralOps.cpp:590.)\n",
            "  normalized, onesided, return_complex)\n",
            "/usr/local/lib/python3.6/dist-packages/torch/functional.py:516: UserWarning: The function torch.rfft is deprecated and will be removed in a future PyTorch release. Use the new torch.fft module functions, instead, by importing torch.fft and calling torch.fft.fft or torch.fft.rfft. (Triggered internally at  /pytorch/aten/src/ATen/native/SpectralOps.cpp:590.)\n",
            "  normalized, onesided, return_complex)\n",
            "/usr/local/lib/python3.6/dist-packages/torch/functional.py:516: UserWarning: stft will require the return_complex parameter be explicitly  specified in a future PyTorch release. Use return_complex=False  to preserve the current behavior or return_complex=True to return  a complex output. (Triggered internally at  /pytorch/aten/src/ATen/native/SpectralOps.cpp:653.)\n",
            "  normalized, onesided, return_complex)\n",
            "/usr/local/lib/python3.6/dist-packages/torch/functional.py:516: UserWarning: The function torch.rfft is deprecated and will be removed in a future PyTorch release. Use the new torch.fft module functions, instead, by importing torch.fft and calling torch.fft.fft or torch.fft.rfft. (Triggered internally at  /pytorch/aten/src/ATen/native/SpectralOps.cpp:590.)\n",
            "  normalized, onesided, return_complex)\n",
            "/usr/local/lib/python3.6/dist-packages/torch/functional.py:516: UserWarning: stft will require the return_complex parameter be explicitly  specified in a future PyTorch release. Use return_complex=False  to preserve the current behavior or return_complex=True to return  a complex output. (Triggered internally at  /pytorch/aten/src/ATen/native/SpectralOps.cpp:653.)\n",
            "  normalized, onesided, return_complex)\n",
            "/usr/local/lib/python3.6/dist-packages/torch/functional.py:516: UserWarning: The function torch.rfft is deprecated and will be removed in a future PyTorch release. Use the new torch.fft module functions, instead, by importing torch.fft and calling torch.fft.fft or torch.fft.rfft. (Triggered internally at  /pytorch/aten/src/ATen/native/SpectralOps.cpp:590.)\n",
            "  normalized, onesided, return_complex)\n"
          ],
          "name": "stderr"
        },
        {
          "output_type": "stream",
          "text": [
            "--------------------------------------------------------------------------------\n",
            "DATALOADER:0 TEST RESULTS\n",
            "{'test_loss': tensor(749.1830, device='cuda:0'),\n",
            " 'train_loss': tensor(215.6214, device='cuda:0'),\n",
            " 'train_loss_epoch': tensor(403.4749, device='cuda:0'),\n",
            " 'train_loss_step': tensor(215.6214, device='cuda:0')}\n",
            "--------------------------------------------------------------------------------\n"
          ],
          "name": "stdout"
        },
        {
          "output_type": "execute_result",
          "data": {
            "text/plain": [
              "[{'test_loss': 749.1829833984375,\n",
              "  'train_loss': 215.62142944335938,\n",
              "  'train_loss_epoch': 403.47491455078125,\n",
              "  'train_loss_step': 215.62142944335938}]"
            ]
          },
          "metadata": {
            "tags": []
          },
          "execution_count": 10
        }
      ]
    },
    {
      "cell_type": "code",
      "metadata": {
        "id": "fXoyRoxm7S0u"
      },
      "source": [
        "#'test_loss': 719.5844116210938,\n",
        "#test_loss': 724.29150390625\n",
        "#test_loss': 742.3584594726562"
      ],
      "execution_count": null,
      "outputs": []
    }
  ]
}