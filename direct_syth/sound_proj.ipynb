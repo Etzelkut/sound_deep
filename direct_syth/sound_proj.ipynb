{
  "nbformat": 4,
  "nbformat_minor": 0,
  "metadata": {
    "colab": {
      "name": "sound_proj.ipynb",
      "provenance": [],
      "collapsed_sections": []
    },
    "kernelspec": {
      "display_name": "Python 3",
      "name": "python3"
    },
    "accelerator": "GPU"
  },
  "cells": [
    {
      "cell_type": "code",
      "metadata": {
        "colab": {
          "base_uri": "https://localhost:8080/",
          "height": 105
        },
        "id": "4tRlK-8Q87v6",
        "outputId": "13794e8e-b79c-4f7e-fa67-669b411267dd"
      },
      "source": [
        "\"\"\"t = torchaudio.transforms.MelSpectrogram(sample_rate=48000, n_mels=128)\n",
        "path = \"/content/COMMONVOICE\"\n",
        "TSV = \"my_test.tsv\"\n",
        "\n",
        "tsvm = os.path.join(path, TSV)\n",
        "df = pd.read_csv(tsvm, sep=\"\\t\")\n",
        "strings = df['path'].values\n",
        "folder = os.path.join(path, \"clips\")\n",
        "\n",
        "mel_l, wav_l = [], []\n",
        "i = 0\n",
        "print(len(strings))\n",
        "for names in strings:\n",
        "  filename = os.path.join(folder,names)\n",
        "  waveform, sample_rate = torchaudio.load(filename)\n",
        "  mel = t(waveform)\n",
        "  mel_l.append(mel.shape[2])\n",
        "  wav_l.append(waveform.shape[1])\n",
        "  i+=1\n",
        "  if i%100 == 0:\n",
        "    print(i)\n",
        "\n",
        "df[\"mel_l\"] = mel_l\n",
        "df[\"wav_l\"] = wav_l\n",
        "new_TSV = \"new_\" + TSV\n",
        "tsvm = os.path.join(\"/content/drive/MyDrive/senior_sound/work\", new_TSV)\n",
        "df.to_csv(tsvm, sep = '\\t', index=False)\"\"\""
      ],
      "execution_count": null,
      "outputs": [
        {
          "output_type": "execute_result",
          "data": {
            "application/vnd.google.colaboratory.intrinsic+json": {
              "type": "string"
            },
            "text/plain": [
              "'t = torchaudio.transforms.MelSpectrogram(sample_rate=48000, n_mels=128)\\npath = \"/content/COMMONVOICE\"\\nTSV = \"my_test.tsv\"\\n\\ntsvm = os.path.join(path, TSV)\\ndf = pd.read_csv(tsvm, sep=\"\\t\")\\nstrings = df[\\'path\\'].values\\nfolder = os.path.join(path, \"clips\")\\n\\nmel_l, wav_l = [], []\\ni = 0\\nprint(len(strings))\\nfor names in strings:\\n  filename = os.path.join(folder,names)\\n  waveform, sample_rate = torchaudio.load(filename)\\n  mel = t(waveform)\\n  mel_l.append(mel.shape[2])\\n  wav_l.append(waveform.shape[1])\\n  i+=1\\n  if i%100 == 0:\\n    print(i)\\n\\ndf[\"mel_l\"] = mel_l\\ndf[\"wav_l\"] = wav_l\\nnew_TSV = \"new_\" + TSV\\ntsvm = os.path.join(\"/content/drive/MyDrive/senior_sound/work\", new_TSV)\\ndf.to_csv(tsvm, sep = \\'\\t\\', index=False)'"
            ]
          },
          "metadata": {
            "tags": []
          },
          "execution_count": 1
        }
      ]
    },
    {
      "cell_type": "code",
      "metadata": {
        "id": "mFXBUJ--qA38",
        "colab": {
          "base_uri": "https://localhost:8080/",
          "height": 87
        },
        "outputId": "ecb61dc7-3216-4d6e-bcb1-2f95437c91fd"
      },
      "source": [
        "\"\"\"from modules import Model_Check\n",
        "b_model = Model_Check(hyperparams)\n",
        "\n",
        "text_mask, audio_mask = None, None\n",
        "text_input = torch.zeros((1, 300)).long()\n",
        "audio_input = torch.randn((1, 1, 128, 1602)).long()\n",
        "\n",
        "input = (text_input, text_mask, audio_input, audio_mask)\n",
        "\n",
        "y = b_model(text_input, text_mask, audio_input, audio_mask)\n",
        "print(y.shape)\n",
        "print(summary(b_model, text_input, text_mask, audio_input, audio_mask, show_input=True))\n",
        "c = 0\n",
        "for parameter in model.parameters():\n",
        "    print((parameter.shape))\n",
        "    if len(parameter.shape) == 1:\n",
        "      c += parameter.shape[0]\n",
        "    else:\n",
        "      c += (parameter.shape[0] * parameter.shape[1])\n",
        "c\"\"\""
      ],
      "execution_count": null,
      "outputs": [
        {
          "output_type": "execute_result",
          "data": {
            "application/vnd.google.colaboratory.intrinsic+json": {
              "type": "string"
            },
            "text/plain": [
              "'from modules import Model_Check\\nb_model = Model_Check(hyperparams)\\n\\ntext_mask, audio_mask = None, None\\ntext_input = torch.zeros((1, 300)).long()\\naudio_input = torch.randn((1, 1, 128, 1602)).long()\\n\\ninput = (text_input, text_mask, audio_input, audio_mask)\\n\\ny = b_model(text_input, text_mask, audio_input, audio_mask)\\nprint(y.shape)\\nprint(summary(b_model, text_input, text_mask, audio_input, audio_mask, show_input=True))\\nc = 0\\nfor parameter in model.parameters():\\n    print((parameter.shape))\\n    if len(parameter.shape) == 1:\\n      c += parameter.shape[0]\\n    else:\\n      c += (parameter.shape[0] * parameter.shape[1])\\nc'"
            ]
          },
          "metadata": {
            "tags": []
          },
          "execution_count": 2
        }
      ]
    },
    {
      "cell_type": "code",
      "metadata": {
        "id": "n1oxwUhgDHkH"
      },
      "source": [
        "#!wget -c https://voice-prod-bundler-ee1969a6ce8178826482b88e843c335139bd3fb4.s3.amazonaws.com/cv-corpus-5.1-2020-06-22/en.tar.gz -P\"drive/My Drive/senior_sound/work\"\n",
        "#!tar -xf \"drive/My Drive/senior_sound/work/en.tar.gz\" -C \"drive/My Drive/senior_sound/work/COMMONVOICE\"\n",
        "!mkdir COMMONVOICE\n",
        "!cp \"/content/drive/MyDrive/senior_sound/work/c_en_sound.zip\" \"/content/COMMONVOICE\""
      ],
      "execution_count": null,
      "outputs": []
    },
    {
      "cell_type": "code",
      "metadata": {
        "id": "vPZMcnbAUIka"
      },
      "source": [
        "!cp /content/drive/MyDrive/senior_sound/work/{ph_end_new_my_train.tsv,ph_end_new_my_test.tsv,ph_end_new_my_dev.tsv} /content/COMMONVOICE"
      ],
      "execution_count": null,
      "outputs": []
    },
    {
      "cell_type": "code",
      "metadata": {
        "id": "Qq19XSURDzIs"
      },
      "source": [
        "!unzip -n -q \"/content/COMMONVOICE/c_en_sound.zip\" -d \"/content/COMMONVOICE\""
      ],
      "execution_count": null,
      "outputs": []
    },
    {
      "cell_type": "code",
      "metadata": {
        "id": "V6mypqk5d_oR"
      },
      "source": [
        "!pip install librosa\n",
        "!pip install torchaudio #-f https://download.pytorch.org/whl/torch_stable.html\n",
        "#!pip install https://github.com/PytorchLightning/pytorch-lightning/archive/0.9.0.zip --upgrade\n",
        "!pip install pytorch-model-summary\n",
        "!pip install allennlp\n",
        "!pip install phonemizer\n",
        "!apt-get install festival espeak-ng mbrola\n",
        "!pip install pytorch-lightning\n",
        "!pip install comet-ml\n",
        "!pip install local-attention\n",
        "!pip install einops"
      ],
      "execution_count": null,
      "outputs": []
    },
    {
      "cell_type": "code",
      "metadata": {
        "id": "WvzGlCkCe8_4",
        "colab": {
          "base_uri": "https://localhost:8080/",
          "height": 35
        },
        "outputId": "8d46cd1d-edd6-47e6-9d29-bc5a80ca4519"
      },
      "source": [
        "from hparams import hyperparams\n",
        "hyperparams.path_dataset_common"
      ],
      "execution_count": null,
      "outputs": [
        {
          "output_type": "execute_result",
          "data": {
            "application/vnd.google.colaboratory.intrinsic+json": {
              "type": "string"
            },
            "text/plain": [
              "'/content/COMMONVOICE'"
            ]
          },
          "metadata": {
            "tags": []
          },
          "execution_count": 1
        }
      ]
    },
    {
      "cell_type": "code",
      "metadata": {
        "id": "0wTbWx5wfzPY"
      },
      "source": [
        "from depen import *\n",
        "from model import Multi_Synth_pl\n",
        "from datasets import Common_pl_dataset\n",
        "\n",
        "from pytorch_model_summary import summary\n",
        "from comet_ml import Experiment\n",
        "from pytorch_lightning.loggers import CometLogger\n",
        "from pytorch_lightning import Trainer\n",
        "from pytorch_lightning.callbacks import LearningRateMonitor, ModelCheckpoint"
      ],
      "execution_count": null,
      "outputs": []
    },
    {
      "cell_type": "code",
      "metadata": {
        "id": "fWJL1HMKFQ9K"
      },
      "source": [
        "class CheckpointEveryNSteps(pl.Callback):\n",
        "    \"\"\"\n",
        "    Save a checkpoint every N steps, instead of Lightning's default that checkpoints\n",
        "    based on validation loss.\n",
        "    \"\"\"\n",
        "\n",
        "    def __init__(\n",
        "        self,\n",
        "        save_step_frequency,\n",
        "        prefix=\"N-Step-Checkpoint\",\n",
        "        use_modelcheckpoint_filename=False,\n",
        "    ):\n",
        "        \"\"\"\n",
        "        Args:\n",
        "            save_step_frequency: how often to save in steps\n",
        "            prefix: add a prefix to the name, only used if\n",
        "                use_modelcheckpoint_filename=False\n",
        "            use_modelcheckpoint_filename: just use the ModelCheckpoint callback's\n",
        "                default filename, don't use ours.\n",
        "        \"\"\"\n",
        "        self.save_step_frequency = save_step_frequency\n",
        "        self.prefix = prefix\n",
        "        self.use_modelcheckpoint_filename = use_modelcheckpoint_filename\n",
        "\n",
        "    def on_batch_end(self, trainer: pl.Trainer, _):\n",
        "        \"\"\" Check if we should save a checkpoint after every train batch \"\"\"\n",
        "        epoch = trainer.current_epoch\n",
        "        global_step = trainer.global_step\n",
        "        if global_step % self.save_step_frequency == 0:\n",
        "            if self.use_modelcheckpoint_filename:\n",
        "                filename = trainer.checkpoint_callback.filename\n",
        "            else:\n",
        "                filename = f\"{self.prefix}_{epoch}_{global_step}.ckpt\"\n",
        "            ckpt_path = os.path.join(trainer.checkpoint_callback.dirpath, filename)\n",
        "            trainer.save_checkpoint(ckpt_path)"
      ],
      "execution_count": null,
      "outputs": []
    },
    {
      "cell_type": "code",
      "metadata": {
        "id": "Gmz_3499b9B8"
      },
      "source": [
        "seed_e(42)"
      ],
      "execution_count": null,
      "outputs": []
    },
    {
      "cell_type": "code",
      "metadata": {
        "id": "dk8MaLRcZByb",
        "colab": {
          "base_uri": "https://localhost:8080/"
        },
        "outputId": "4c81340c-b096-42a5-e1ca-2b15e6b4408c"
      },
      "source": [
        "comet_logger = CometLogger(\n",
        "    save_dir='/content/log/',\n",
        "    api_key=\"23CU99n7TeyZdPeegNDlQ5aHf\",\n",
        "    project_name=\"sound-proj\",\n",
        "    workspace=\"etzelkut\",\n",
        "    # rest_api_key=os.environ[\"COMET_REST_KEY\"], # Optional\n",
        "    # experiment_name=\"default\" # Optional\n",
        ")"
      ],
      "execution_count": null,
      "outputs": [
        {
          "output_type": "stream",
          "text": [
            "CometLogger will be initialized in online mode\n",
            "[INFO] CometLogger will be initialized in online mode\n"
          ],
          "name": "stderr"
        }
      ]
    },
    {
      "cell_type": "code",
      "metadata": {
        "id": "xkCbUmxxbGJ4",
        "colab": {
          "base_uri": "https://localhost:8080/"
        },
        "outputId": "f8155098-d6a7-40a7-903c-fd4789acd894"
      },
      "source": [
        "dataset_pl = Common_pl_dataset(hyperparams)\n",
        "dataset_pl.prepare_data()\n",
        "dataset_pl.setup()\n",
        "train_loader = dataset_pl.train_dataloader()\n",
        "steps_per_epoch = int(len(train_loader))\n",
        "print(steps_per_epoch)"
      ],
      "execution_count": null,
      "outputs": [
        {
          "output_type": "stream",
          "text": [
            "download this version \n",
            " en_1932h_2020-06-22 \n",
            "  extract files\n",
            "train set\n",
            "test set multinumber\n",
            "test set multinumber\n",
            "3475\n"
          ],
          "name": "stdout"
        }
      ]
    },
    {
      "cell_type": "code",
      "metadata": {
        "id": "vTn1IxCAqDs2"
      },
      "source": [
        "checkpoint_callback = ModelCheckpoint(\n",
        "                                      monitor='val_loss',\n",
        "                                      save_last=True, \n",
        "                                      dirpath= \"/content/drive/MyDrive/senior_sound/gg/\",#os.path.join(path, \"/checkpoints\"),\n",
        "                                      filename='samplemodel{epoch}.ckpt',\n",
        "                                      save_top_k=3,\n",
        "                                      mode='min',\n",
        "                                      )\n",
        "every_epoch = CheckpointEveryNSteps(save_step_frequency = steps_per_epoch, use_modelcheckpoint_filename = True)"
      ],
      "execution_count": null,
      "outputs": []
    },
    {
      "cell_type": "code",
      "metadata": {
        "id": "CZyBADabaPqm",
        "colab": {
          "base_uri": "https://localhost:8080/"
        },
        "outputId": "8aa75945-2b1d-448d-9e47-a0d1ccdc7d59"
      },
      "source": [
        "model = Multi_Synth_pl(hyperparams, steps_per_epoch = steps_per_epoch)\n",
        "#lr_monitor = LearningRateMonitor(logging_interval='step')"
      ],
      "execution_count": null,
      "outputs": [
        {
          "output_type": "stream",
          "text": [
            "performer\n",
            "glu\n",
            "performer\n",
            "glu\n",
            "performer\n",
            "glu\n"
          ],
          "name": "stdout"
        }
      ]
    },
    {
      "cell_type": "code",
      "metadata": {
        "id": "1FS8e_CobEuE",
        "colab": {
          "base_uri": "https://localhost:8080/"
        },
        "outputId": "494f51a5-cef1-4164-f368-6e90add54bb3"
      },
      "source": [
        "trainer = Trainer(callbacks=[checkpoint_callback, every_epoch], #lr_monitor],\n",
        "                    logger=comet_logger,\n",
        "                    gpus=1,\n",
        "                    profiler=True,\n",
        "                    #auto_lr_find=True, #set hparams\n",
        "                    #gradient_clip_val=0.5,\n",
        "                    check_val_every_n_epoch=5,\n",
        "                    #early_stop_callback=True,\n",
        "                    max_epochs = hyperparams.epochs,\n",
        "                    #min_epochs=400,\n",
        "                    progress_bar_refresh_rate = 0,\n",
        "                    deterministic=True,)"
      ],
      "execution_count": null,
      "outputs": [
        {
          "output_type": "stream",
          "text": [
            "GPU available: True, used: True\n",
            "[INFO] GPU available: True, used: True\n",
            "TPU available: False, using: 0 TPU cores\n",
            "[INFO] TPU available: False, using: 0 TPU cores\n",
            "LOCAL_RANK: 0 - CUDA_VISIBLE_DEVICES: [0]\n",
            "[INFO] LOCAL_RANK: 0 - CUDA_VISIBLE_DEVICES: [0]\n"
          ],
          "name": "stderr"
        }
      ]
    },
    {
      "cell_type": "code",
      "metadata": {
        "id": "o5ujpbBIahB3"
      },
      "source": [
        "trainer.fit(model, dataset_pl)"
      ],
      "execution_count": null,
      "outputs": []
    },
    {
      "cell_type": "code",
      "metadata": {
        "id": "4O56mL6OMfYk"
      },
      "source": [
        "checkpoint_name = os.path.join(\"/content/drive/MyDrive/senior_sound/gg\", 'manual_save' + str(228) + '.ckpt')\n",
        "trainer.save_checkpoint(checkpoint_name)"
      ],
      "execution_count": null,
      "outputs": []
    },
    {
      "cell_type": "code",
      "metadata": {
        "id": "cKo8m3QgcFL_"
      },
      "source": [
        "trainer.test()"
      ],
      "execution_count": null,
      "outputs": []
    },
    {
      "cell_type": "code",
      "metadata": {
        "id": "fXoyRoxm7S0u"
      },
      "source": [
        "#'test_loss': 719.5844116210938,\n",
        "#test_loss': 724.29150390625\n",
        "#test_loss': 742.3584594726562"
      ],
      "execution_count": null,
      "outputs": []
    }
  ]
}